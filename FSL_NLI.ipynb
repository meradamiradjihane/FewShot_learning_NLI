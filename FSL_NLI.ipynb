{
  "cells": [
    {
      "cell_type": "markdown",
      "metadata": {
        "id": "FxEKWDuwS9Hg"
      },
      "source": [
        "# 1. Importations et dépendance\n",
        "\n",
        "\n"
      ]
    },
    {
      "cell_type": "code",
      "execution_count": null,
      "metadata": {
        "colab": {
          "base_uri": "https://localhost:8080/",
          "height": 1000
        },
        "collapsed": true,
        "id": "Hc_Isep53vqT",
        "outputId": "15a4a1c8-410c-445e-f5b1-3cb7a4b38e5e"
      },
      "outputs": [
        {
          "name": "stdout",
          "output_type": "stream",
          "text": [
            "Collecting scikit-llm\n",
            "  Downloading scikit_llm-1.4.1-py3-none-any.whl.metadata (4.3 kB)\n",
            "Requirement already satisfied: scikit-learn<2.0.0,>=1.1.0 in /usr/local/lib/python3.11/dist-packages (from scikit-llm) (1.6.1)\n",
            "Requirement already satisfied: pandas<3.0.0,>=1.5.0 in /usr/local/lib/python3.11/dist-packages (from scikit-llm) (2.2.2)\n",
            "Requirement already satisfied: openai<2.0.0,>=1.2.0 in /usr/local/lib/python3.11/dist-packages (from scikit-llm) (1.78.1)\n",
            "Requirement already satisfied: tqdm<5.0.0,>=4.60.0 in /usr/local/lib/python3.11/dist-packages (from scikit-llm) (4.67.1)\n",
            "Requirement already satisfied: google-cloud-aiplatform<2.0.0,>=1.27.0 in /usr/local/lib/python3.11/dist-packages (from google-cloud-aiplatform[pipelines]<2.0.0,>=1.27.0->scikit-llm) (1.92.0)\n",
            "Requirement already satisfied: google-api-core!=2.0.*,!=2.1.*,!=2.2.*,!=2.3.*,!=2.4.*,!=2.5.*,!=2.6.*,!=2.7.*,<3.0.0,>=1.34.1 in /usr/local/lib/python3.11/dist-packages (from google-api-core[grpc]!=2.0.*,!=2.1.*,!=2.2.*,!=2.3.*,!=2.4.*,!=2.5.*,!=2.6.*,!=2.7.*,<3.0.0,>=1.34.1->google-cloud-aiplatform<2.0.0,>=1.27.0->google-cloud-aiplatform[pipelines]<2.0.0,>=1.27.0->scikit-llm) (2.24.2)\n",
            "Requirement already satisfied: google-auth<3.0.0,>=2.14.1 in /usr/local/lib/python3.11/dist-packages (from google-cloud-aiplatform<2.0.0,>=1.27.0->google-cloud-aiplatform[pipelines]<2.0.0,>=1.27.0->scikit-llm) (2.38.0)\n",
            "Requirement already satisfied: proto-plus<2.0.0,>=1.22.3 in /usr/local/lib/python3.11/dist-packages (from google-cloud-aiplatform<2.0.0,>=1.27.0->google-cloud-aiplatform[pipelines]<2.0.0,>=1.27.0->scikit-llm) (1.26.1)\n",
            "Requirement already satisfied: protobuf!=4.21.0,!=4.21.1,!=4.21.2,!=4.21.3,!=4.21.4,!=4.21.5,<7.0.0,>=3.20.2 in /usr/local/lib/python3.11/dist-packages (from google-cloud-aiplatform<2.0.0,>=1.27.0->google-cloud-aiplatform[pipelines]<2.0.0,>=1.27.0->scikit-llm) (5.29.4)\n",
            "Requirement already satisfied: packaging>=14.3 in /usr/local/lib/python3.11/dist-packages (from google-cloud-aiplatform<2.0.0,>=1.27.0->google-cloud-aiplatform[pipelines]<2.0.0,>=1.27.0->scikit-llm) (24.2)\n",
            "Requirement already satisfied: google-cloud-storage<3.0.0,>=1.32.0 in /usr/local/lib/python3.11/dist-packages (from google-cloud-aiplatform<2.0.0,>=1.27.0->google-cloud-aiplatform[pipelines]<2.0.0,>=1.27.0->scikit-llm) (2.19.0)\n",
            "Requirement already satisfied: google-cloud-bigquery!=3.20.0,<4.0.0,>=1.15.0 in /usr/local/lib/python3.11/dist-packages (from google-cloud-aiplatform<2.0.0,>=1.27.0->google-cloud-aiplatform[pipelines]<2.0.0,>=1.27.0->scikit-llm) (3.32.0)\n",
            "Requirement already satisfied: google-cloud-resource-manager<3.0.0,>=1.3.3 in /usr/local/lib/python3.11/dist-packages (from google-cloud-aiplatform<2.0.0,>=1.27.0->google-cloud-aiplatform[pipelines]<2.0.0,>=1.27.0->scikit-llm) (1.14.2)\n",
            "Requirement already satisfied: shapely<3.0.0 in /usr/local/lib/python3.11/dist-packages (from google-cloud-aiplatform<2.0.0,>=1.27.0->google-cloud-aiplatform[pipelines]<2.0.0,>=1.27.0->scikit-llm) (2.1.0)\n",
            "Requirement already satisfied: google-genai<2.0.0,>=1.0.0 in /usr/local/lib/python3.11/dist-packages (from google-cloud-aiplatform<2.0.0,>=1.27.0->google-cloud-aiplatform[pipelines]<2.0.0,>=1.27.0->scikit-llm) (1.15.0)\n",
            "Requirement already satisfied: pydantic<3 in /usr/local/lib/python3.11/dist-packages (from google-cloud-aiplatform<2.0.0,>=1.27.0->google-cloud-aiplatform[pipelines]<2.0.0,>=1.27.0->scikit-llm) (2.11.4)\n",
            "Requirement already satisfied: typing-extensions in /usr/local/lib/python3.11/dist-packages (from google-cloud-aiplatform<2.0.0,>=1.27.0->google-cloud-aiplatform[pipelines]<2.0.0,>=1.27.0->scikit-llm) (4.13.2)\n",
            "Requirement already satisfied: docstring-parser<1 in /usr/local/lib/python3.11/dist-packages (from google-cloud-aiplatform<2.0.0,>=1.27.0->google-cloud-aiplatform[pipelines]<2.0.0,>=1.27.0->scikit-llm) (0.16)\n",
            "Requirement already satisfied: pyyaml<7,>=5.3.1 in /usr/local/lib/python3.11/dist-packages (from google-cloud-aiplatform[pipelines]<2.0.0,>=1.27.0->scikit-llm) (6.0.2)\n",
            "Requirement already satisfied: anyio<5,>=3.5.0 in /usr/local/lib/python3.11/dist-packages (from openai<2.0.0,>=1.2.0->scikit-llm) (4.9.0)\n",
            "Requirement already satisfied: distro<2,>=1.7.0 in /usr/local/lib/python3.11/dist-packages (from openai<2.0.0,>=1.2.0->scikit-llm) (1.9.0)\n",
            "Requirement already satisfied: httpx<1,>=0.23.0 in /usr/local/lib/python3.11/dist-packages (from openai<2.0.0,>=1.2.0->scikit-llm) (0.28.1)\n",
            "Requirement already satisfied: jiter<1,>=0.4.0 in /usr/local/lib/python3.11/dist-packages (from openai<2.0.0,>=1.2.0->scikit-llm) (0.9.0)\n",
            "Requirement already satisfied: sniffio in /usr/local/lib/python3.11/dist-packages (from openai<2.0.0,>=1.2.0->scikit-llm) (1.3.1)\n",
            "Requirement already satisfied: numpy>=1.23.2 in /usr/local/lib/python3.11/dist-packages (from pandas<3.0.0,>=1.5.0->scikit-llm) (2.0.2)\n",
            "Requirement already satisfied: python-dateutil>=2.8.2 in /usr/local/lib/python3.11/dist-packages (from pandas<3.0.0,>=1.5.0->scikit-llm) (2.9.0.post0)\n",
            "Requirement already satisfied: pytz>=2020.1 in /usr/local/lib/python3.11/dist-packages (from pandas<3.0.0,>=1.5.0->scikit-llm) (2025.2)\n",
            "Requirement already satisfied: tzdata>=2022.7 in /usr/local/lib/python3.11/dist-packages (from pandas<3.0.0,>=1.5.0->scikit-llm) (2025.2)\n",
            "Requirement already satisfied: scipy>=1.6.0 in /usr/local/lib/python3.11/dist-packages (from scikit-learn<2.0.0,>=1.1.0->scikit-llm) (1.15.3)\n",
            "Requirement already satisfied: joblib>=1.2.0 in /usr/local/lib/python3.11/dist-packages (from scikit-learn<2.0.0,>=1.1.0->scikit-llm) (1.5.0)\n",
            "Requirement already satisfied: threadpoolctl>=3.1.0 in /usr/local/lib/python3.11/dist-packages (from scikit-learn<2.0.0,>=1.1.0->scikit-llm) (3.6.0)\n",
            "Requirement already satisfied: idna>=2.8 in /usr/local/lib/python3.11/dist-packages (from anyio<5,>=3.5.0->openai<2.0.0,>=1.2.0->scikit-llm) (3.10)\n",
            "Requirement already satisfied: googleapis-common-protos<2.0.0,>=1.56.2 in /usr/local/lib/python3.11/dist-packages (from google-api-core!=2.0.*,!=2.1.*,!=2.2.*,!=2.3.*,!=2.4.*,!=2.5.*,!=2.6.*,!=2.7.*,<3.0.0,>=1.34.1->google-api-core[grpc]!=2.0.*,!=2.1.*,!=2.2.*,!=2.3.*,!=2.4.*,!=2.5.*,!=2.6.*,!=2.7.*,<3.0.0,>=1.34.1->google-cloud-aiplatform<2.0.0,>=1.27.0->google-cloud-aiplatform[pipelines]<2.0.0,>=1.27.0->scikit-llm) (1.70.0)\n",
            "Requirement already satisfied: requests<3.0.0,>=2.18.0 in /usr/local/lib/python3.11/dist-packages (from google-api-core!=2.0.*,!=2.1.*,!=2.2.*,!=2.3.*,!=2.4.*,!=2.5.*,!=2.6.*,!=2.7.*,<3.0.0,>=1.34.1->google-api-core[grpc]!=2.0.*,!=2.1.*,!=2.2.*,!=2.3.*,!=2.4.*,!=2.5.*,!=2.6.*,!=2.7.*,<3.0.0,>=1.34.1->google-cloud-aiplatform<2.0.0,>=1.27.0->google-cloud-aiplatform[pipelines]<2.0.0,>=1.27.0->scikit-llm) (2.32.3)\n",
            "Requirement already satisfied: grpcio<2.0dev,>=1.33.2 in /usr/local/lib/python3.11/dist-packages (from google-api-core[grpc]!=2.0.*,!=2.1.*,!=2.2.*,!=2.3.*,!=2.4.*,!=2.5.*,!=2.6.*,!=2.7.*,<3.0.0,>=1.34.1->google-cloud-aiplatform<2.0.0,>=1.27.0->google-cloud-aiplatform[pipelines]<2.0.0,>=1.27.0->scikit-llm) (1.71.0)\n",
            "Requirement already satisfied: grpcio-status<2.0.dev0,>=1.33.2 in /usr/local/lib/python3.11/dist-packages (from google-api-core[grpc]!=2.0.*,!=2.1.*,!=2.2.*,!=2.3.*,!=2.4.*,!=2.5.*,!=2.6.*,!=2.7.*,<3.0.0,>=1.34.1->google-cloud-aiplatform<2.0.0,>=1.27.0->google-cloud-aiplatform[pipelines]<2.0.0,>=1.27.0->scikit-llm) (1.71.0)\n",
            "Requirement already satisfied: cachetools<6.0,>=2.0.0 in /usr/local/lib/python3.11/dist-packages (from google-auth<3.0.0,>=2.14.1->google-cloud-aiplatform<2.0.0,>=1.27.0->google-cloud-aiplatform[pipelines]<2.0.0,>=1.27.0->scikit-llm) (5.5.2)\n",
            "Requirement already satisfied: pyasn1-modules>=0.2.1 in /usr/local/lib/python3.11/dist-packages (from google-auth<3.0.0,>=2.14.1->google-cloud-aiplatform<2.0.0,>=1.27.0->google-cloud-aiplatform[pipelines]<2.0.0,>=1.27.0->scikit-llm) (0.4.2)\n",
            "Requirement already satisfied: rsa<5,>=3.1.4 in /usr/local/lib/python3.11/dist-packages (from google-auth<3.0.0,>=2.14.1->google-cloud-aiplatform<2.0.0,>=1.27.0->google-cloud-aiplatform[pipelines]<2.0.0,>=1.27.0->scikit-llm) (4.9.1)\n",
            "Requirement already satisfied: google-cloud-core<3.0.0,>=2.4.1 in /usr/local/lib/python3.11/dist-packages (from google-cloud-bigquery!=3.20.0,<4.0.0,>=1.15.0->google-cloud-aiplatform<2.0.0,>=1.27.0->google-cloud-aiplatform[pipelines]<2.0.0,>=1.27.0->scikit-llm) (2.4.3)\n",
            "Requirement already satisfied: google-resumable-media<3.0.0,>=2.0.0 in /usr/local/lib/python3.11/dist-packages (from google-cloud-bigquery!=3.20.0,<4.0.0,>=1.15.0->google-cloud-aiplatform<2.0.0,>=1.27.0->google-cloud-aiplatform[pipelines]<2.0.0,>=1.27.0->scikit-llm) (2.7.2)\n",
            "Requirement already satisfied: grpc-google-iam-v1<1.0.0,>=0.14.0 in /usr/local/lib/python3.11/dist-packages (from google-cloud-resource-manager<3.0.0,>=1.3.3->google-cloud-aiplatform<2.0.0,>=1.27.0->google-cloud-aiplatform[pipelines]<2.0.0,>=1.27.0->scikit-llm) (0.14.2)\n",
            "Requirement already satisfied: google-crc32c<2.0dev,>=1.0 in /usr/local/lib/python3.11/dist-packages (from google-cloud-storage<3.0.0,>=1.32.0->google-cloud-aiplatform<2.0.0,>=1.27.0->google-cloud-aiplatform[pipelines]<2.0.0,>=1.27.0->scikit-llm) (1.7.1)\n",
            "Requirement already satisfied: websockets<15.1.0,>=13.0.0 in /usr/local/lib/python3.11/dist-packages (from google-genai<2.0.0,>=1.0.0->google-cloud-aiplatform<2.0.0,>=1.27.0->google-cloud-aiplatform[pipelines]<2.0.0,>=1.27.0->scikit-llm) (15.0.1)\n",
            "Requirement already satisfied: certifi in /usr/local/lib/python3.11/dist-packages (from httpx<1,>=0.23.0->openai<2.0.0,>=1.2.0->scikit-llm) (2025.4.26)\n",
            "Requirement already satisfied: httpcore==1.* in /usr/local/lib/python3.11/dist-packages (from httpx<1,>=0.23.0->openai<2.0.0,>=1.2.0->scikit-llm) (1.0.9)\n",
            "Requirement already satisfied: h11>=0.16 in /usr/local/lib/python3.11/dist-packages (from httpcore==1.*->httpx<1,>=0.23.0->openai<2.0.0,>=1.2.0->scikit-llm) (0.16.0)\n",
            "Requirement already satisfied: annotated-types>=0.6.0 in /usr/local/lib/python3.11/dist-packages (from pydantic<3->google-cloud-aiplatform<2.0.0,>=1.27.0->google-cloud-aiplatform[pipelines]<2.0.0,>=1.27.0->scikit-llm) (0.7.0)\n",
            "Requirement already satisfied: pydantic-core==2.33.2 in /usr/local/lib/python3.11/dist-packages (from pydantic<3->google-cloud-aiplatform<2.0.0,>=1.27.0->google-cloud-aiplatform[pipelines]<2.0.0,>=1.27.0->scikit-llm) (2.33.2)\n",
            "Requirement already satisfied: typing-inspection>=0.4.0 in /usr/local/lib/python3.11/dist-packages (from pydantic<3->google-cloud-aiplatform<2.0.0,>=1.27.0->google-cloud-aiplatform[pipelines]<2.0.0,>=1.27.0->scikit-llm) (0.4.0)\n",
            "Requirement already satisfied: six>=1.5 in /usr/local/lib/python3.11/dist-packages (from python-dateutil>=2.8.2->pandas<3.0.0,>=1.5.0->scikit-llm) (1.17.0)\n",
            "Requirement already satisfied: pyasn1<0.7.0,>=0.6.1 in /usr/local/lib/python3.11/dist-packages (from pyasn1-modules>=0.2.1->google-auth<3.0.0,>=2.14.1->google-cloud-aiplatform<2.0.0,>=1.27.0->google-cloud-aiplatform[pipelines]<2.0.0,>=1.27.0->scikit-llm) (0.6.1)\n",
            "Requirement already satisfied: charset-normalizer<4,>=2 in /usr/local/lib/python3.11/dist-packages (from requests<3.0.0,>=2.18.0->google-api-core!=2.0.*,!=2.1.*,!=2.2.*,!=2.3.*,!=2.4.*,!=2.5.*,!=2.6.*,!=2.7.*,<3.0.0,>=1.34.1->google-api-core[grpc]!=2.0.*,!=2.1.*,!=2.2.*,!=2.3.*,!=2.4.*,!=2.5.*,!=2.6.*,!=2.7.*,<3.0.0,>=1.34.1->google-cloud-aiplatform<2.0.0,>=1.27.0->google-cloud-aiplatform[pipelines]<2.0.0,>=1.27.0->scikit-llm) (3.4.2)\n",
            "Requirement already satisfied: urllib3<3,>=1.21.1 in /usr/local/lib/python3.11/dist-packages (from requests<3.0.0,>=2.18.0->google-api-core!=2.0.*,!=2.1.*,!=2.2.*,!=2.3.*,!=2.4.*,!=2.5.*,!=2.6.*,!=2.7.*,<3.0.0,>=1.34.1->google-api-core[grpc]!=2.0.*,!=2.1.*,!=2.2.*,!=2.3.*,!=2.4.*,!=2.5.*,!=2.6.*,!=2.7.*,<3.0.0,>=1.34.1->google-cloud-aiplatform<2.0.0,>=1.27.0->google-cloud-aiplatform[pipelines]<2.0.0,>=1.27.0->scikit-llm) (2.4.0)\n",
            "Downloading scikit_llm-1.4.1-py3-none-any.whl (51 kB)\n",
            "\u001b[2K   \u001b[90m━━━━━━━━━━━━━━━━━━━━━━━━━━━━━━━━━━━━━━━━\u001b[0m \u001b[32m51.4/51.4 kB\u001b[0m \u001b[31m1.8 MB/s\u001b[0m eta \u001b[36m0:00:00\u001b[0m\n",
            "\u001b[?25hInstalling collected packages: scikit-llm\n",
            "Successfully installed scikit-llm-1.4.1\n",
            "Collecting setfit\n",
            "  Downloading setfit-1.1.2-py3-none-any.whl.metadata (12 kB)\n",
            "Collecting datasets>=2.15.0 (from setfit)\n",
            "  Downloading datasets-3.6.0-py3-none-any.whl.metadata (19 kB)\n",
            "Requirement already satisfied: sentence-transformers>=3 in /usr/local/lib/python3.11/dist-packages (from sentence-transformers[train]>=3->setfit) (4.1.0)\n",
            "Requirement already satisfied: transformers>=4.41.0 in /usr/local/lib/python3.11/dist-packages (from setfit) (4.51.3)\n",
            "Collecting evaluate>=0.3.0 (from setfit)\n",
            "  Downloading evaluate-0.4.3-py3-none-any.whl.metadata (9.2 kB)\n",
            "Requirement already satisfied: huggingface_hub>=0.24.0 in /usr/local/lib/python3.11/dist-packages (from setfit) (0.31.2)\n",
            "Requirement already satisfied: scikit-learn in /usr/local/lib/python3.11/dist-packages (from setfit) (1.6.1)\n",
            "Requirement already satisfied: packaging in /usr/local/lib/python3.11/dist-packages (from setfit) (24.2)\n",
            "Requirement already satisfied: filelock in /usr/local/lib/python3.11/dist-packages (from datasets>=2.15.0->setfit) (3.18.0)\n",
            "Requirement already satisfied: numpy>=1.17 in /usr/local/lib/python3.11/dist-packages (from datasets>=2.15.0->setfit) (2.0.2)\n",
            "Requirement already satisfied: pyarrow>=15.0.0 in /usr/local/lib/python3.11/dist-packages (from datasets>=2.15.0->setfit) (18.1.0)\n",
            "Requirement already satisfied: dill<0.3.9,>=0.3.0 in /usr/local/lib/python3.11/dist-packages (from datasets>=2.15.0->setfit) (0.3.7)\n",
            "Requirement already satisfied: pandas in /usr/local/lib/python3.11/dist-packages (from datasets>=2.15.0->setfit) (2.2.2)\n",
            "Requirement already satisfied: requests>=2.32.2 in /usr/local/lib/python3.11/dist-packages (from datasets>=2.15.0->setfit) (2.32.3)\n",
            "Requirement already satisfied: tqdm>=4.66.3 in /usr/local/lib/python3.11/dist-packages (from datasets>=2.15.0->setfit) (4.67.1)\n",
            "Requirement already satisfied: xxhash in /usr/local/lib/python3.11/dist-packages (from datasets>=2.15.0->setfit) (3.5.0)\n",
            "Requirement already satisfied: multiprocess<0.70.17 in /usr/local/lib/python3.11/dist-packages (from datasets>=2.15.0->setfit) (0.70.15)\n",
            "Collecting fsspec<=2025.3.0,>=2023.1.0 (from fsspec[http]<=2025.3.0,>=2023.1.0->datasets>=2.15.0->setfit)\n",
            "  Downloading fsspec-2025.3.0-py3-none-any.whl.metadata (11 kB)\n",
            "Requirement already satisfied: pyyaml>=5.1 in /usr/local/lib/python3.11/dist-packages (from datasets>=2.15.0->setfit) (6.0.2)\n",
            "Requirement already satisfied: typing-extensions>=3.7.4.3 in /usr/local/lib/python3.11/dist-packages (from huggingface_hub>=0.24.0->setfit) (4.13.2)\n",
            "Requirement already satisfied: torch>=1.11.0 in /usr/local/lib/python3.11/dist-packages (from sentence-transformers>=3->sentence-transformers[train]>=3->setfit) (2.6.0+cu124)\n",
            "Requirement already satisfied: scipy in /usr/local/lib/python3.11/dist-packages (from sentence-transformers>=3->sentence-transformers[train]>=3->setfit) (1.15.3)\n",
            "Requirement already satisfied: Pillow in /usr/local/lib/python3.11/dist-packages (from sentence-transformers>=3->sentence-transformers[train]>=3->setfit) (11.2.1)\n",
            "Requirement already satisfied: accelerate>=0.20.3 in /usr/local/lib/python3.11/dist-packages (from sentence-transformers[train]>=3->setfit) (1.6.0)\n",
            "Requirement already satisfied: regex!=2019.12.17 in /usr/local/lib/python3.11/dist-packages (from transformers>=4.41.0->setfit) (2024.11.6)\n",
            "Requirement already satisfied: tokenizers<0.22,>=0.21 in /usr/local/lib/python3.11/dist-packages (from transformers>=4.41.0->setfit) (0.21.1)\n",
            "Requirement already satisfied: safetensors>=0.4.3 in /usr/local/lib/python3.11/dist-packages (from transformers>=4.41.0->setfit) (0.5.3)\n",
            "Requirement already satisfied: joblib>=1.2.0 in /usr/local/lib/python3.11/dist-packages (from scikit-learn->setfit) (1.5.0)\n",
            "Requirement already satisfied: threadpoolctl>=3.1.0 in /usr/local/lib/python3.11/dist-packages (from scikit-learn->setfit) (3.6.0)\n",
            "Requirement already satisfied: psutil in /usr/local/lib/python3.11/dist-packages (from accelerate>=0.20.3->sentence-transformers[train]>=3->setfit) (5.9.5)\n",
            "Requirement already satisfied: aiohttp!=4.0.0a0,!=4.0.0a1 in /usr/local/lib/python3.11/dist-packages (from fsspec[http]<=2025.3.0,>=2023.1.0->datasets>=2.15.0->setfit) (3.11.15)\n",
            "Requirement already satisfied: charset-normalizer<4,>=2 in /usr/local/lib/python3.11/dist-packages (from requests>=2.32.2->datasets>=2.15.0->setfit) (3.4.2)\n",
            "Requirement already satisfied: idna<4,>=2.5 in /usr/local/lib/python3.11/dist-packages (from requests>=2.32.2->datasets>=2.15.0->setfit) (3.10)\n",
            "Requirement already satisfied: urllib3<3,>=1.21.1 in /usr/local/lib/python3.11/dist-packages (from requests>=2.32.2->datasets>=2.15.0->setfit) (2.4.0)\n",
            "Requirement already satisfied: certifi>=2017.4.17 in /usr/local/lib/python3.11/dist-packages (from requests>=2.32.2->datasets>=2.15.0->setfit) (2025.4.26)\n",
            "Requirement already satisfied: networkx in /usr/local/lib/python3.11/dist-packages (from torch>=1.11.0->sentence-transformers>=3->sentence-transformers[train]>=3->setfit) (3.4.2)\n",
            "Requirement already satisfied: jinja2 in /usr/local/lib/python3.11/dist-packages (from torch>=1.11.0->sentence-transformers>=3->sentence-transformers[train]>=3->setfit) (3.1.6)\n",
            "Collecting nvidia-cuda-nvrtc-cu12==12.4.127 (from torch>=1.11.0->sentence-transformers>=3->sentence-transformers[train]>=3->setfit)\n",
            "  Downloading nvidia_cuda_nvrtc_cu12-12.4.127-py3-none-manylinux2014_x86_64.whl.metadata (1.5 kB)\n",
            "Collecting nvidia-cuda-runtime-cu12==12.4.127 (from torch>=1.11.0->sentence-transformers>=3->sentence-transformers[train]>=3->setfit)\n",
            "  Downloading nvidia_cuda_runtime_cu12-12.4.127-py3-none-manylinux2014_x86_64.whl.metadata (1.5 kB)\n",
            "Collecting nvidia-cuda-cupti-cu12==12.4.127 (from torch>=1.11.0->sentence-transformers>=3->sentence-transformers[train]>=3->setfit)\n",
            "  Downloading nvidia_cuda_cupti_cu12-12.4.127-py3-none-manylinux2014_x86_64.whl.metadata (1.6 kB)\n",
            "Collecting nvidia-cudnn-cu12==9.1.0.70 (from torch>=1.11.0->sentence-transformers>=3->sentence-transformers[train]>=3->setfit)\n",
            "  Downloading nvidia_cudnn_cu12-9.1.0.70-py3-none-manylinux2014_x86_64.whl.metadata (1.6 kB)\n",
            "Collecting nvidia-cublas-cu12==12.4.5.8 (from torch>=1.11.0->sentence-transformers>=3->sentence-transformers[train]>=3->setfit)\n",
            "  Downloading nvidia_cublas_cu12-12.4.5.8-py3-none-manylinux2014_x86_64.whl.metadata (1.5 kB)\n",
            "Collecting nvidia-cufft-cu12==11.2.1.3 (from torch>=1.11.0->sentence-transformers>=3->sentence-transformers[train]>=3->setfit)\n",
            "  Downloading nvidia_cufft_cu12-11.2.1.3-py3-none-manylinux2014_x86_64.whl.metadata (1.5 kB)\n",
            "Collecting nvidia-curand-cu12==10.3.5.147 (from torch>=1.11.0->sentence-transformers>=3->sentence-transformers[train]>=3->setfit)\n",
            "  Downloading nvidia_curand_cu12-10.3.5.147-py3-none-manylinux2014_x86_64.whl.metadata (1.5 kB)\n",
            "Collecting nvidia-cusolver-cu12==11.6.1.9 (from torch>=1.11.0->sentence-transformers>=3->sentence-transformers[train]>=3->setfit)\n",
            "  Downloading nvidia_cusolver_cu12-11.6.1.9-py3-none-manylinux2014_x86_64.whl.metadata (1.6 kB)\n",
            "Collecting nvidia-cusparse-cu12==12.3.1.170 (from torch>=1.11.0->sentence-transformers>=3->sentence-transformers[train]>=3->setfit)\n",
            "  Downloading nvidia_cusparse_cu12-12.3.1.170-py3-none-manylinux2014_x86_64.whl.metadata (1.6 kB)\n",
            "Requirement already satisfied: nvidia-cusparselt-cu12==0.6.2 in /usr/local/lib/python3.11/dist-packages (from torch>=1.11.0->sentence-transformers>=3->sentence-transformers[train]>=3->setfit) (0.6.2)\n",
            "Requirement already satisfied: nvidia-nccl-cu12==2.21.5 in /usr/local/lib/python3.11/dist-packages (from torch>=1.11.0->sentence-transformers>=3->sentence-transformers[train]>=3->setfit) (2.21.5)\n",
            "Requirement already satisfied: nvidia-nvtx-cu12==12.4.127 in /usr/local/lib/python3.11/dist-packages (from torch>=1.11.0->sentence-transformers>=3->sentence-transformers[train]>=3->setfit) (12.4.127)\n",
            "Collecting nvidia-nvjitlink-cu12==12.4.127 (from torch>=1.11.0->sentence-transformers>=3->sentence-transformers[train]>=3->setfit)\n",
            "  Downloading nvidia_nvjitlink_cu12-12.4.127-py3-none-manylinux2014_x86_64.whl.metadata (1.5 kB)\n",
            "Requirement already satisfied: triton==3.2.0 in /usr/local/lib/python3.11/dist-packages (from torch>=1.11.0->sentence-transformers>=3->sentence-transformers[train]>=3->setfit) (3.2.0)\n",
            "Requirement already satisfied: sympy==1.13.1 in /usr/local/lib/python3.11/dist-packages (from torch>=1.11.0->sentence-transformers>=3->sentence-transformers[train]>=3->setfit) (1.13.1)\n",
            "Requirement already satisfied: mpmath<1.4,>=1.1.0 in /usr/local/lib/python3.11/dist-packages (from sympy==1.13.1->torch>=1.11.0->sentence-transformers>=3->sentence-transformers[train]>=3->setfit) (1.3.0)\n",
            "Requirement already satisfied: python-dateutil>=2.8.2 in /usr/local/lib/python3.11/dist-packages (from pandas->datasets>=2.15.0->setfit) (2.9.0.post0)\n",
            "Requirement already satisfied: pytz>=2020.1 in /usr/local/lib/python3.11/dist-packages (from pandas->datasets>=2.15.0->setfit) (2025.2)\n",
            "Requirement already satisfied: tzdata>=2022.7 in /usr/local/lib/python3.11/dist-packages (from pandas->datasets>=2.15.0->setfit) (2025.2)\n",
            "Requirement already satisfied: aiohappyeyeballs>=2.3.0 in /usr/local/lib/python3.11/dist-packages (from aiohttp!=4.0.0a0,!=4.0.0a1->fsspec[http]<=2025.3.0,>=2023.1.0->datasets>=2.15.0->setfit) (2.6.1)\n",
            "Requirement already satisfied: aiosignal>=1.1.2 in /usr/local/lib/python3.11/dist-packages (from aiohttp!=4.0.0a0,!=4.0.0a1->fsspec[http]<=2025.3.0,>=2023.1.0->datasets>=2.15.0->setfit) (1.3.2)\n",
            "Requirement already satisfied: attrs>=17.3.0 in /usr/local/lib/python3.11/dist-packages (from aiohttp!=4.0.0a0,!=4.0.0a1->fsspec[http]<=2025.3.0,>=2023.1.0->datasets>=2.15.0->setfit) (25.3.0)\n",
            "Requirement already satisfied: frozenlist>=1.1.1 in /usr/local/lib/python3.11/dist-packages (from aiohttp!=4.0.0a0,!=4.0.0a1->fsspec[http]<=2025.3.0,>=2023.1.0->datasets>=2.15.0->setfit) (1.6.0)\n",
            "Requirement already satisfied: multidict<7.0,>=4.5 in /usr/local/lib/python3.11/dist-packages (from aiohttp!=4.0.0a0,!=4.0.0a1->fsspec[http]<=2025.3.0,>=2023.1.0->datasets>=2.15.0->setfit) (6.4.3)\n",
            "Requirement already satisfied: propcache>=0.2.0 in /usr/local/lib/python3.11/dist-packages (from aiohttp!=4.0.0a0,!=4.0.0a1->fsspec[http]<=2025.3.0,>=2023.1.0->datasets>=2.15.0->setfit) (0.3.1)\n",
            "Requirement already satisfied: yarl<2.0,>=1.17.0 in /usr/local/lib/python3.11/dist-packages (from aiohttp!=4.0.0a0,!=4.0.0a1->fsspec[http]<=2025.3.0,>=2023.1.0->datasets>=2.15.0->setfit) (1.20.0)\n",
            "Requirement already satisfied: six>=1.5 in /usr/local/lib/python3.11/dist-packages (from python-dateutil>=2.8.2->pandas->datasets>=2.15.0->setfit) (1.17.0)\n",
            "Requirement already satisfied: MarkupSafe>=2.0 in /usr/local/lib/python3.11/dist-packages (from jinja2->torch>=1.11.0->sentence-transformers>=3->sentence-transformers[train]>=3->setfit) (3.0.2)\n",
            "Downloading setfit-1.1.2-py3-none-any.whl (75 kB)\n",
            "\u001b[2K   \u001b[90m━━━━━━━━━━━━━━━━━━━━━━━━━━━━━━━━━━━━━━━━\u001b[0m \u001b[32m75.5/75.5 kB\u001b[0m \u001b[31m2.9 MB/s\u001b[0m eta \u001b[36m0:00:00\u001b[0m\n",
            "\u001b[?25hDownloading datasets-3.6.0-py3-none-any.whl (491 kB)\n",
            "\u001b[2K   \u001b[90m━━━━━━━━━━━━━━━━━━━━━━━━━━━━━━━━━━━━━━━━\u001b[0m \u001b[32m491.5/491.5 kB\u001b[0m \u001b[31m12.8 MB/s\u001b[0m eta \u001b[36m0:00:00\u001b[0m\n",
            "\u001b[?25hDownloading evaluate-0.4.3-py3-none-any.whl (84 kB)\n",
            "\u001b[2K   \u001b[90m━━━━━━━━━━━━━━━━━━━━━━━━━━━━━━━━━━━━━━━━\u001b[0m \u001b[32m84.0/84.0 kB\u001b[0m \u001b[31m8.0 MB/s\u001b[0m eta \u001b[36m0:00:00\u001b[0m\n",
            "\u001b[?25hDownloading fsspec-2025.3.0-py3-none-any.whl (193 kB)\n",
            "\u001b[2K   \u001b[90m━━━━━━━━━━━━━━━━━━━━━━━━━━━━━━━━━━━━━━━━\u001b[0m \u001b[32m193.6/193.6 kB\u001b[0m \u001b[31m16.8 MB/s\u001b[0m eta \u001b[36m0:00:00\u001b[0m\n",
            "\u001b[?25hDownloading nvidia_cublas_cu12-12.4.5.8-py3-none-manylinux2014_x86_64.whl (363.4 MB)\n",
            "\u001b[2K   \u001b[90m━━━━━━━━━━━━━━━━━━━━━━━━━━━━━━━━━━━━━━━━\u001b[0m \u001b[32m363.4/363.4 MB\u001b[0m \u001b[31m3.1 MB/s\u001b[0m eta \u001b[36m0:00:00\u001b[0m\n",
            "\u001b[?25hDownloading nvidia_cuda_cupti_cu12-12.4.127-py3-none-manylinux2014_x86_64.whl (13.8 MB)\n",
            "\u001b[2K   \u001b[90m━━━━━━━━━━━━━━━━━━━━━━━━━━━━━━━━━━━━━━━━\u001b[0m \u001b[32m13.8/13.8 MB\u001b[0m \u001b[31m72.5 MB/s\u001b[0m eta \u001b[36m0:00:00\u001b[0m\n",
            "\u001b[?25hDownloading nvidia_cuda_nvrtc_cu12-12.4.127-py3-none-manylinux2014_x86_64.whl (24.6 MB)\n",
            "\u001b[2K   \u001b[90m━━━━━━━━━━━━━━━━━━━━━━━━━━━━━━━━━━━━━━━━\u001b[0m \u001b[32m24.6/24.6 MB\u001b[0m \u001b[31m91.7 MB/s\u001b[0m eta \u001b[36m0:00:00\u001b[0m\n",
            "\u001b[?25hDownloading nvidia_cuda_runtime_cu12-12.4.127-py3-none-manylinux2014_x86_64.whl (883 kB)\n",
            "\u001b[2K   \u001b[90m━━━━━━━━━━━━━━━━━━━━━━━━━━━━━━━━━━━━━━━━\u001b[0m \u001b[32m883.7/883.7 kB\u001b[0m \u001b[31m56.7 MB/s\u001b[0m eta \u001b[36m0:00:00\u001b[0m\n",
            "\u001b[?25hDownloading nvidia_cudnn_cu12-9.1.0.70-py3-none-manylinux2014_x86_64.whl (664.8 MB)\n",
            "\u001b[2K   \u001b[90m━━━━━━━━━━━━━━━━━━━━━━━━━━━━━━━━━━━━━━━━\u001b[0m \u001b[32m664.8/664.8 MB\u001b[0m \u001b[31m2.2 MB/s\u001b[0m eta \u001b[36m0:00:00\u001b[0m\n",
            "\u001b[?25hDownloading nvidia_cufft_cu12-11.2.1.3-py3-none-manylinux2014_x86_64.whl (211.5 MB)\n",
            "\u001b[2K   \u001b[90m━━━━━━━━━━━━━━━━━━━━━━━━━━━━━━━━━━━━━━━━\u001b[0m \u001b[32m211.5/211.5 MB\u001b[0m \u001b[31m4.9 MB/s\u001b[0m eta \u001b[36m0:00:00\u001b[0m\n",
            "\u001b[?25hDownloading nvidia_curand_cu12-10.3.5.147-py3-none-manylinux2014_x86_64.whl (56.3 MB)\n",
            "\u001b[2K   \u001b[90m━━━━━━━━━━━━━━━━━━━━━━━━━━━━━━━━━━━━━━━━\u001b[0m \u001b[32m56.3/56.3 MB\u001b[0m \u001b[31m43.3 MB/s\u001b[0m eta \u001b[36m0:00:00\u001b[0m\n",
            "\u001b[?25hDownloading nvidia_cusolver_cu12-11.6.1.9-py3-none-manylinux2014_x86_64.whl (127.9 MB)\n",
            "\u001b[2K   \u001b[90m━━━━━━━━━━━━━━━━━━━━━━━━━━━━━━━━━━━━━━━━\u001b[0m \u001b[32m127.9/127.9 MB\u001b[0m \u001b[31m19.7 MB/s\u001b[0m eta \u001b[36m0:00:00\u001b[0m\n",
            "\u001b[?25hDownloading nvidia_cusparse_cu12-12.3.1.170-py3-none-manylinux2014_x86_64.whl (207.5 MB)\n",
            "\u001b[2K   \u001b[90m━━━━━━━━━━━━━━━━━━━━━━━━━━━━━━━━━━━━━━━━\u001b[0m \u001b[32m207.5/207.5 MB\u001b[0m \u001b[31m4.2 MB/s\u001b[0m eta \u001b[36m0:00:00\u001b[0m\n",
            "\u001b[?25hDownloading nvidia_nvjitlink_cu12-12.4.127-py3-none-manylinux2014_x86_64.whl (21.1 MB)\n",
            "\u001b[2K   \u001b[90m━━━━━━━━━━━━━━━━━━━━━━━━━━━━━━━━━━━━━━━━\u001b[0m \u001b[32m21.1/21.1 MB\u001b[0m \u001b[31m99.0 MB/s\u001b[0m eta \u001b[36m0:00:00\u001b[0m\n",
            "\u001b[?25hInstalling collected packages: nvidia-nvjitlink-cu12, nvidia-curand-cu12, nvidia-cufft-cu12, nvidia-cuda-runtime-cu12, nvidia-cuda-nvrtc-cu12, nvidia-cuda-cupti-cu12, nvidia-cublas-cu12, fsspec, nvidia-cusparse-cu12, nvidia-cudnn-cu12, nvidia-cusolver-cu12, datasets, evaluate, setfit\n",
            "  Attempting uninstall: nvidia-nvjitlink-cu12\n",
            "    Found existing installation: nvidia-nvjitlink-cu12 12.5.82\n",
            "    Uninstalling nvidia-nvjitlink-cu12-12.5.82:\n",
            "      Successfully uninstalled nvidia-nvjitlink-cu12-12.5.82\n",
            "  Attempting uninstall: nvidia-curand-cu12\n",
            "    Found existing installation: nvidia-curand-cu12 10.3.6.82\n",
            "    Uninstalling nvidia-curand-cu12-10.3.6.82:\n",
            "      Successfully uninstalled nvidia-curand-cu12-10.3.6.82\n",
            "  Attempting uninstall: nvidia-cufft-cu12\n",
            "    Found existing installation: nvidia-cufft-cu12 11.2.3.61\n",
            "    Uninstalling nvidia-cufft-cu12-11.2.3.61:\n",
            "      Successfully uninstalled nvidia-cufft-cu12-11.2.3.61\n",
            "  Attempting uninstall: nvidia-cuda-runtime-cu12\n",
            "    Found existing installation: nvidia-cuda-runtime-cu12 12.5.82\n",
            "    Uninstalling nvidia-cuda-runtime-cu12-12.5.82:\n",
            "      Successfully uninstalled nvidia-cuda-runtime-cu12-12.5.82\n",
            "  Attempting uninstall: nvidia-cuda-nvrtc-cu12\n",
            "    Found existing installation: nvidia-cuda-nvrtc-cu12 12.5.82\n",
            "    Uninstalling nvidia-cuda-nvrtc-cu12-12.5.82:\n",
            "      Successfully uninstalled nvidia-cuda-nvrtc-cu12-12.5.82\n",
            "  Attempting uninstall: nvidia-cuda-cupti-cu12\n",
            "    Found existing installation: nvidia-cuda-cupti-cu12 12.5.82\n",
            "    Uninstalling nvidia-cuda-cupti-cu12-12.5.82:\n",
            "      Successfully uninstalled nvidia-cuda-cupti-cu12-12.5.82\n",
            "  Attempting uninstall: nvidia-cublas-cu12\n",
            "    Found existing installation: nvidia-cublas-cu12 12.5.3.2\n",
            "    Uninstalling nvidia-cublas-cu12-12.5.3.2:\n",
            "      Successfully uninstalled nvidia-cublas-cu12-12.5.3.2\n",
            "  Attempting uninstall: fsspec\n",
            "    Found existing installation: fsspec 2025.3.2\n",
            "    Uninstalling fsspec-2025.3.2:\n",
            "      Successfully uninstalled fsspec-2025.3.2\n",
            "  Attempting uninstall: nvidia-cusparse-cu12\n",
            "    Found existing installation: nvidia-cusparse-cu12 12.5.1.3\n",
            "    Uninstalling nvidia-cusparse-cu12-12.5.1.3:\n",
            "      Successfully uninstalled nvidia-cusparse-cu12-12.5.1.3\n",
            "  Attempting uninstall: nvidia-cudnn-cu12\n",
            "    Found existing installation: nvidia-cudnn-cu12 9.3.0.75\n",
            "    Uninstalling nvidia-cudnn-cu12-9.3.0.75:\n",
            "      Successfully uninstalled nvidia-cudnn-cu12-9.3.0.75\n",
            "  Attempting uninstall: nvidia-cusolver-cu12\n",
            "    Found existing installation: nvidia-cusolver-cu12 11.6.3.83\n",
            "    Uninstalling nvidia-cusolver-cu12-11.6.3.83:\n",
            "      Successfully uninstalled nvidia-cusolver-cu12-11.6.3.83\n",
            "  Attempting uninstall: datasets\n",
            "    Found existing installation: datasets 2.14.4\n",
            "    Uninstalling datasets-2.14.4:\n",
            "      Successfully uninstalled datasets-2.14.4\n",
            "\u001b[31mERROR: pip's dependency resolver does not currently take into account all the packages that are installed. This behaviour is the source of the following dependency conflicts.\n",
            "gcsfs 2025.3.2 requires fsspec==2025.3.2, but you have fsspec 2025.3.0 which is incompatible.\u001b[0m\u001b[31m\n",
            "\u001b[0mSuccessfully installed datasets-3.6.0 evaluate-0.4.3 fsspec-2025.3.0 nvidia-cublas-cu12-12.4.5.8 nvidia-cuda-cupti-cu12-12.4.127 nvidia-cuda-nvrtc-cu12-12.4.127 nvidia-cuda-runtime-cu12-12.4.127 nvidia-cudnn-cu12-9.1.0.70 nvidia-cufft-cu12-11.2.1.3 nvidia-curand-cu12-10.3.5.147 nvidia-cusolver-cu12-11.6.1.9 nvidia-cusparse-cu12-12.3.1.170 nvidia-nvjitlink-cu12-12.4.127 setfit-1.1.2\n"
          ]
        },
        {
          "data": {
            "application/vnd.colab-display-data+json": {
              "id": "a3496681c5994f668daaa9bdd9e35dd8",
              "pip_warning": {
                "packages": [
                  "datasets",
                  "nvidia"
                ]
              }
            }
          },
          "metadata": {},
          "output_type": "display_data"
        },
        {
          "name": "stdout",
          "output_type": "stream",
          "text": [
            "Requirement already satisfied: wandb in /usr/local/lib/python3.11/dist-packages (0.19.11)\n",
            "Requirement already satisfied: click!=8.0.0,>=7.1 in /usr/local/lib/python3.11/dist-packages (from wandb) (8.2.0)\n",
            "Requirement already satisfied: docker-pycreds>=0.4.0 in /usr/local/lib/python3.11/dist-packages (from wandb) (0.4.0)\n",
            "Requirement already satisfied: gitpython!=3.1.29,>=1.0.0 in /usr/local/lib/python3.11/dist-packages (from wandb) (3.1.44)\n",
            "Requirement already satisfied: platformdirs in /usr/local/lib/python3.11/dist-packages (from wandb) (4.3.8)\n",
            "Requirement already satisfied: protobuf!=4.21.0,!=5.28.0,<7,>=3.19.0 in /usr/local/lib/python3.11/dist-packages (from wandb) (5.29.4)\n",
            "Requirement already satisfied: psutil>=5.0.0 in /usr/local/lib/python3.11/dist-packages (from wandb) (5.9.5)\n",
            "Requirement already satisfied: pydantic<3 in /usr/local/lib/python3.11/dist-packages (from wandb) (2.11.4)\n",
            "Requirement already satisfied: pyyaml in /usr/local/lib/python3.11/dist-packages (from wandb) (6.0.2)\n",
            "Requirement already satisfied: requests<3,>=2.0.0 in /usr/local/lib/python3.11/dist-packages (from wandb) (2.32.3)\n",
            "Requirement already satisfied: sentry-sdk>=2.0.0 in /usr/local/lib/python3.11/dist-packages (from wandb) (2.28.0)\n",
            "Requirement already satisfied: setproctitle in /usr/local/lib/python3.11/dist-packages (from wandb) (1.3.6)\n",
            "Requirement already satisfied: setuptools in /usr/local/lib/python3.11/dist-packages (from wandb) (75.2.0)\n",
            "Requirement already satisfied: typing-extensions<5,>=4.4 in /usr/local/lib/python3.11/dist-packages (from wandb) (4.13.2)\n",
            "Requirement already satisfied: six>=1.4.0 in /usr/local/lib/python3.11/dist-packages (from docker-pycreds>=0.4.0->wandb) (1.17.0)\n",
            "Requirement already satisfied: gitdb<5,>=4.0.1 in /usr/local/lib/python3.11/dist-packages (from gitpython!=3.1.29,>=1.0.0->wandb) (4.0.12)\n",
            "Requirement already satisfied: annotated-types>=0.6.0 in /usr/local/lib/python3.11/dist-packages (from pydantic<3->wandb) (0.7.0)\n",
            "Requirement already satisfied: pydantic-core==2.33.2 in /usr/local/lib/python3.11/dist-packages (from pydantic<3->wandb) (2.33.2)\n",
            "Requirement already satisfied: typing-inspection>=0.4.0 in /usr/local/lib/python3.11/dist-packages (from pydantic<3->wandb) (0.4.0)\n",
            "Requirement already satisfied: charset-normalizer<4,>=2 in /usr/local/lib/python3.11/dist-packages (from requests<3,>=2.0.0->wandb) (3.4.2)\n",
            "Requirement already satisfied: idna<4,>=2.5 in /usr/local/lib/python3.11/dist-packages (from requests<3,>=2.0.0->wandb) (3.10)\n",
            "Requirement already satisfied: urllib3<3,>=1.21.1 in /usr/local/lib/python3.11/dist-packages (from requests<3,>=2.0.0->wandb) (2.4.0)\n",
            "Requirement already satisfied: certifi>=2017.4.17 in /usr/local/lib/python3.11/dist-packages (from requests<3,>=2.0.0->wandb) (2025.4.26)\n",
            "Requirement already satisfied: smmap<6,>=3.0.1 in /usr/local/lib/python3.11/dist-packages (from gitdb<5,>=4.0.1->gitpython!=3.1.29,>=1.0.0->wandb) (5.0.2)\n",
            "Collecting optuna\n",
            "  Downloading optuna-4.3.0-py3-none-any.whl.metadata (17 kB)\n",
            "Collecting alembic>=1.5.0 (from optuna)\n",
            "  Downloading alembic-1.16.1-py3-none-any.whl.metadata (7.3 kB)\n",
            "Collecting colorlog (from optuna)\n",
            "  Downloading colorlog-6.9.0-py3-none-any.whl.metadata (10 kB)\n",
            "Requirement already satisfied: numpy in /usr/local/lib/python3.11/dist-packages (from optuna) (2.0.2)\n",
            "Requirement already satisfied: packaging>=20.0 in /usr/local/lib/python3.11/dist-packages (from optuna) (24.2)\n",
            "Requirement already satisfied: sqlalchemy>=1.4.2 in /usr/local/lib/python3.11/dist-packages (from optuna) (2.0.40)\n",
            "Requirement already satisfied: tqdm in /usr/local/lib/python3.11/dist-packages (from optuna) (4.67.1)\n",
            "Requirement already satisfied: PyYAML in /usr/local/lib/python3.11/dist-packages (from optuna) (6.0.2)\n",
            "Requirement already satisfied: Mako in /usr/lib/python3/dist-packages (from alembic>=1.5.0->optuna) (1.1.3)\n",
            "Requirement already satisfied: typing-extensions>=4.12 in /usr/local/lib/python3.11/dist-packages (from alembic>=1.5.0->optuna) (4.13.2)\n",
            "Requirement already satisfied: greenlet>=1 in /usr/local/lib/python3.11/dist-packages (from sqlalchemy>=1.4.2->optuna) (3.2.2)\n",
            "Downloading optuna-4.3.0-py3-none-any.whl (386 kB)\n",
            "\u001b[2K   \u001b[90m━━━━━━━━━━━━━━━━━━━━━━━━━━━━━━━━━━━━━━━━\u001b[0m \u001b[32m386.6/386.6 kB\u001b[0m \u001b[31m7.8 MB/s\u001b[0m eta \u001b[36m0:00:00\u001b[0m\n",
            "\u001b[?25hDownloading alembic-1.16.1-py3-none-any.whl (242 kB)\n",
            "\u001b[2K   \u001b[90m━━━━━━━━━━━━━━━━━━━━━━━━━━━━━━━━━━━━━━━━\u001b[0m \u001b[32m242.5/242.5 kB\u001b[0m \u001b[31m21.8 MB/s\u001b[0m eta \u001b[36m0:00:00\u001b[0m\n",
            "\u001b[?25hDownloading colorlog-6.9.0-py3-none-any.whl (11 kB)\n",
            "Installing collected packages: colorlog, alembic, optuna\n",
            "Successfully installed alembic-1.16.1 colorlog-6.9.0 optuna-4.3.0\n",
            "Requirement already satisfied: pip in /usr/local/lib/python3.11/dist-packages (24.1.2)\n",
            "Collecting pip\n",
            "  Downloading pip-25.1.1-py3-none-any.whl.metadata (3.6 kB)\n",
            "Requirement already satisfied: setuptools in /usr/local/lib/python3.11/dist-packages (75.2.0)\n",
            "Collecting setuptools\n",
            "  Downloading setuptools-80.8.0-py3-none-any.whl.metadata (6.6 kB)\n",
            "Downloading pip-25.1.1-py3-none-any.whl (1.8 MB)\n",
            "\u001b[2K   \u001b[90m━━━━━━━━━━━━━━━━━━━━━━━━━━━━━━━━━━━━━━━━\u001b[0m \u001b[32m1.8/1.8 MB\u001b[0m \u001b[31m21.4 MB/s\u001b[0m eta \u001b[36m0:00:00\u001b[0m\n",
            "\u001b[?25hDownloading setuptools-80.8.0-py3-none-any.whl (1.2 MB)\n",
            "\u001b[2K   \u001b[90m━━━━━━━━━━━━━━━━━━━━━━━━━━━━━━━━━━━━━━━━\u001b[0m \u001b[32m1.2/1.2 MB\u001b[0m \u001b[31m70.4 MB/s\u001b[0m eta \u001b[36m0:00:00\u001b[0m\n",
            "\u001b[?25hInstalling collected packages: setuptools, pip\n",
            "  Attempting uninstall: setuptools\n",
            "    Found existing installation: setuptools 75.2.0\n",
            "    Uninstalling setuptools-75.2.0:\n",
            "      Successfully uninstalled setuptools-75.2.0\n",
            "  Attempting uninstall: pip\n",
            "    Found existing installation: pip 24.1.2\n",
            "    Uninstalling pip-24.1.2:\n",
            "      Successfully uninstalled pip-24.1.2\n",
            "\u001b[31mERROR: pip's dependency resolver does not currently take into account all the packages that are installed. This behaviour is the source of the following dependency conflicts.\n",
            "ipython 7.34.0 requires jedi>=0.16, which is not installed.\u001b[0m\u001b[31m\n",
            "\u001b[0mSuccessfully installed pip-25.1.1 setuptools-80.8.0\n"
          ]
        },
        {
          "data": {
            "application/vnd.colab-display-data+json": {
              "id": "dda83459c1af4355ae24609b98a4eeea",
              "pip_warning": {
                "packages": [
                  "_distutils_hack",
                  "pkg_resources",
                  "setuptools"
                ]
              }
            }
          },
          "metadata": {},
          "output_type": "display_data"
        },
        {
          "name": "stdout",
          "output_type": "stream",
          "text": [
            "Requirement already satisfied: transformers in /usr/local/lib/python3.11/dist-packages (4.51.3)\n",
            "Requirement already satisfied: datasets in /usr/local/lib/python3.11/dist-packages (3.6.0)\n",
            "Requirement already satisfied: peft in /usr/local/lib/python3.11/dist-packages (0.15.2)\n",
            "Collecting bitsandbytes\n",
            "  Downloading bitsandbytes-0.45.5-py3-none-manylinux_2_24_x86_64.whl.metadata (5.0 kB)\n",
            "Requirement already satisfied: accelerate in /usr/local/lib/python3.11/dist-packages (1.6.0)\n",
            "Requirement already satisfied: filelock in /usr/local/lib/python3.11/dist-packages (from transformers) (3.18.0)\n",
            "Requirement already satisfied: huggingface-hub<1.0,>=0.30.0 in /usr/local/lib/python3.11/dist-packages (from transformers) (0.31.2)\n",
            "Requirement already satisfied: numpy>=1.17 in /usr/local/lib/python3.11/dist-packages (from transformers) (2.0.2)\n",
            "Requirement already satisfied: packaging>=20.0 in /usr/local/lib/python3.11/dist-packages (from transformers) (24.2)\n",
            "Requirement already satisfied: pyyaml>=5.1 in /usr/local/lib/python3.11/dist-packages (from transformers) (6.0.2)\n",
            "Requirement already satisfied: regex!=2019.12.17 in /usr/local/lib/python3.11/dist-packages (from transformers) (2024.11.6)\n",
            "Requirement already satisfied: requests in /usr/local/lib/python3.11/dist-packages (from transformers) (2.32.3)\n",
            "Requirement already satisfied: tokenizers<0.22,>=0.21 in /usr/local/lib/python3.11/dist-packages (from transformers) (0.21.1)\n",
            "Requirement already satisfied: safetensors>=0.4.3 in /usr/local/lib/python3.11/dist-packages (from transformers) (0.5.3)\n",
            "Requirement already satisfied: tqdm>=4.27 in /usr/local/lib/python3.11/dist-packages (from transformers) (4.67.1)\n",
            "Requirement already satisfied: fsspec>=2023.5.0 in /usr/local/lib/python3.11/dist-packages (from huggingface-hub<1.0,>=0.30.0->transformers) (2025.3.0)\n",
            "Requirement already satisfied: typing-extensions>=3.7.4.3 in /usr/local/lib/python3.11/dist-packages (from huggingface-hub<1.0,>=0.30.0->transformers) (4.13.2)\n",
            "Requirement already satisfied: pyarrow>=15.0.0 in /usr/local/lib/python3.11/dist-packages (from datasets) (18.1.0)\n",
            "Requirement already satisfied: dill<0.3.9,>=0.3.0 in /usr/local/lib/python3.11/dist-packages (from datasets) (0.3.7)\n",
            "Requirement already satisfied: pandas in /usr/local/lib/python3.11/dist-packages (from datasets) (2.2.2)\n",
            "Requirement already satisfied: xxhash in /usr/local/lib/python3.11/dist-packages (from datasets) (3.5.0)\n",
            "Requirement already satisfied: multiprocess<0.70.17 in /usr/local/lib/python3.11/dist-packages (from datasets) (0.70.15)\n",
            "Requirement already satisfied: aiohttp!=4.0.0a0,!=4.0.0a1 in /usr/local/lib/python3.11/dist-packages (from fsspec[http]<=2025.3.0,>=2023.1.0->datasets) (3.11.15)\n",
            "Requirement already satisfied: psutil in /usr/local/lib/python3.11/dist-packages (from peft) (5.9.5)\n",
            "Requirement already satisfied: torch>=1.13.0 in /usr/local/lib/python3.11/dist-packages (from peft) (2.6.0+cu124)\n",
            "Requirement already satisfied: networkx in /usr/local/lib/python3.11/dist-packages (from torch>=1.13.0->peft) (3.4.2)\n",
            "Requirement already satisfied: jinja2 in /usr/local/lib/python3.11/dist-packages (from torch>=1.13.0->peft) (3.1.6)\n",
            "Requirement already satisfied: nvidia-cuda-nvrtc-cu12==12.4.127 in /usr/local/lib/python3.11/dist-packages (from torch>=1.13.0->peft) (12.4.127)\n",
            "Requirement already satisfied: nvidia-cuda-runtime-cu12==12.4.127 in /usr/local/lib/python3.11/dist-packages (from torch>=1.13.0->peft) (12.4.127)\n",
            "Requirement already satisfied: nvidia-cuda-cupti-cu12==12.4.127 in /usr/local/lib/python3.11/dist-packages (from torch>=1.13.0->peft) (12.4.127)\n",
            "Requirement already satisfied: nvidia-cudnn-cu12==9.1.0.70 in /usr/local/lib/python3.11/dist-packages (from torch>=1.13.0->peft) (9.1.0.70)\n",
            "Requirement already satisfied: nvidia-cublas-cu12==12.4.5.8 in /usr/local/lib/python3.11/dist-packages (from torch>=1.13.0->peft) (12.4.5.8)\n",
            "Requirement already satisfied: nvidia-cufft-cu12==11.2.1.3 in /usr/local/lib/python3.11/dist-packages (from torch>=1.13.0->peft) (11.2.1.3)\n",
            "Requirement already satisfied: nvidia-curand-cu12==10.3.5.147 in /usr/local/lib/python3.11/dist-packages (from torch>=1.13.0->peft) (10.3.5.147)\n",
            "Requirement already satisfied: nvidia-cusolver-cu12==11.6.1.9 in /usr/local/lib/python3.11/dist-packages (from torch>=1.13.0->peft) (11.6.1.9)\n",
            "Requirement already satisfied: nvidia-cusparse-cu12==12.3.1.170 in /usr/local/lib/python3.11/dist-packages (from torch>=1.13.0->peft) (12.3.1.170)\n",
            "Requirement already satisfied: nvidia-cusparselt-cu12==0.6.2 in /usr/local/lib/python3.11/dist-packages (from torch>=1.13.0->peft) (0.6.2)\n",
            "Requirement already satisfied: nvidia-nccl-cu12==2.21.5 in /usr/local/lib/python3.11/dist-packages (from torch>=1.13.0->peft) (2.21.5)\n",
            "Requirement already satisfied: nvidia-nvtx-cu12==12.4.127 in /usr/local/lib/python3.11/dist-packages (from torch>=1.13.0->peft) (12.4.127)\n",
            "Requirement already satisfied: nvidia-nvjitlink-cu12==12.4.127 in /usr/local/lib/python3.11/dist-packages (from torch>=1.13.0->peft) (12.4.127)\n",
            "Requirement already satisfied: triton==3.2.0 in /usr/local/lib/python3.11/dist-packages (from torch>=1.13.0->peft) (3.2.0)\n",
            "Requirement already satisfied: sympy==1.13.1 in /usr/local/lib/python3.11/dist-packages (from torch>=1.13.0->peft) (1.13.1)\n",
            "Requirement already satisfied: mpmath<1.4,>=1.1.0 in /usr/local/lib/python3.11/dist-packages (from sympy==1.13.1->torch>=1.13.0->peft) (1.3.0)\n",
            "Requirement already satisfied: aiohappyeyeballs>=2.3.0 in /usr/local/lib/python3.11/dist-packages (from aiohttp!=4.0.0a0,!=4.0.0a1->fsspec[http]<=2025.3.0,>=2023.1.0->datasets) (2.6.1)\n",
            "Requirement already satisfied: aiosignal>=1.1.2 in /usr/local/lib/python3.11/dist-packages (from aiohttp!=4.0.0a0,!=4.0.0a1->fsspec[http]<=2025.3.0,>=2023.1.0->datasets) (1.3.2)\n",
            "Requirement already satisfied: attrs>=17.3.0 in /usr/local/lib/python3.11/dist-packages (from aiohttp!=4.0.0a0,!=4.0.0a1->fsspec[http]<=2025.3.0,>=2023.1.0->datasets) (25.3.0)\n",
            "Requirement already satisfied: frozenlist>=1.1.1 in /usr/local/lib/python3.11/dist-packages (from aiohttp!=4.0.0a0,!=4.0.0a1->fsspec[http]<=2025.3.0,>=2023.1.0->datasets) (1.6.0)\n",
            "Requirement already satisfied: multidict<7.0,>=4.5 in /usr/local/lib/python3.11/dist-packages (from aiohttp!=4.0.0a0,!=4.0.0a1->fsspec[http]<=2025.3.0,>=2023.1.0->datasets) (6.4.3)\n",
            "Requirement already satisfied: propcache>=0.2.0 in /usr/local/lib/python3.11/dist-packages (from aiohttp!=4.0.0a0,!=4.0.0a1->fsspec[http]<=2025.3.0,>=2023.1.0->datasets) (0.3.1)\n",
            "Requirement already satisfied: yarl<2.0,>=1.17.0 in /usr/local/lib/python3.11/dist-packages (from aiohttp!=4.0.0a0,!=4.0.0a1->fsspec[http]<=2025.3.0,>=2023.1.0->datasets) (1.20.0)\n",
            "Requirement already satisfied: idna>=2.0 in /usr/local/lib/python3.11/dist-packages (from yarl<2.0,>=1.17.0->aiohttp!=4.0.0a0,!=4.0.0a1->fsspec[http]<=2025.3.0,>=2023.1.0->datasets) (3.10)\n",
            "Requirement already satisfied: charset-normalizer<4,>=2 in /usr/local/lib/python3.11/dist-packages (from requests->transformers) (3.4.2)\n",
            "Requirement already satisfied: urllib3<3,>=1.21.1 in /usr/local/lib/python3.11/dist-packages (from requests->transformers) (2.4.0)\n",
            "Requirement already satisfied: certifi>=2017.4.17 in /usr/local/lib/python3.11/dist-packages (from requests->transformers) (2025.4.26)\n",
            "Requirement already satisfied: MarkupSafe>=2.0 in /usr/local/lib/python3.11/dist-packages (from jinja2->torch>=1.13.0->peft) (3.0.2)\n",
            "Requirement already satisfied: python-dateutil>=2.8.2 in /usr/local/lib/python3.11/dist-packages (from pandas->datasets) (2.9.0.post0)\n",
            "Requirement already satisfied: pytz>=2020.1 in /usr/local/lib/python3.11/dist-packages (from pandas->datasets) (2025.2)\n",
            "Requirement already satisfied: tzdata>=2022.7 in /usr/local/lib/python3.11/dist-packages (from pandas->datasets) (2025.2)\n",
            "Requirement already satisfied: six>=1.5 in /usr/local/lib/python3.11/dist-packages (from python-dateutil>=2.8.2->pandas->datasets) (1.17.0)\n",
            "Downloading bitsandbytes-0.45.5-py3-none-manylinux_2_24_x86_64.whl (76.1 MB)\n",
            "\u001b[2K   \u001b[90m━━━━━━━━━━━━━━━━━━━━━━━━━━━━━━━━━━━━━━━━\u001b[0m \u001b[32m76.1/76.1 MB\u001b[0m \u001b[31m108.1 MB/s\u001b[0m eta \u001b[36m0:00:00\u001b[0m\n",
            "\u001b[?25hInstalling collected packages: bitsandbytes\n",
            "Successfully installed bitsandbytes-0.45.5\n",
            "\u001b[31mERROR: Could not find a version that satisfies the requirement transformer (from versions: none)\u001b[0m\u001b[31m\n",
            "\u001b[0m\u001b[31mERROR: No matching distribution found for transformer\u001b[0m\u001b[31m\n",
            "\u001b[0m"
          ]
        }
      ],
      "source": [
        "\n",
        "!pip install scikit-llm\n",
        "!pip install setfit\n",
        "!pip install wandb\n",
        "!pip install optuna\n",
        "!pip install --upgrade pip setuptools\n",
        "!pip install transformers datasets peft bitsandbytes accelerate\n",
        "!pip install --upgrade transformer\n",
        "\n"
      ]
    },
    {
      "cell_type": "code",
      "execution_count": null,
      "metadata": {
        "id": "9aaeYZhGGApR"
      },
      "outputs": [],
      "source": [
        "import random\n",
        "from collections import defaultdict\n",
        "\n",
        "import numpy as np\n",
        "import matplotlib.pyplot as plt\n",
        "import seaborn as sns\n",
        "from sklearn.metrics import (\n",
        "    accuracy_score,\n",
        "    precision_recall_fscore_support,\n",
        "    confusion_matrix\n",
        ")\n",
        "import pandas as pd\n",
        "from datasets import load_dataset, concatenate_datasets\n",
        "\n",
        "from transformers import (\n",
        "    AutoTokenizer,\n",
        "    AutoModelForSequenceClassification,\n",
        "    BitsAndBytesConfig,\n",
        "    Trainer,\n",
        "    TrainingArguments,\n",
        "    TrainerCallback\n",
        ")\n",
        "\n",
        "from sentence_transformers.losses import CosineSimilarityLoss\n",
        "from peft import (\n",
        "    get_peft_model,\n",
        "    LoraConfig,\n",
        "    TaskType,\n",
        "    AutoPeftModelForCausalLM\n",
        ")\n",
        "import wandb\n",
        "from huggingface_hub import login\n",
        "from evaluate import load\n",
        "import torch\n"
      ]
    },
    {
      "cell_type": "code",
      "execution_count": null,
      "metadata": {
        "id": "sLhAqJxXdwmD"
      },
      "outputs": [],
      "source": [
        "# Authentification avec votre jeton Hugging Face\n",
        "login(token=\"Token\")\n"
      ]
    },
    {
      "cell_type": "markdown",
      "metadata": {
        "id": "RQivYV3eTnXO"
      },
      "source": [
        "# 2. Initialisation et Chargement des datasets"
      ]
    },
    {
      "cell_type": "code",
      "execution_count": null,
      "metadata": {
        "colab": {
          "base_uri": "https://localhost:8080/",
          "height": 125
        },
        "id": "c1_UUaej8j5l",
        "outputId": "5113d75e-07f0-43eb-8105-ddd6abf0e83e"
      },
      "outputs": [
        {
          "data": {
            "text/html": [
              "Tracking run with wandb version 0.19.11"
            ],
            "text/plain": [
              "<IPython.core.display.HTML object>"
            ]
          },
          "metadata": {},
          "output_type": "display_data"
        },
        {
          "data": {
            "text/html": [
              "Run data is saved locally in <code>/content/wandb/run-20250525_170854-aelchao3</code>"
            ],
            "text/plain": [
              "<IPython.core.display.HTML object>"
            ]
          },
          "metadata": {},
          "output_type": "display_data"
        },
        {
          "data": {
            "text/html": [
              "Syncing run <strong><a href='https://wandb.ai/amira-d-merad-universit-de-montpellier/LoRaNLI/runs/aelchao3' target=\"_blank\">sick/sick</a></strong> to <a href='https://wandb.ai/amira-d-merad-universit-de-montpellier/LoRaNLI' target=\"_blank\">Weights & Biases</a> (<a href='https://wandb.me/developer-guide' target=\"_blank\">docs</a>)<br>"
            ],
            "text/plain": [
              "<IPython.core.display.HTML object>"
            ]
          },
          "metadata": {},
          "output_type": "display_data"
        },
        {
          "data": {
            "text/html": [
              " View project at <a href='https://wandb.ai/amira-d-merad-universit-de-montpellier/LoRaNLI' target=\"_blank\">https://wandb.ai/amira-d-merad-universit-de-montpellier/LoRaNLI</a>"
            ],
            "text/plain": [
              "<IPython.core.display.HTML object>"
            ]
          },
          "metadata": {},
          "output_type": "display_data"
        },
        {
          "data": {
            "text/html": [
              " View run at <a href='https://wandb.ai/amira-d-merad-universit-de-montpellier/LoRaNLI/runs/aelchao3' target=\"_blank\">https://wandb.ai/amira-d-merad-universit-de-montpellier/LoRaNLI/runs/aelchao3</a>"
            ],
            "text/plain": [
              "<IPython.core.display.HTML object>"
            ]
          },
          "metadata": {},
          "output_type": "display_data"
        },
        {
          "data": {
            "text/html": [
              "<button onClick=\"this.nextSibling.style.display='block';this.style.display='none';\">Display W&B run</button><iframe src='https://wandb.ai/amira-d-merad-universit-de-montpellier/LoRaNLI/runs/aelchao3?jupyter=true' style='border:none;width:100%;height:420px;display:none;'></iframe>"
            ],
            "text/plain": [
              "<wandb.sdk.wandb_run.Run at 0x7c67faaf03d0>"
            ]
          },
          "execution_count": 558,
          "metadata": {},
          "output_type": "execute_result"
        }
      ],
      "source": [
        "#wandb\n",
        "wandb.init(project=\"LoRaNLI\", name=\"sick/sick\")"
      ]
    },
    {
      "cell_type": "code",
      "execution_count": null,
      "metadata": {
        "colab": {
          "base_uri": "https://localhost:8080/"
        },
        "id": "qYxLzGBKt3Z3",
        "outputId": "adc4e7a0-68cd-4b78-d732-cbbedb85f681"
      },
      "outputs": [
        {
          "name": "stdout",
          "output_type": "stream",
          "text": [
            "Dataset({\n",
            "    features: ['id', 'premises', 'hypothesis', 'label', 'question', 'answer', 'premises_original', 'premise1', 'premise1_original', 'premise2', 'premise2_original', 'premise3', 'premise3_original', 'premise4', 'premise4_original', 'premise5', 'premise5_original', 'hypothesis_original', 'question_original', 'note', 'topic'],\n",
            "    num_rows: 346\n",
            "})\n"
          ]
        }
      ],
      "source": [
        "#Chargement des Datasets\n",
        "\n",
        "dataset_gqnli = load_dataset(\"maximoss/gqnli-fr\")[\"test\"]\n",
        "\n",
        "test_dataset_rte3 = load_dataset(\"maximoss/rte3-french\")[\"test\"]\n",
        "\n",
        "dataset_rte3 = load_dataset(\"maximoss/rte3-french\")[\"validation\"]\n",
        "\n",
        "train_dataset_sick = load_dataset(\"maximoss/sick-fr-mt\")[\"train\"]\n",
        "eval_dataset_sick = load_dataset(\"maximoss/sick-fr-mt\")[\"validation\"]\n",
        "test_dataset_sick = load_dataset(\"maximoss/sick-fr-mt\")[\"test\"]\n",
        "\n",
        "fracas_dataset = load_dataset(\"maximoss/fracas\")[\"train\"]\n",
        "print(fracas_dataset)\n",
        "\n"
      ]
    },
    {
      "cell_type": "markdown",
      "metadata": {
        "id": "bFUT-oL2UPZ0"
      },
      "source": [
        "# 3. Traitement des Datasets"
      ]
    },
    {
      "cell_type": "markdown",
      "metadata": {
        "id": "VfqL-hGQaIvW"
      },
      "source": [
        "### 3.1 Traitement sur Gqnli"
      ]
    },
    {
      "cell_type": "code",
      "execution_count": null,
      "metadata": {
        "colab": {
          "base_uri": "https://localhost:8080/"
        },
        "id": "qLouljRNqzFY",
        "outputId": "d24592cb-a568-4c22-c197-04ddb4b6d402"
      },
      "outputs": [
        {
          "name": "stdout",
          "output_type": "stream",
          "text": [
            "0 32\n",
            "1 33\n",
            "2 35\n"
          ]
        }
      ],
      "source": [
        "dataset_gqnli = dataset_gqnli .remove_columns([col for col in dataset_gqnli .column_names if col not in ['premise', 'hypothesis', 'label']])\n",
        "\n",
        "dataset_gqnli_without_rep=dataset_gqnli.select(range(0,100))\n",
        "\n",
        "indices0GQ = [i for i, ex in enumerate(dataset_gqnli_without_rep) if ex['label'] == 0]\n",
        "print('0', len(indices0GQ))\n",
        "indices1GQ = [i for i, ex in enumerate(dataset_gqnli_without_rep) if ex['label'] == 1]\n",
        "print('1', len(indices1GQ))\n",
        "indices2GQ = [i for i, ex in enumerate(dataset_gqnli_without_rep) if ex['label'] == 2]\n",
        "print('2', len(indices2GQ))"
      ]
    },
    {
      "cell_type": "code",
      "execution_count": null,
      "metadata": {
        "colab": {
          "base_uri": "https://localhost:8080/"
        },
        "id": "FuYwETD5Ql-S",
        "outputId": "c5f0c2a1-5aa3-41d6-a472-9e450b61f8aa"
      },
      "outputs": [
        {
          "name": "stdout",
          "output_type": "stream",
          "text": [
            "train GQNLI : 60\n",
            "eval GQNLI : 100\n",
            "test GQNLI : 40\n"
          ]
        }
      ],
      "source": [
        "### Traitement de gqnli\n",
        "\n",
        "k =20\n",
        "\n",
        "contradict_dataset_gqnli = dataset_gqnli_without_rep.select(indices2GQ[ :k])\n",
        "contradict_rest = dataset_gqnli_without_rep.select(indices2GQ[k :])\n",
        "\n",
        "neutral_dataset_gqnli = dataset_gqnli_without_rep.select(indices1GQ[:k])\n",
        "neutral_rest = dataset_gqnli_without_rep.select(indices1GQ[k:])\n",
        "\n",
        "entailment_dataset_gqnli = dataset_gqnli_without_rep.select(indices0GQ[:k])\n",
        "\n",
        "entailment_rest=dataset_gqnli_without_rep.select(indices0GQ[k:])\n",
        "\n",
        "# Equilibrer et isoler le reste pour la validation et les testes\n",
        "\n",
        "train_dataset_gqnli =concatenate_datasets([contradict_dataset_gqnli, neutral_dataset_gqnli, entailment_dataset_gqnli])\n",
        "\n",
        "eval_dataset_gqnli = dataset_gqnli.select(range(100, 200))\n",
        "\n",
        "test_dataset_gqnli= concatenate_datasets([contradict_rest,neutral_rest,entailment_rest])\n",
        "\n",
        "\n",
        "#dataset_gqnli_rest=dataset_gqnli.select(range(100,len(dataset_gqnli)))\n",
        "\n",
        "print(f\"train GQNLI : {len(train_dataset_gqnli)}\")\n",
        "print(f\"eval GQNLI : {len(eval_dataset_gqnli)}\")\n",
        "print(f\"test GQNLI : {len(test_dataset_gqnli)}\")\n",
        "\n"
      ]
    },
    {
      "cell_type": "markdown",
      "metadata": {
        "id": "m5986LOPaA7U"
      },
      "source": [
        "### 3.2 Traitement sur Fracas"
      ]
    },
    {
      "cell_type": "code",
      "execution_count": null,
      "metadata": {
        "colab": {
          "base_uri": "https://localhost:8080/"
        },
        "id": "QR9IUHV-a15u",
        "outputId": "124552b1-6e39-4899-a5f8-26836310073b"
      },
      "outputs": [
        {
          "name": "stdout",
          "output_type": "stream",
          "text": [
            "0 37\n",
            "1 32\n",
            "2 5\n"
          ]
        }
      ],
      "source": [
        "####Traitement sur fracas\n",
        "\n",
        "def filter_valid_labels(example):\n",
        "    return example[\"label\"] in ['0', '1', '2']\n",
        "def convert_label(example):\n",
        "    return {\"label\": int(example[\"label\"])}\n",
        "\n",
        "\n",
        "fracas_dataset = fracas_dataset.rename_column(\"premises\", \"premise\")\n",
        "fracas_dataset_all=fracas_dataset\n",
        "fracas_dataset = fracas_dataset.filter(lambda x: x['topic'] == 'GENERALIZED QUANTIFIERS')\n",
        "fracas_dataset_all = fracas_dataset_all.remove_columns([col for col in fracas_dataset.column_names if col not in ['premise', 'hypothesis', 'label']])\n",
        "fracas_dataset = fracas_dataset.remove_columns([col for col in fracas_dataset.column_names if col not in ['premise', 'hypothesis', 'label']])\n",
        "fracas_dataset = fracas_dataset.filter(filter_valid_labels).map(convert_label)\n",
        "\n",
        "indices0 = [i for i, ex in enumerate(fracas_dataset) if ex['label'] == 0]\n",
        "print('0',len(indices0))\n",
        "indices1 = [i for i, ex in enumerate(fracas_dataset) if ex['label'] == 1]\n",
        "print('1', len(indices1))\n",
        "indices2 = [i for i, ex in enumerate(fracas_dataset) if ex['label'] == 2]\n",
        "print('2', len(indices2))\n",
        "\n"
      ]
    },
    {
      "cell_type": "code",
      "execution_count": null,
      "metadata": {
        "colab": {
          "base_uri": "https://localhost:8080/"
        },
        "id": "9OYFdTn1m-Ny",
        "outputId": "9ea982de-a7b6-4ac5-88d2-4b5fe3d341e0"
      },
      "outputs": [
        {
          "name": "stdout",
          "output_type": "stream",
          "text": [
            "train fracas  : 35\n",
            "test:fra 39\n"
          ]
        }
      ],
      "source": [
        "### Traitement  fracas\n",
        "k = 15\n",
        "\n",
        "contradict_dataset_f = fracas_dataset.select(indices2[:k])\n",
        "contradict_rest = fracas_dataset.select(indices2[k:])\n",
        "\n",
        "neutral_dataset = fracas_dataset.select(indices1[:k])\n",
        "neutral_rest = fracas_dataset.select(indices1[k:])\n",
        "\n",
        "entailment_dataset = fracas_dataset.select(indices0[:k])\n",
        "entailment_rest = fracas_dataset.select(indices0[k:])\n",
        "\n",
        "k_element_fracas_eq = concatenate_datasets([contradict_dataset_f, neutral_dataset, entailment_dataset])\n",
        "\n",
        "test_dataset_fracas= concatenate_datasets([neutral_rest, entailment_rest,contradict_rest])\n",
        "print(f\"train fracas  : {len(k_element_fracas_eq)}\")\n",
        "\n",
        "print(f\"test:fra {len(test_dataset_fracas)}\")"
      ]
    },
    {
      "cell_type": "markdown",
      "metadata": {
        "id": "KVVy8e75Z3Om"
      },
      "source": [
        "### 3.3 Traitement sur Sick"
      ]
    },
    {
      "cell_type": "code",
      "execution_count": null,
      "metadata": {
        "colab": {
          "base_uri": "https://localhost:8080/"
        },
        "id": "5I_p3zkHHmlu",
        "outputId": "61734d98-632c-4028-cda5-9633ff26589d"
      },
      "outputs": [
        {
          "name": "stdout",
          "output_type": "stream",
          "text": [
            "0 1274\n",
            "1 2524\n",
            "2 641\n"
          ]
        }
      ],
      "source": [
        "####Traitement sur sick\n",
        "\n",
        "train_dataset_sick = load_dataset(\"maximoss/sick-fr-mt\")[\"train\"]\n",
        "eval_dataset_sick = load_dataset(\"maximoss/sick-fr-mt\")[\"validation\"]\n",
        "test_dataset_sick = load_dataset(\"maximoss/sick-fr-mt\")[\"test\"]\n",
        "\n",
        "def encode_label(example):\n",
        "    if example['entailment_label'] == 'NEUTRAL':\n",
        "        example['entailment_label'] = 1\n",
        "    elif example['entailment_label'] == 'CONTRADICTION':\n",
        "        example['entailment_label'] = 2\n",
        "    else:\n",
        "        example['entailment_label'] = 0\n",
        "    return example\n",
        "\n",
        "train_dataset_sick = train_dataset_sick.map(encode_label)\n",
        "\n",
        "eval_dataset_sick = eval_dataset_sick.map(encode_label)\n",
        "test_dataset_sick = test_dataset_sick.map(encode_label)\n",
        "\n",
        "train_dataset_sick = train_dataset_sick.remove_columns([col for col in train_dataset_sick.column_names if col not in ['sentence_A', 'sentence_B', 'entailment_label']])\n",
        "\n",
        "test_dataset_sick = test_dataset_sick.remove_columns([col for col in test_dataset_sick.column_names if col not in ['sentence_A', 'sentence_B', 'entailment_label']])\n",
        "eval_dataset_sick = eval_dataset_sick.remove_columns([col for col in eval_dataset_sick.column_names if col not in ['sentence_A', 'sentence_B', 'entailment_label']])\n",
        "\n",
        "train_dataset_sick= train_dataset_sick.rename_column(\"sentence_A\", \"premise\")\n",
        "train_dataset_sick= train_dataset_sick.rename_column(\"sentence_B\", \"hypothesis\")\n",
        "train_dataset_sick= train_dataset_sick.rename_column(\"entailment_label\", \"label\")\n",
        "\n",
        "eval_dataset_sick= eval_dataset_sick.rename_column(\"sentence_A\", \"premise\")\n",
        "eval_dataset_sick= eval_dataset_sick.rename_column(\"sentence_B\", \"hypothesis\")\n",
        "eval_dataset_sick= eval_dataset_sick.rename_column(\"entailment_label\", \"label\")\n",
        "\n",
        "test_dataset_sick= test_dataset_sick.rename_column(\"sentence_A\", \"premise\")\n",
        "test_dataset_sick= test_dataset_sick.rename_column(\"sentence_B\", \"hypothesis\")\n",
        "test_dataset_sick= test_dataset_sick.rename_column(\"entailment_label\", \"label\")\n",
        "\n",
        "indices_e = [i for i, ex in enumerate(train_dataset_sick) if ex['label'] == 0]\n",
        "print('0',len(indices_e))\n",
        "indices_n = [i for i, ex in enumerate(train_dataset_sick) if ex['label'] == 1]\n",
        "print('1',len(indices_n))\n",
        "indices_c = [i for i, ex in enumerate(train_dataset_sick) if ex['label'] == 2]\n",
        "print('2',len(indices_c))\n",
        "\n",
        "\n",
        "## Les K element par classe pour les fewshot\n",
        "\n",
        "k=20\n",
        "\n",
        "dataset_sick= concatenate_datasets([train_dataset_sick, eval_dataset_sick, test_dataset_sick])\n",
        "\n",
        "contradict_dataset_T = train_dataset_sick.select(indices_c[:k+10])\n",
        "\n",
        "neutral_dataset_T = train_dataset_sick.select(indices_n[:k])\n",
        "\n",
        "entailment_dataset_T = train_dataset_sick.select(indices_e[:k])\n",
        "\n",
        "contradict_dataset = train_dataset_sick.select(indices_c[:30])\n",
        "\n",
        "train_dataset_sick_equilibrer = concatenate_datasets([contradict_dataset_T, neutral_dataset_T, entailment_dataset_T])\n",
        "\n",
        "eval_dataset_sick=eval_dataset_sick.select(range(100))"
      ]
    },
    {
      "cell_type": "markdown",
      "metadata": {
        "id": "zUktOOr7Zulk"
      },
      "source": [
        "### 3.4. Traitement sur RT3"
      ]
    },
    {
      "cell_type": "code",
      "execution_count": null,
      "metadata": {
        "colab": {
          "base_uri": "https://localhost:8080/"
        },
        "id": "-1viRjNrAtwE",
        "outputId": "f59abdaf-c336-47fb-c167-df098c94b9ec"
      },
      "outputs": [
        {
          "name": "stdout",
          "output_type": "stream",
          "text": [
            "0 409\n",
            "1 300\n",
            "2 91\n"
          ]
        }
      ],
      "source": [
        "####Traitement sur RT3\n",
        "dataset_rte3  = dataset_rte3.remove_columns([col for col in dataset_rte3.column_names if col not in ['premise', 'hypothesis', 'label']])\n",
        "dataset_rte3  = dataset_rte3.remove_columns([col for col in dataset_rte3.column_names if col not in ['premise', 'hypothesis', 'label']])\n",
        "\n",
        "test_dataset_rte3=test_dataset_rte3.remove_columns([col for col in test_dataset_rte3.column_names if col not in ['premise', 'hypothesis', 'label']])\n",
        "\n",
        "indices0 = [i for i, ex in enumerate(dataset_rte3 ) if ex['label'] == 0]\n",
        "print('0', len(indices0))\n",
        "indices1 = [i for i, ex in enumerate(dataset_rte3) if ex['label'] == 1]\n",
        "print('1', len(indices1))\n",
        "indices2 = [i for i, ex in enumerate(dataset_rte3) if ex['label'] == 2]\n",
        "print('2', len(indices2))\n",
        "\n",
        "## Les K element par classe pour les fewshot\n",
        "k=40\n",
        "contradict_dataset_rt3 =  dataset_rte3.select(indices2[:k])\n",
        "contradict_rest_rt3 =  dataset_rte3.select(indices2[k:])\n",
        "\n",
        "neutral_dataset_rt3 =  dataset_rte3.select(indices1[:k])\n",
        "neutral_rest_rt3 =  dataset_rte3.select(indices1[k:])\n",
        "\n",
        "entailment_dataset_rt3 =  dataset_rte3.select(indices0[:k])\n",
        "entailment_rest_rt3 =  dataset_rte3.select(indices0[k:])\n",
        "\n",
        "# Equilibrer et isoler le reste pour la validation\n",
        "\n",
        "train_dataset_rte3=concatenate_datasets([contradict_dataset_rt3, neutral_dataset_rt3, entailment_dataset_rt3])\n",
        "\n",
        "dataset_rt3_rest=concatenate_datasets([neutral_rest_rt3, entailment_rest_rt3,contradict_rest_rt3])\n",
        "\n",
        "eval_dataset_rte3=dataset_rt3_rest\n",
        "\n",
        "\n"
      ]
    },
    {
      "cell_type": "markdown",
      "metadata": {
        "id": "wukB0WrZaP7z"
      },
      "source": [
        "### 3.4 Traitement des mixs entre dataset"
      ]
    },
    {
      "cell_type": "code",
      "execution_count": null,
      "metadata": {
        "id": "HV-6ZUzIG2I7"
      },
      "outputs": [],
      "source": [
        "#MIX   Train:\n",
        "\n",
        "train_dataset_gqnli_fracas= concatenate_datasets([train_dataset_gqnli,k_element_fracas_eq ])\n",
        "\n",
        "train_dataset_sick_farcas=concatenate_datasets([train_dataset_sick_equilibrer, k_element_fracas_eq])\n",
        "\n",
        "train_dataset_gqnli_sick = concatenate_datasets([train_dataset_gqnli, train_dataset_sick_equilibrer])\n",
        "\n",
        "##MIX Eval\n",
        "eval_dataset_gqnli_fracas= concatenate_datasets([eval_dataset_gqnli,k_element_fracas_eq])\n",
        "\n",
        "eval_dataset_sick_fracas= concatenate_datasets([eval_dataset_sick, k_element_fracas_eq])\n",
        "\n",
        "eval_dataset_gqnli_sick  = concatenate_datasets([eval_dataset_sick,eval_dataset_gqnli])\n",
        "\n",
        "eval_dataset_sick_fracas_gqnli = concatenate_datasets([eval_dataset_sick_fracas,eval_dataset_gqnli  ])\n",
        "\n",
        "test_dataset_gqnli_sick = concatenate_datasets([test_dataset_gqnli, test_dataset_sick])"
      ]
    },
    {
      "cell_type": "markdown",
      "metadata": {
        "id": "8JDHXZyOYjTZ"
      },
      "source": [
        "# 4. Prétraitement : Tokenisation des données avec CamemBERT"
      ]
    },
    {
      "cell_type": "code",
      "execution_count": null,
      "metadata": {
        "id": "f56r0sSCRocC"
      },
      "outputs": [],
      "source": [
        "\n",
        "model_id =  \"almanach/camembertav2-base-xnli\"\n",
        "tokenizer = AutoTokenizer.from_pretrained(model_id, use_fast=True)\n",
        "def preprocess_function(examples):\n",
        "    encodings = tokenizer(examples['premise'], examples['hypothesis'],\n",
        "                          padding=\"max_length\", truncation=True)\n",
        "    encodings['label'] = examples['label']\n",
        "    return encodings\n"
      ]
    },
    {
      "cell_type": "markdown",
      "metadata": {
        "id": "vcI0LP1xbcBv"
      },
      "source": [
        "## 4.1 Encodage des Données Textuelles pour l’Entraînement"
      ]
    },
    {
      "cell_type": "code",
      "execution_count": null,
      "metadata": {
        "colab": {
          "base_uri": "https://localhost:8080/",
          "height": 298,
          "referenced_widgets": [
            "2092168e4168483895c1ae070b00489b",
            "5643fbf70a494c1684a9ff20e77a3a56",
            "1f88616ed8034278b55d89bd9206dce1",
            "4b132f8ce2bf4a5e9e4e61a8614496a9",
            "1228dddd97614917a0ef4914c1c53c5c",
            "c3ad6b89347e42c6ba3f1177c0f986e4",
            "3231e520296c45bfaef6434a96dce192",
            "2b0b1234a8874242b27761d8938bfab9",
            "5f65561c1e7042a88e8332e84067acb2",
            "25d87f0113bf42129fe8d624526dd176",
            "2fa99187998549e38071aad186b1149c",
            "941335192e8844829fc6b6c7a7596ab0",
            "47527bb81bbb4e558d52e7d91a698616",
            "ee7fef20b2da43e591b5c502fb72b631",
            "296a91fac1e64079b36021db0b18dfb6",
            "e7d4f840bd4a4680a1f17f4043adc3fe",
            "083acfb0e81048b1801be88c38cfe91b",
            "7ea52e1c20394f2eadfc0d717a36de93",
            "fcab5a1b1d5943cf89f7385155dcfead",
            "ab852e22b3534a49a1aa0cb250ad92c9",
            "6230734535ba45d896d200275167de3c",
            "7de104d149c645c5a2fc38d556704528",
            "88f194097d8a451f8915e74ae84df299",
            "8e07e15c95c2406d89fccebbd2a1c914",
            "9ec2681f8cf3426caa82f268874b7a16",
            "33cf25e10aa0490d81f0122104cb2b9f",
            "a115c2976d004ce09f538260c353aaf4",
            "1a1ed5feb62a4b8eabc32ce3bc9f4e8b",
            "f6f8d55e82ca434cb555c69815819920",
            "b6f7ccc2fd8c4d52b6f05951a4cf0e31",
            "627ab5d3a4af480bbcdf6b7613e597d8",
            "69c5100c5e6d4920b95f2fdb20e8116d",
            "00f124c973c24fb2a280862779e5c51a"
          ]
        },
        "id": "pzXC0HFVqHPl",
        "outputId": "92f41527-9437-4735-e83a-d13980c7e840"
      },
      "outputs": [
        {
          "data": {
            "application/vnd.jupyter.widget-view+json": {
              "model_id": "2092168e4168483895c1ae070b00489b",
              "version_major": 2,
              "version_minor": 0
            },
            "text/plain": [
              "Map:   0%|          | 0/60 [00:00<?, ? examples/s]"
            ]
          },
          "metadata": {},
          "output_type": "display_data"
        },
        {
          "name": "stderr",
          "output_type": "stream",
          "text": [
            "Asking to pad to max_length but no maximum length is provided and the model has no predefined maximum length. Default to no padding.\n",
            "Asking to truncate to max_length but no maximum length is provided and the model has no predefined maximum length. Default to no truncation.\n"
          ]
        },
        {
          "data": {
            "application/vnd.jupyter.widget-view+json": {
              "model_id": "941335192e8844829fc6b6c7a7596ab0",
              "version_major": 2,
              "version_minor": 0
            },
            "text/plain": [
              "Map:   0%|          | 0/105 [00:00<?, ? examples/s]"
            ]
          },
          "metadata": {},
          "output_type": "display_data"
        },
        {
          "data": {
            "application/vnd.jupyter.widget-view+json": {
              "model_id": "88f194097d8a451f8915e74ae84df299",
              "version_major": 2,
              "version_minor": 0
            },
            "text/plain": [
              "Map:   0%|          | 0/130 [00:00<?, ? examples/s]"
            ]
          },
          "metadata": {},
          "output_type": "display_data"
        },
        {
          "name": "stdout",
          "output_type": "stream",
          "text": [
            "train elements of GQNLI Only  60\n",
            "train elements of GQNLI + Fracas   95\n",
            "train elements of SICK + Fracas  105\n",
            "train elements of Fracas Only  35\n",
            "train elements of GQNLI + Sick  130\n",
            "train elements of Sick Only 70\n",
            "train elements of Rt3 Only  120\n",
            "eval elements of Rt3 Only  680\n"
          ]
        }
      ],
      "source": [
        "######  TRAIN  #####################################\n",
        "fracas_dataset=fracas_dataset.map(preprocess_function, batched=True)\n",
        "\n",
        "train_dataset_sick = train_dataset_sick_equilibrer.map(preprocess_function, batched=True)\n",
        "\n",
        "eval_dataset_sick_fracas=eval_dataset_sick_fracas.map(preprocess_function, batched=True)\n",
        "\n",
        "train_dataset_gqnli = train_dataset_gqnli.map(preprocess_function, batched=True)\n",
        "\n",
        "train_dataset_gqnli_fracas = train_dataset_gqnli_fracas.map(preprocess_function, batched=True)\n",
        "\n",
        "train_dataset_rte3= train_dataset_rte3.map(preprocess_function, batched=True)\n",
        "\n",
        "train_dataset_sick_farcas= train_dataset_sick_farcas.map(preprocess_function, batched=True)\n",
        "\n",
        "k_element_fracas_eq= k_element_fracas_eq.map(preprocess_function, batched=True)\n",
        "\n",
        "train_dataset_gqnli_sick = train_dataset_gqnli_sick.map(preprocess_function, batched=True)\n",
        "\n",
        "train_dataset_sick_equilibrer = train_dataset_sick_equilibrer.map(preprocess_function, batched=True)\n",
        "\n",
        "######  EVALUATION  ##################################\n",
        "eval_dataset_sick= eval_dataset_sick.map(preprocess_function, batched=True)\n",
        "\n",
        "eval_dataset_rte3= eval_dataset_rte3.map(preprocess_function, batched=True)\n",
        "\n",
        "eval_dataset_sick_fracas= eval_dataset_sick_fracas.map(preprocess_function, batched=True)\n",
        "\n",
        "eval_dataset_gqnli = eval_dataset_gqnli.map(preprocess_function, batched=True)\n",
        "\n",
        "eval_dataset_gqnli_fracas = eval_dataset_gqnli_fracas.map(preprocess_function, batched=True)\n",
        "\n",
        "eval_dataset_gqnli_sick = eval_dataset_gqnli_sick.map(preprocess_function, batched=True)\n",
        "\n",
        "eval_dataset_sick_fracas_gqnli= eval_dataset_sick_fracas_gqnli.map(preprocess_function, batched=True)\n",
        "\n",
        "######  Test   #####################################\n",
        "\n",
        "test_dataset_gqnli = test_dataset_gqnli.map(preprocess_function, batched=True)\n",
        "\n",
        "test_dataset_rte3=test_dataset_rte3.map(preprocess_function, batched=True)\n",
        "\n",
        "test_dataset_fracas = test_dataset_fracas.map(preprocess_function, batched=True)\n",
        "\n",
        "test_dataset_sick = test_dataset_sick.map(preprocess_function, batched=True)\n",
        "\n",
        "test_dataset_gqnli_sick=test_dataset_gqnli_sick.map(preprocess_function, batched=True)\n",
        "\n",
        "print (\"train elements of GQNLI Only \",len(train_dataset_gqnli))\n",
        "print (\"train elements of GQNLI + Fracas  \",len(train_dataset_gqnli_fracas))\n",
        "print (\"train elements of SICK + Fracas \",len(train_dataset_sick_farcas))\n",
        "print (\"train elements of Fracas Only \" ,len(k_element_fracas_eq))\n",
        "print (\"train elements of GQNLI + Sick \",len(train_dataset_gqnli_sick))\n",
        "print (\"train elements of Sick Only\",len(train_dataset_sick_equilibrer))\n",
        "print(\"train elements of Rt3 Only \",len(train_dataset_rte3))\n",
        "print(\"eval elements of Rt3 Only \",len(eval_dataset_rte3))"
      ]
    },
    {
      "cell_type": "markdown",
      "metadata": {
        "id": "qycJB6wxbvgD"
      },
      "source": [
        "# 5. Fine-Tuning avec LoRA : Configuration et Boucle d’Entraînement"
      ]
    },
    {
      "cell_type": "markdown",
      "metadata": {
        "id": "UHx7Th9ecBn7"
      },
      "source": [
        "## 5.1 Configuration de Lora"
      ]
    },
    {
      "cell_type": "code",
      "execution_count": null,
      "metadata": {
        "colab": {
          "base_uri": "https://localhost:8080/"
        },
        "id": "3tgLoV9mV9bJ",
        "outputId": "a91ea68a-f0a9-40c0-a36a-80d0a121a6c3"
      },
      "outputs": [
        {
          "name": "stdout",
          "output_type": "stream",
          "text": [
            "trainable params: 1,181,955 || all params: 112,391,430 || trainable%: 1.0516\n"
          ]
        }
      ],
      "source": [
        "model = AutoModelForSequenceClassification.from_pretrained(\n",
        "    model_id,\n",
        "    num_labels=3,\n",
        "    device_map=\"auto\"\n",
        ")\n",
        "lora_config = LoraConfig(\n",
        "    r=32,\n",
        "    lora_alpha=256,\n",
        "    target_modules=[\"query_proj\", \"value_proj\"],\n",
        "    lora_dropout=0.05,\n",
        "    task_type=TaskType.SEQ_CLS,\n",
        ")\n",
        "\n",
        "lora_model = get_peft_model(model, lora_config)\n",
        "lora_model.print_trainable_parameters()\n",
        "\n"
      ]
    },
    {
      "cell_type": "markdown",
      "metadata": {
        "id": "akT-ISnEcHAP"
      },
      "source": [
        "## 5.2 Entrainement"
      ]
    },
    {
      "cell_type": "code",
      "execution_count": null,
      "metadata": {
        "colab": {
          "base_uri": "https://localhost:8080/",
          "height": 846
        },
        "id": "7yVdDnpjvjb9",
        "outputId": "c945b98b-1c90-4bce-9a73-86d0443c4432"
      },
      "outputs": [
        {
          "name": "stderr",
          "output_type": "stream",
          "text": [
            "<ipython-input-598-edc75ed6fc07>:58: FutureWarning: `tokenizer` is deprecated and will be removed in version 5.0.0 for `Trainer.__init__`. Use `processing_class` instead.\n",
            "  trainer = Trainer(\n",
            "No label_names provided for model class `PeftModelForSequenceClassification`. Since `PeftModel` hides base models input arguments, if label_names is not given, label_names can't be set automatically within `Trainer`. Note that empty label_names list will be used instead.\n"
          ]
        },
        {
          "data": {
            "text/html": [
              "\n",
              "    <div>\n",
              "      \n",
              "      <progress value='100' max='100' style='width:300px; height:20px; vertical-align: middle;'></progress>\n",
              "      [100/100 05:57, Epoch 20/20]\n",
              "    </div>\n",
              "    <table border=\"1\" class=\"dataframe\">\n",
              "  <thead>\n",
              " <tr style=\"text-align: left;\">\n",
              "      <th>Epoch</th>\n",
              "      <th>Training Loss</th>\n",
              "      <th>Validation Loss</th>\n",
              "      <th>Accuracy</th>\n",
              "      <th>F1</th>\n",
              "      <th>Precision</th>\n",
              "      <th>Recall</th>\n",
              "    </tr>\n",
              "  </thead>\n",
              "  <tbody>\n",
              "    <tr>\n",
              "      <td>0</td>\n",
              "      <td>No log</td>\n",
              "      <td>1.640833</td>\n",
              "      <td>0.550000</td>\n",
              "      <td>0.562536</td>\n",
              "      <td>0.618855</td>\n",
              "      <td>0.732527</td>\n",
              "    </tr>\n",
              "    <tr>\n",
              "      <td>1</td>\n",
              "      <td>No log</td>\n",
              "      <td>1.375010</td>\n",
              "      <td>0.590000</td>\n",
              "      <td>0.597129</td>\n",
              "      <td>0.633635</td>\n",
              "      <td>0.754032</td>\n",
              "    </tr>\n",
              "    <tr>\n",
              "      <td>2</td>\n",
              "      <td>0.404700</td>\n",
              "      <td>1.174201</td>\n",
              "      <td>0.620000</td>\n",
              "      <td>0.623199</td>\n",
              "      <td>0.638778</td>\n",
              "      <td>0.753136</td>\n",
              "    </tr>\n",
              "    <tr>\n",
              "      <td>3</td>\n",
              "      <td>0.404700</td>\n",
              "      <td>1.047652</td>\n",
              "      <td>0.650000</td>\n",
              "      <td>0.649060</td>\n",
              "      <td>0.656990</td>\n",
              "      <td>0.769265</td>\n",
              "    </tr>\n",
              "    <tr>\n",
              "      <td>4</td>\n",
              "      <td>0.259700</td>\n",
              "      <td>1.002631</td>\n",
              "      <td>0.660000</td>\n",
              "      <td>0.660764</td>\n",
              "      <td>0.664021</td>\n",
              "      <td>0.783154</td>\n",
              "    </tr>\n",
              "    <tr>\n",
              "      <td>5</td>\n",
              "      <td>0.259700</td>\n",
              "      <td>0.950954</td>\n",
              "      <td>0.690000</td>\n",
              "      <td>0.686015</td>\n",
              "      <td>0.678655</td>\n",
              "      <td>0.799283</td>\n",
              "    </tr>\n",
              "    <tr>\n",
              "      <td>6</td>\n",
              "      <td>0.212400</td>\n",
              "      <td>0.905388</td>\n",
              "      <td>0.700000</td>\n",
              "      <td>0.694603</td>\n",
              "      <td>0.683929</td>\n",
              "      <td>0.804659</td>\n",
              "    </tr>\n",
              "    <tr>\n",
              "      <td>7</td>\n",
              "      <td>0.212400</td>\n",
              "      <td>0.878676</td>\n",
              "      <td>0.710000</td>\n",
              "      <td>0.703300</td>\n",
              "      <td>0.689446</td>\n",
              "      <td>0.810036</td>\n",
              "    </tr>\n",
              "    <tr>\n",
              "      <td>8</td>\n",
              "      <td>0.148500</td>\n",
              "      <td>0.871512</td>\n",
              "      <td>0.720000</td>\n",
              "      <td>0.713388</td>\n",
              "      <td>0.700250</td>\n",
              "      <td>0.823925</td>\n",
              "    </tr>\n",
              "    <tr>\n",
              "      <td>9</td>\n",
              "      <td>0.148500</td>\n",
              "      <td>0.852018</td>\n",
              "      <td>0.720000</td>\n",
              "      <td>0.713388</td>\n",
              "      <td>0.700250</td>\n",
              "      <td>0.823925</td>\n",
              "    </tr>\n",
              "    <tr>\n",
              "      <td>10</td>\n",
              "      <td>0.145200</td>\n",
              "      <td>0.846175</td>\n",
              "      <td>0.720000</td>\n",
              "      <td>0.713388</td>\n",
              "      <td>0.700250</td>\n",
              "      <td>0.823925</td>\n",
              "    </tr>\n",
              "    <tr>\n",
              "      <td>11</td>\n",
              "      <td>0.145200</td>\n",
              "      <td>0.836754</td>\n",
              "      <td>0.720000</td>\n",
              "      <td>0.713388</td>\n",
              "      <td>0.700250</td>\n",
              "      <td>0.823925</td>\n",
              "    </tr>\n",
              "    <tr>\n",
              "      <td>12</td>\n",
              "      <td>0.143100</td>\n",
              "      <td>0.832011</td>\n",
              "      <td>0.710000</td>\n",
              "      <td>0.703300</td>\n",
              "      <td>0.689446</td>\n",
              "      <td>0.810036</td>\n",
              "    </tr>\n",
              "    <tr>\n",
              "      <td>13</td>\n",
              "      <td>0.143100</td>\n",
              "      <td>0.833642</td>\n",
              "      <td>0.710000</td>\n",
              "      <td>0.703300</td>\n",
              "      <td>0.689446</td>\n",
              "      <td>0.810036</td>\n",
              "    </tr>\n",
              "    <tr>\n",
              "      <td>14</td>\n",
              "      <td>0.088600</td>\n",
              "      <td>0.851405</td>\n",
              "      <td>0.710000</td>\n",
              "      <td>0.703300</td>\n",
              "      <td>0.689446</td>\n",
              "      <td>0.810036</td>\n",
              "    </tr>\n",
              "    <tr>\n",
              "      <td>15</td>\n",
              "      <td>0.088600</td>\n",
              "      <td>0.876004</td>\n",
              "      <td>0.710000</td>\n",
              "      <td>0.703300</td>\n",
              "      <td>0.689446</td>\n",
              "      <td>0.810036</td>\n",
              "    </tr>\n",
              "    <tr>\n",
              "      <td>16</td>\n",
              "      <td>0.097300</td>\n",
              "      <td>0.884577</td>\n",
              "      <td>0.710000</td>\n",
              "      <td>0.703300</td>\n",
              "      <td>0.689446</td>\n",
              "      <td>0.810036</td>\n",
              "    </tr>\n",
              "    <tr>\n",
              "      <td>17</td>\n",
              "      <td>0.097300</td>\n",
              "      <td>0.888827</td>\n",
              "      <td>0.710000</td>\n",
              "      <td>0.703300</td>\n",
              "      <td>0.689446</td>\n",
              "      <td>0.810036</td>\n",
              "    </tr>\n",
              "    <tr>\n",
              "      <td>18</td>\n",
              "      <td>0.076400</td>\n",
              "      <td>0.891558</td>\n",
              "      <td>0.710000</td>\n",
              "      <td>0.703300</td>\n",
              "      <td>0.689446</td>\n",
              "      <td>0.810036</td>\n",
              "    </tr>\n",
              "    <tr>\n",
              "      <td>19</td>\n",
              "      <td>0.076400</td>\n",
              "      <td>0.897179</td>\n",
              "      <td>0.710000</td>\n",
              "      <td>0.703300</td>\n",
              "      <td>0.689446</td>\n",
              "      <td>0.810036</td>\n",
              "    </tr>\n",
              "    <tr>\n",
              "      <td>20</td>\n",
              "      <td>0.131600</td>\n",
              "      <td>0.898439</td>\n",
              "      <td>0.710000</td>\n",
              "      <td>0.703300</td>\n",
              "      <td>0.689446</td>\n",
              "      <td>0.810036</td>\n",
              "    </tr>\n",
              "  </tbody>\n",
              "</table><p>"
            ],
            "text/plain": [
              "<IPython.core.display.HTML object>"
            ]
          },
          "metadata": {},
          "output_type": "display_data"
        },
        {
          "data": {
            "text/plain": [
              "TrainOutput(global_step=100, training_loss=0.17073452591896057, metrics={'train_runtime': 358.0814, 'train_samples_per_second': 3.91, 'train_steps_per_second': 0.279, 'total_flos': 32607993751920.0, 'train_loss': 0.17073452591896057, 'epoch': 20.0})"
            ]
          },
          "execution_count": 598,
          "metadata": {},
          "output_type": "execute_result"
        }
      ],
      "source": [
        "# entrainement\n",
        "\n",
        "class TestEvalCallback(TrainerCallback):\n",
        "    def __init__(self, test_dataset, trainer=None):\n",
        "        self.test_dataset = test_dataset\n",
        "        self.trainer = trainer\n",
        "\n",
        "    def on_epoch_end(self, args, state, control, **kwargs):\n",
        "        if self.trainer is None:\n",
        "            print(\"Trainer non défini dans callback, skipping test evaluation.\")\n",
        "            return\n",
        "\n",
        "\n",
        "        predictions = self.trainer.predict(self.test_dataset)\n",
        "        preds = np.argmax(predictions.predictions, axis=1)\n",
        "        labels = predictions.label_ids\n",
        "\n",
        "        acc = accuracy_score(labels, preds)\n",
        "        precision, recall, f1, _ = precision_recall_fscore_support(labels, preds, average='macro')\n",
        "\n",
        "        if wandb.run:\n",
        "            wandb.log({\n",
        "                \"epoch\": state.epoch,\n",
        "                \"test/accuracy\": acc,\n",
        "                \"test/f1\": f1,\n",
        "                \"test/precision\": precision,\n",
        "                \"test/recall\": recall\n",
        "            })\n",
        "\n",
        "def compute_metrics(p):\n",
        "    preds = p.predictions.argmax(axis=-1)\n",
        "    labels = p.label_ids\n",
        "    precision, recall, f1, _ = precision_recall_fscore_support(labels, preds, average='macro')\n",
        "    acc = accuracy_score(labels, preds)\n",
        "    return {\n",
        "        \"accuracy\": acc,\n",
        "        \"f1\": f1,\n",
        "        \"precision\": precision,\n",
        "        \"recall\": recall\n",
        "    }\n",
        "\n",
        "args = TrainingArguments(\n",
        "    eval_on_start = True ,\n",
        "    output_dir=\"./results\",\n",
        "    eval_strategy=\"epoch\",\n",
        "    logging_dir=\"./logs\",\n",
        "    logging_steps=10,\n",
        "    save_strategy=\"epoch\",\n",
        "    save_steps=150,\n",
        "    per_device_train_batch_size=16,\n",
        "    per_device_eval_batch_size=16,\n",
        "    num_train_epochs=20,\n",
        "    load_best_model_at_end=True,\n",
        "   # learning_rate=5e-6\n",
        "    report_to=\"wandb\",\n",
        ")\n",
        "\n",
        "trainer = Trainer(\n",
        "    model=lora_model,\n",
        "    args=args,\n",
        "    train_dataset= train_dataset_sick,\n",
        "    eval_dataset=eval_dataset_sick,\n",
        "    tokenizer=tokenizer,\n",
        "    compute_metrics=compute_metrics ,\n",
        "\n",
        ")\n",
        "\n",
        "test_callback = TestEvalCallback(test_dataset=test_dataset_sick, trainer=trainer)\n",
        "trainer.add_callback(test_callback)\n",
        "\n",
        "trainer.train()\n",
        "\n"
      ]
    },
    {
      "cell_type": "markdown",
      "metadata": {
        "id": "3UiynW4UcLLu"
      },
      "source": [
        "# 6. Testes et Analyses"
      ]
    },
    {
      "cell_type": "markdown",
      "metadata": {
        "id": "iZxL1I0xcdk3"
      },
      "source": [
        "## 6.1 Test sur FRACAS\n",
        "\n",
        "\n"
      ]
    },
    {
      "cell_type": "code",
      "execution_count": null,
      "metadata": {
        "colab": {
          "base_uri": "https://localhost:8080/",
          "height": 787
        },
        "id": "B8DIClsRMwgY",
        "outputId": "d0536a29-9c49-4bd9-a297-d51dfca42952"
      },
      "outputs": [
        {
          "data": {
            "text/html": [],
            "text/plain": [
              "<IPython.core.display.HTML object>"
            ]
          },
          "metadata": {},
          "output_type": "display_data"
        },
        {
          "name": "stderr",
          "output_type": "stream",
          "text": [
            "/usr/local/lib/python3.11/dist-packages/sklearn/metrics/_classification.py:1565: UndefinedMetricWarning: Recall is ill-defined and being set to 0.0 in labels with no true samples. Use `zero_division` parameter to control this behavior.\n",
            "  _warn_prf(average, modifier, f\"{metric.capitalize()} is\", len(result))\n"
          ]
        },
        {
          "name": "stdout",
          "output_type": "stream",
          "text": [
            "\n",
            "Évaluation sur le jeu de test :\n",
            "Accuracy  : 0.6667\n",
            "F1 Score  : 0.4164\n",
            "Recall    : 0.4207\n",
            "Precision : 0.4722\n"
          ]
        },
        {
          "name": "stderr",
          "output_type": "stream",
          "text": [
            "/usr/local/lib/python3.11/dist-packages/sklearn/metrics/_classification.py:1565: UndefinedMetricWarning: Recall is ill-defined and being set to 0.0 in labels with no true samples. Use `zero_division` parameter to control this behavior.\n",
            "  _warn_prf(average, modifier, f\"{metric.capitalize()} is\", len(result))\n"
          ]
        },
        {
          "data": {
            "text/plain": [
              "Text(70.72222222222221, 0.5, 'Véritables')"
            ]
          },
          "execution_count": 599,
          "metadata": {},
          "output_type": "execute_result"
        },
        {
          "data": {
            "image/png": "[encoded data removed]",
            "text/plain": [
              "<Figure size 800x600 with 2 Axes>"
            ]
          },
          "metadata": {},
          "output_type": "display_data"
        }
      ],
      "source": [
        "#test sur fracas\n",
        "\n",
        "predictions = trainer.predict(test_dataset_fracas)\n",
        "preds = predictions.predictions.argmax(axis=1)\n",
        "labels = predictions.label_ids\n",
        "\n",
        "\n",
        "acc = accuracy_score(labels, preds)\n",
        "precision, recall, f1, _ = precision_recall_fscore_support(labels, preds, average='macro')\n",
        "\n",
        "print(f\"\\nÉvaluation sur le jeu de test :\")\n",
        "print(f\"Accuracy  : {acc:.4f}\")\n",
        "print(f\"F1 Score  : {f1:.4f}\")\n",
        "print(f\"Recall    : {recall:.4f}\")\n",
        "print(f\"Precision : {precision:.4f}\")\n",
        "\n",
        "# Matrice de confusion\n",
        "cm = confusion_matrix(labels, preds)\n",
        "plt.figure(figsize=(8, 6))\n",
        "sns.heatmap(cm, annot=True, fmt=\"d\", cmap=\"Blues\")\n",
        "plt.title(\"Matrice de confusion sur le jeu de test\")\n",
        "plt.xlabel(\"Prédictions\")\n",
        "plt.ylabel(\"Véritables\")"
      ]
    },
    {
      "cell_type": "markdown",
      "metadata": {
        "id": "vdRrFvJ4ckxB"
      },
      "source": [
        "## 6.2 Test sur SICK"
      ]
    },
    {
      "cell_type": "code",
      "execution_count": null,
      "metadata": {
        "colab": {
          "base_uri": "https://localhost:8080/",
          "height": 693
        },
        "id": "BH9ZHwtAcmBu",
        "outputId": "e4c24342-cdc0-4882-d24b-5b88b3deb631"
      },
      "outputs": [
        {
          "data": {
            "text/html": [],
            "text/plain": [
              "<IPython.core.display.HTML object>"
            ]
          },
          "metadata": {},
          "output_type": "display_data"
        },
        {
          "name": "stdout",
          "output_type": "stream",
          "text": [
            "\n",
            "Évaluation sur le jeu de test :\n",
            "Accuracy  : 0.7097\n",
            "F1 Score  : 0.7027\n",
            "Recall    : 0.7946\n",
            "Precision : 0.7024\n"
          ]
        },
        {
          "data": {
            "text/plain": [
              "Text(70.72222222222221, 0.5, 'Véritables')"
            ]
          },
          "execution_count": 600,
          "metadata": {},
          "output_type": "execute_result"
        },
        {
          "data": {
            "image/png": "[encoded data removed]",
            "text/plain": [
              "<Figure size 800x600 with 2 Axes>"
            ]
          },
          "metadata": {},
          "output_type": "display_data"
        }
      ],
      "source": [
        "#test sur sick\n",
        "predictions = trainer.predict(test_dataset_sick)\n",
        "preds = predictions.predictions.argmax(axis=1)\n",
        "labels = predictions.label_ids\n",
        "\n",
        "acc = accuracy_score(labels, preds)\n",
        "precision, recall, f1, _ = precision_recall_fscore_support(labels, preds, average='macro')\n",
        "\n",
        "print(f\"\\nÉvaluation sur le jeu de test :\")\n",
        "print(f\"Accuracy  : {acc:.4f}\")\n",
        "print(f\"F1 Score  : {f1:.4f}\")\n",
        "print(f\"Recall    : {recall:.4f}\")\n",
        "print(f\"Precision : {precision:.4f}\")\n",
        "\n",
        "# Matrice de confusion\n",
        "cm = confusion_matrix(labels, preds)\n",
        "plt.figure(figsize=(8, 6))\n",
        "sns.heatmap(cm, annot=True, fmt=\"d\", cmap=\"Blues\")\n",
        "plt.title(\"Matrice de confusion sur le jeu de test\")\n",
        "plt.xlabel(\"Prédictions\")\n",
        "plt.ylabel(\"Véritables\")"
      ]
    },
    {
      "cell_type": "markdown",
      "metadata": {
        "id": "FTJWok22cwPN"
      },
      "source": [
        "## 6.3 Test sur GQNLI"
      ]
    },
    {
      "cell_type": "code",
      "execution_count": null,
      "metadata": {
        "colab": {
          "base_uri": "https://localhost:8080/",
          "height": 712
        },
        "id": "GnIxLvBHKNir",
        "outputId": "1daa5135-5f22-45bb-8e65-50b7424e471d"
      },
      "outputs": [
        {
          "name": "stdout",
          "output_type": "stream",
          "text": [
            " TestQNLI: 55\n"
          ]
        },
        {
          "data": {
            "text/html": [],
            "text/plain": [
              "<IPython.core.display.HTML object>"
            ]
          },
          "metadata": {},
          "output_type": "display_data"
        },
        {
          "name": "stdout",
          "output_type": "stream",
          "text": [
            "\n",
            "Évaluation sur le jeu de test :\n",
            "Accuracy  : 0.2909\n",
            "F1 Score  : 0.2732\n",
            "Recall    : 0.2874\n",
            "Precision : 0.2745\n"
          ]
        },
        {
          "data": {
            "text/plain": [
              "Text(70.72222222222221, 0.5, 'Véritables')"
            ]
          },
          "execution_count": 555,
          "metadata": {},
          "output_type": "execute_result"
        },
        {
          "data": {
            "image/png": "[encoded data removed]",
            "text/plain": [
              "<Figure size 800x600 with 2 Axes>"
            ]
          },
          "metadata": {},
          "output_type": "display_data"
        }
      ],
      "source": [
        "#test sur gqnli\n",
        "print(f\" TestQNLI: {len(test_dataset_gqnli)}\")\n",
        "predictions = trainer.predict(test_dataset_gqnli)\n",
        "preds = predictions.predictions.argmax(axis=1)\n",
        "labels = predictions.label_ids\n",
        "\n",
        "acc = accuracy_score(labels, preds)\n",
        "precision, recall, f1, _ = precision_recall_fscore_support(labels, preds, average='macro')\n",
        "\n",
        "print(f\"\\nÉvaluation sur le jeu de test :\")\n",
        "print(f\"Accuracy  : {acc:.4f}\")\n",
        "print(f\"F1 Score  : {f1:.4f}\")\n",
        "print(f\"Recall    : {recall:.4f}\")\n",
        "print(f\"Precision : {precision:.4f}\")\n",
        "\n",
        "# Matrice de confusion\n",
        "cm = confusion_matrix(labels, preds)\n",
        "plt.figure(figsize=(8, 6))\n",
        "sns.heatmap(cm, annot=True, fmt=\"d\", cmap=\"Blues\")\n",
        "plt.title(\"Matrice de confusion sur le jeu de test\")\n",
        "plt.xlabel(\"Prédictions\")\n",
        "plt.ylabel(\"Véritables\")"
      ]
    },
    {
      "cell_type": "markdown",
      "metadata": {
        "id": "HX2EPP6Tc1oe"
      },
      "source": [
        "## 6.4 Test sur RT3"
      ]
    },
    {
      "cell_type": "code",
      "execution_count": null,
      "metadata": {
        "colab": {
          "base_uri": "https://localhost:8080/",
          "height": 744,
          "referenced_widgets": [
            "48a08aeeeedb4a2a9eb86630b52cb0db",
            "cd900476d98441318bda0f46c008ff82",
            "90e731f797914eb1bdc27c832c842cd3",
            "70a950d71c014bc08b8a3548c718d3b6",
            "5211aaf46ec94a3a9b34e24292c13bf7",
            "2932694c99454ff79a66f549889ddf4f",
            "1072414e1eab4bbab440ef2a38b9c6d6",
            "19e150da0e63494e9fd4573f98db593e",
            "bb65e361a7084bdf8f974e0333e7c7f6",
            "a0e6e463b3874a50a664b03463991dc4",
            "9ed8a3ce3b8f4111b1d2a92a7b63a1c8"
          ]
        },
        "id": "knsRZvzXCmWq",
        "outputId": "c198e302-22bd-4272-b162-d99ce08e4b2c"
      },
      "outputs": [
        {
          "name": "stdout",
          "output_type": "stream",
          "text": [
            "Testrte3: 800\n"
          ]
        },
        {
          "data": {
            "application/vnd.jupyter.widget-view+json": {
              "model_id": "48a08aeeeedb4a2a9eb86630b52cb0db",
              "version_major": 2,
              "version_minor": 0
            },
            "text/plain": [
              "Map:   0%|          | 0/800 [00:00<?, ? examples/s]"
            ]
          },
          "metadata": {},
          "output_type": "display_data"
        },
        {
          "data": {
            "text/html": [],
            "text/plain": [
              "<IPython.core.display.HTML object>"
            ]
          },
          "metadata": {},
          "output_type": "display_data"
        },
        {
          "name": "stdout",
          "output_type": "stream",
          "text": [
            "\n",
            "Évaluation sur le jeu de test :\n",
            "Accuracy  : 0.6425\n",
            "F1 Score  : 0.5705\n",
            "Recall    : 0.5736\n",
            "Precision : 0.5909\n"
          ]
        },
        {
          "data": {
            "text/plain": [
              "Text(70.72222222222221, 0.5, 'Véritables')"
            ]
          },
          "execution_count": 556,
          "metadata": {},
          "output_type": "execute_result"
        },
        {
          "data": {
            "image/png": "[encoded data removed]",
            "text/plain": [
              "<Figure size 800x600 with 2 Axes>"
            ]
          },
          "metadata": {},
          "output_type": "display_data"
        }
      ],
      "source": [
        "#test rt3\n",
        "print(f\"Testrte3: {len(test_dataset_rte3)}\")\n",
        "test_dataset_rt3=test_dataset_rte3.map(preprocess_function, batched=True)\n",
        "predictions = trainer.predict(test_dataset_rt3)\n",
        "preds = predictions.predictions.argmax(axis=1)\n",
        "labels = predictions.label_ids\n",
        "\n",
        "acc = accuracy_score(labels, preds)\n",
        "precision, recall, f1, _ = precision_recall_fscore_support(labels, preds, average='macro')\n",
        "\n",
        "print(f\"\\nÉvaluation sur le jeu de test :\")\n",
        "print(f\"Accuracy  : {acc:.4f}\")\n",
        "print(f\"F1 Score  : {f1:.4f}\")\n",
        "print(f\"Recall    : {recall:.4f}\")\n",
        "print(f\"Precision : {precision:.4f}\")\n",
        "\n",
        "# Matrice de confusion\n",
        "cm = confusion_matrix(labels, preds)\n",
        "plt.figure(figsize=(8, 6))\n",
        "sns.heatmap(cm, annot=True, fmt=\"d\", cmap=\"Blues\")\n",
        "plt.title(\"Matrice de confusion sur le jeu de test\")\n",
        "plt.xlabel(\"Prédictions\")\n",
        "plt.ylabel(\"Véritables\")"
      ]
    },
    {
      "cell_type": "markdown",
      "metadata": {
        "id": "YHf2EHvKgrJ_"
      },
      "source": [
        "##6.5 Test Finale pour Wandb"
      ]
    },
    {
      "cell_type": "code",
      "execution_count": null,
      "metadata": {
        "colab": {
          "base_uri": "https://localhost:8080/",
          "height": 1000
        },
        "collapsed": true,
        "id": "LC5Z4L5Ysf-D",
        "outputId": "1596da1a-2e9d-4fc8-8c76-d1f9f243e25c"
      },
      "outputs": [
        {
          "data": {
            "text/html": [],
            "text/plain": [
              "<IPython.core.display.HTML object>"
            ]
          },
          "metadata": {},
          "output_type": "display_data"
        },
        {
          "name": "stdout",
          "output_type": "stream",
          "text": [
            "\n",
            "Évaluation sur le jeu de test :\n",
            "Accuracy  : 0.2909\n",
            "F1 Score  : 0.2732\n",
            "Recall    : 0.2874\n",
            "Precision : 0.2745\n"
          ]
        },
        {
          "data": {
            "text/html": [],
            "text/plain": [
              "<IPython.core.display.HTML object>"
            ]
          },
          "metadata": {},
          "output_type": "display_data"
        },
        {
          "data": {
            "text/html": [
              "<br>    <style><br>        .wandb-row {<br>            display: flex;<br>            flex-direction: row;<br>            flex-wrap: wrap;<br>            justify-content: flex-start;<br>            width: 100%;<br>        }<br>        .wandb-col {<br>            display: flex;<br>            flex-direction: column;<br>            flex-basis: 100%;<br>            flex: 1;<br>            padding: 10px;<br>        }<br>    </style><br><div class=\"wandb-row\"><div class=\"wandb-col\"><h3>Run history:</h3><br/><table class=\"wandb\"><tr><td>epoch</td><td>▁▁▂▂▂▃▃▄▄▄▅▅▅▆▆▇▇▇██</td></tr><tr><td>eval/accuracy</td><td>▁▂▄▅▆▆▆▆▆▇▇▇█████████</td></tr><tr><td>eval/f1</td><td>▁▂▄▅▆▅▆▆▆▆▇▇█████████</td></tr><tr><td>eval/loss</td><td>█▅▄▂▂▁▁▁▁▁▁▁▁▂▂▂▂▂▂▂▂</td></tr><tr><td>eval/precision</td><td>▁▂▃▅▆▅▆▆▆▇▆▇█████████</td></tr><tr><td>eval/recall</td><td>▁▂▃▄▅▅▅▅▆▆▆▇█████████</td></tr><tr><td>eval/runtime</td><td>▂▁▃▅█▄▃▄▅▆▅▆▆▅▄▅▆▅▄▅▅</td></tr><tr><td>eval/samples_per_second</td><td>▇█▆▄▁▅▆▅▄▃▄▃▃▄▅▄▃▄▅▄▄</td></tr><tr><td>eval/steps_per_second</td><td>▇█▆▄▁▅▆▅▄▃▄▃▃▄▅▄▃▄▅▄▄</td></tr><tr><td>test/accuracy</td><td>▇▇▇▇▇▇███████████████████████████████▁█▁</td></tr><tr><td>test/f1</td><td>▇▇▇▇▇▇█████████████████████████████▄█▁▆▁</td></tr><tr><td>test/loss</td><td>▅▄▃▃▂▂▂▂▂▂▂▃▃▃▃▃▃▃▃▃▂▂█▁█</td></tr><tr><td>test/precision</td><td>███████████████████████████████████▄█▁▆▁</td></tr><tr><td>test/recall</td><td>▇▇█████████████████████████████████▃█▁▅▁</td></tr><tr><td>test/runtime</td><td>▇▇██████████████████▁█▁▄▁</td></tr><tr><td>test/samples_per_second</td><td>██▇▇▇▇▇▇▇▇▇▇▇▇▇▇▇▇▇▇▃▇▄▁▃</td></tr><tr><td>test/steps_per_second</td><td>██▇▇▇▇▇▇▇▇▇▇▇▇▇▇▇▇▇▇▄▇▅▁▄</td></tr><tr><td>train/epoch</td><td>▁▁▁▂▂▂▂▂▃▃▃▃▃▃▄▄▄▄▅▅▅▅▅▅▆▆▆▆▆▆▇▇▇▇▇█████</td></tr><tr><td>train/global_step</td><td>▁▁▁▁▁▂▂▃▃▃▃▃▃▃▃▄▄▅▅▅▅▅▅▅▅▆▆▆▆▆▆▇▇▇▇█████</td></tr><tr><td>train/grad_norm</td><td>▆▅▃▃▄▆▆▅▅▄▄▄▆▁▃█▄▆</td></tr><tr><td>train/learning_rate</td><td>██▇▇▆▆▆▅▅▄▄▃▃▃▂▂▁▁</td></tr><tr><td>train/loss</td><td>█▇▅▅▄▅▄▄▃▃▂▂▂▂▂▁▁▁</td></tr></table><br/></div><div class=\"wandb-col\"><h3>Run summary:</h3><br/><table class=\"wandb\"><tr><td>epoch</td><td>20</td></tr><tr><td>eval/accuracy</td><td>0.625</td></tr><tr><td>eval/f1</td><td>0.62198</td></tr><tr><td>eval/loss</td><td>1.28504</td></tr><tr><td>eval/precision</td><td>0.62678</td></tr><tr><td>eval/recall</td><td>0.64181</td></tr><tr><td>eval/runtime</td><td>0.7963</td></tr><tr><td>eval/samples_per_second</td><td>251.154</td></tr><tr><td>eval/steps_per_second</td><td>16.325</td></tr><tr><td>test/accuracy</td><td>0.29091</td></tr><tr><td>test/f1</td><td>0.27316</td></tr><tr><td>test/loss</td><td>1.94547</td></tr><tr><td>test/precision</td><td>0.27449</td></tr><tr><td>test/recall</td><td>0.28736</td></tr><tr><td>test/runtime</td><td>0.311</td></tr><tr><td>test/samples_per_second</td><td>176.823</td></tr><tr><td>test/steps_per_second</td><td>12.86</td></tr><tr><td>total_flos</td><td>71277235655400.0</td></tr><tr><td>train/epoch</td><td>20</td></tr><tr><td>train/global_step</td><td>180</td></tr><tr><td>train/grad_norm</td><td>6.34593</td></tr><tr><td>train/learning_rate</td><td>0.0</td></tr><tr><td>train/loss</td><td>0.2091</td></tr><tr><td>train_loss</td><td>0.40265</td></tr><tr><td>train_runtime</td><td>378.5384</td></tr><tr><td>train_samples_per_second</td><td>7.133</td></tr><tr><td>train_steps_per_second</td><td>0.476</td></tr></table><br/></div></div>"
            ],
            "text/plain": [
              "<IPython.core.display.HTML object>"
            ]
          },
          "metadata": {},
          "output_type": "display_data"
        },
        {
          "data": {
            "text/html": [
              " View run <strong style=\"color:#cdcd00\">sick+GQ+fracas/sick+GQ</strong> at: <a href='https://wandb.ai/amira-d-merad-universit-de-montpellier/LoRaNLI/runs/67af5m5g' target=\"_blank\">https://wandb.ai/amira-d-merad-universit-de-montpellier/LoRaNLI/runs/67af5m5g</a><br> View project at: <a href='https://wandb.ai/amira-d-merad-universit-de-montpellier/LoRaNLI' target=\"_blank\">https://wandb.ai/amira-d-merad-universit-de-montpellier/LoRaNLI</a><br>Synced 5 W&B file(s), 1 media file(s), 0 artifact file(s) and 0 other file(s)"
            ],
            "text/plain": [
              "<IPython.core.display.HTML object>"
            ]
          },
          "metadata": {},
          "output_type": "display_data"
        },
        {
          "data": {
            "text/html": [
              "Find logs at: <code>./wandb/run-20250525_165528-67af5m5g/logs</code>"
            ],
            "text/plain": [
              "<IPython.core.display.HTML object>"
            ]
          },
          "metadata": {},
          "output_type": "display_data"
        }
      ],
      "source": [
        "#test finale pour Wandb\n",
        "predictions = trainer.predict(test_dataset_gqnli)\n",
        "preds = predictions.predictions.argmax(axis=1)\n",
        "labels = predictions.label_ids\n",
        "\n",
        "acc = accuracy_score(labels, preds)\n",
        "precision, recall, f1, _ = precision_recall_fscore_support(labels, preds, average='macro')\n",
        "\n",
        "print(f\"\\nÉvaluation sur le jeu de test :\")\n",
        "print(f\"Accuracy  : {acc:.4f}\")\n",
        "print(f\"F1 Score  : {f1:.4f}\")\n",
        "print(f\"Recall    : {recall:.4f}\")\n",
        "print(f\"Precision : {precision:.4f}\")\n",
        "\n",
        "wandb.log({\n",
        "    \"test/accuracy\": acc,\n",
        "    \"test/f1\": f1,\n",
        "    \"test/precision\": precision,\n",
        "    \"test/recall\": recall\n",
        "})\n",
        "\n",
        "# Matrice de confusion\n",
        "cm = confusion_matrix(labels, preds)\n",
        "plt.figure(figsize=(8, 6))\n",
        "sns.heatmap(cm, annot=True, fmt=\"d\", cmap=\"Blues\")\n",
        "plt.title(\"Matrice de confusion sur le jeu de test\")\n",
        "plt.xlabel(\"Prédictions\")\n",
        "plt.ylabel(\"Véritables\")\n",
        "wandb.log({\"confusion_matrix_test\": wandb.Image(plt)})\n",
        "plt.close()\n",
        "\n",
        "# Fermer wandb\n",
        "wandb.finish()\n"
      ]
    },
    {
      "cell_type": "markdown",
      "metadata": {
        "id": "Ey5KfLKqex54"
      },
      "source": [
        "#7. Sauvegarde du modèle LoRA fine-tuné"
      ]
    },
    {
      "cell_type": "code",
      "execution_count": null,
      "metadata": {
        "id": "A0AtY4lSIjvJ"
      },
      "outputs": [],
      "source": [
        "model.save_pretrained(\"./camembert_lora_nli\")"
      ]
    },
    {
      "cell_type": "markdown",
      "metadata": {
        "id": "WYSuvTamE-62"
      },
      "source": [
        "#8. Modèle pour l’inférence textuelle a deux étiquette\n"
      ]
    },
    {
      "cell_type": "markdown",
      "metadata": {
        "id": "X9kGpQE8BHwy"
      },
      "source": []
    },
    {
      "cell_type": "code",
      "execution_count": null,
      "metadata": {
        "colab": {
          "base_uri": "https://localhost:8080/",
          "height": 125
        },
        "id": "lB9RVcc_E_wL",
        "outputId": "77150588-b8bd-4d6c-dd23-7373accd2549"
      },
      "outputs": [
        {
          "data": {
            "text/html": [
              "Tracking run with wandb version 0.19.11"
            ],
            "text/plain": [
              "<IPython.core.display.HTML object>"
            ]
          },
          "metadata": {},
          "output_type": "display_data"
        },
        {
          "data": {
            "text/html": [
              "Run data is saved locally in <code>/content/wandb/run-20250525_134005-jsiajebz</code>"
            ],
            "text/plain": [
              "<IPython.core.display.HTML object>"
            ]
          },
          "metadata": {},
          "output_type": "display_data"
        },
        {
          "data": {
            "text/html": [
              "Syncing run <strong><a href='https://wandb.ai/amira-d-merad-universit-de-montpellier/LoRaBI/runs/jsiajebz' target=\"_blank\">Rte3/Rte3</a></strong> to <a href='https://wandb.ai/amira-d-merad-universit-de-montpellier/LoRaBI' target=\"_blank\">Weights & Biases</a> (<a href='https://wandb.me/developer-guide' target=\"_blank\">docs</a>)<br>"
            ],
            "text/plain": [
              "<IPython.core.display.HTML object>"
            ]
          },
          "metadata": {},
          "output_type": "display_data"
        },
        {
          "data": {
            "text/html": [
              " View project at <a href='https://wandb.ai/amira-d-merad-universit-de-montpellier/LoRaBI' target=\"_blank\">https://wandb.ai/amira-d-merad-universit-de-montpellier/LoRaBI</a>"
            ],
            "text/plain": [
              "<IPython.core.display.HTML object>"
            ]
          },
          "metadata": {},
          "output_type": "display_data"
        },
        {
          "data": {
            "text/html": [
              " View run at <a href='https://wandb.ai/amira-d-merad-universit-de-montpellier/LoRaBI/runs/jsiajebz' target=\"_blank\">https://wandb.ai/amira-d-merad-universit-de-montpellier/LoRaBI/runs/jsiajebz</a>"
            ],
            "text/plain": [
              "<IPython.core.display.HTML object>"
            ]
          },
          "metadata": {},
          "output_type": "display_data"
        },
        {
          "data": {
            "text/html": [
              "<button onClick=\"this.nextSibling.style.display='block';this.style.display='none';\">Display W&B run</button><iframe src='https://wandb.ai/amira-d-merad-universit-de-montpellier/LoRaBI/runs/jsiajebz?jupyter=true' style='border:none;width:100%;height:420px;display:none;'></iframe>"
            ],
            "text/plain": [
              "<wandb.sdk.wandb_run.Run at 0x7c681f49fad0>"
            ]
          },
          "execution_count": 266,
          "metadata": {},
          "output_type": "execute_result"
        }
      ],
      "source": [
        "#LoRaBI\n",
        "wandb.init(project=\"LoRaBI\", name=\"Rte3/Rte3\")"
      ]
    },
    {
      "cell_type": "markdown",
      "metadata": {
        "id": "xTov5TezphnD"
      },
      "source": [
        "## 8.1 Traitement des données"
      ]
    },
    {
      "cell_type": "markdown",
      "metadata": {
        "id": "PkHCfEIMpo6f"
      },
      "source": [
        "###DACCORD"
      ]
    },
    {
      "cell_type": "code",
      "execution_count": null,
      "metadata": {
        "colab": {
          "base_uri": "https://localhost:8080/"
        },
        "id": "wbKMezaZFRjW",
        "outputId": "c22b0b2b-2ddb-4a82-d9f1-c81002f540cc"
      },
      "outputs": [
        {
          "name": "stdout",
          "output_type": "stream",
          "text": [
            "Dataset({\n",
            "    features: ['id', 'premise', 'hypothesis', 'label', 'label_text', 'url', 'genre'],\n",
            "    num_rows: 1034\n",
            "})\n"
          ]
        }
      ],
      "source": [
        "\n",
        "dataset_daccord = load_dataset(\"maximoss/daccord-contradictions\")[\"train\"]\n",
        "\n",
        "print(dataset_daccord)\n",
        "\n",
        "dataset_daccord = dataset_daccord.remove_columns([col for col in dataset_daccord.column_names if col not in ['premise', 'hypothesis', 'label']])\n",
        "\n",
        "indices0DC = [i for i, ex in enumerate(dataset_daccord) if ex['label'] == 0]\n",
        "indices1DC = [i for i, ex in enumerate(dataset_daccord) if ex['label'] == 1]\n",
        "k=40\n",
        "\n",
        "contradict_dataset_DC = dataset_daccord.select(indices0DC[:k])\n",
        "contradict_dataset_DC_rest = dataset_daccord.select(indices0DC[k:])\n",
        "\n",
        "neutral_dataset_DC = dataset_daccord.select(indices1DC[:k])\n",
        "neutral_dataset_DC_rest = dataset_daccord.select(indices1DC[k:])\n",
        "\n",
        "train_dataset_daccord= concatenate_datasets([contradict_dataset_DC , neutral_dataset_DC ])\n",
        "test_dataset_daccord= concatenate_datasets([contradict_dataset_DC_rest, neutral_dataset_DC_rest]).select(range(400))\n",
        "eval_dataset_daccord=concatenate_datasets([contradict_dataset_DC_rest, neutral_dataset_DC_rest]).select(range(400,800))\n",
        "\n"
      ]
    },
    {
      "cell_type": "markdown",
      "metadata": {
        "id": "sfkhEcuzpr-_"
      },
      "source": [
        "### SICK BI"
      ]
    },
    {
      "cell_type": "code",
      "execution_count": null,
      "metadata": {
        "id": "AmjkeLtlFdLX"
      },
      "outputs": [],
      "source": [
        "####Traitement sur sick_bi\n",
        "\n",
        "train_dataset_sick = load_dataset(\"maximoss/sick-fr-mt\")[\"train\"]\n",
        "eval_dataset_sick = load_dataset(\"maximoss/sick-fr-mt\")[\"validation\"]\n",
        "test_dataset_sick = load_dataset(\"maximoss/sick-fr-mt\")[\"test\"]\n",
        "\n",
        "def encode_label(example):\n",
        "    if example['entailment_label'] == 'NEUTRAL':\n",
        "        example['entailment_label'] = 0\n",
        "    elif example['entailment_label'] == 'CONTRADICTION':\n",
        "        example['entailment_label'] = 1\n",
        "    else:\n",
        "        example['entailment_label'] = 0\n",
        "    return example\n",
        "\n",
        "train_dataset_sick = train_dataset_sick.map(encode_label)\n",
        "eval_dataset_sick = eval_dataset_sick.map(encode_label)\n",
        "test_dataset_sick = test_dataset_sick.map(encode_label)\n",
        "\n",
        "train_dataset_sick = train_dataset_sick.remove_columns([col for col in train_dataset_sick.column_names if col not in ['sentence_A', 'sentence_B', 'entailment_label']])\n",
        "\n",
        "test_dataset_sick = test_dataset_sick.remove_columns([col for col in test_dataset_sick.column_names if col not in ['sentence_A', 'sentence_B', 'entailment_label']])\n",
        "eval_dataset_sick = eval_dataset_sick.remove_columns([col for col in eval_dataset_sick.column_names if col not in ['sentence_A', 'sentence_B', 'entailment_label']])\n",
        "\n",
        "train_dataset_sick= train_dataset_sick.rename_column(\"sentence_A\", \"premise\")\n",
        "train_dataset_sick= train_dataset_sick.rename_column(\"sentence_B\", \"hypothesis\")\n",
        "train_dataset_sick= train_dataset_sick.rename_column(\"entailment_label\", \"label\")\n",
        "\n",
        "eval_dataset_sick= eval_dataset_sick.rename_column(\"sentence_A\", \"premise\")\n",
        "eval_dataset_sick= eval_dataset_sick.rename_column(\"sentence_B\", \"hypothesis\")\n",
        "eval_dataset_sick= eval_dataset_sick.rename_column(\"entailment_label\", \"label\")\n",
        "\n",
        "test_dataset_sick= test_dataset_sick.rename_column(\"sentence_A\", \"premise\")\n",
        "test_dataset_sick= test_dataset_sick.rename_column(\"sentence_B\", \"hypothesis\")\n",
        "test_dataset_sick= test_dataset_sick.rename_column(\"entailment_label\", \"label\")\n",
        "\n",
        "test_dataset_sick_bi=test_dataset_sick\n",
        "\n",
        "indices_NB = [i for i, ex in enumerate(train_dataset_sick) if ex['label'] == 0]\n",
        "indices_CB = [i for i, ex in enumerate(train_dataset_sick) if ex['label'] == 1]\n",
        "\n",
        "\n",
        "eval_dataset_sick_bi = eval_dataset_sick.select(range(400))\n",
        "\n",
        "## Les K element par classe pour les fewshot\n",
        "k=40\n",
        "\n",
        "contradict_dataset_T = train_dataset_sick.select(indices_CB[:k])\n",
        "\n",
        "neutral_dataset_T = train_dataset_sick.select(indices_NB[:k])\n",
        "\n",
        "train_dataset_sick_bi = concatenate_datasets([contradict_dataset_T, neutral_dataset_T])\n"
      ]
    },
    {
      "cell_type": "markdown",
      "metadata": {
        "id": "nSKiO04up0qZ"
      },
      "source": [
        "### RTE3 BI"
      ]
    },
    {
      "cell_type": "code",
      "execution_count": null,
      "metadata": {
        "id": "iswc9FZCciw2"
      },
      "outputs": [],
      "source": [
        "def encode_label(example):\n",
        "    example['label'] = 1 if example['label'] == 2 else 0\n",
        "    return example\n",
        "\n",
        "test_dataset_rte3_bi = load_dataset(\"maximoss/rte3-french\")[\"test\"]\n",
        "dataset_rte3_bi = load_dataset(\"maximoss/rte3-french\")[\"validation\"]\n",
        "\n",
        "dataset_rte3_bi = dataset_rte3_bi.map(encode_label)\n",
        "test_dataset_rte3_bi = test_dataset_rte3_bi.map(encode_label)\n",
        "\n",
        "columns_to_keep = ['premise', 'hypothesis', 'label']\n",
        "dataset_rte3_bi = dataset_rte3_bi.remove_columns([col for col in dataset_rte3_bi.column_names if col not in columns_to_keep])\n",
        "test_dataset_rte3_bi = test_dataset_rte3_bi.remove_columns([col for col in test_dataset_rte3_bi.column_names if col not in columns_to_keep])\n",
        "\n",
        "indices_label_0 = [i for i, ex in enumerate(dataset_rte3_bi) if ex['label'] == 0]\n",
        "indices_label_1 = [i for i, ex in enumerate(dataset_rte3_bi) if ex['label'] == 1]\n",
        "\n",
        "## Les K element par classe pour les fewshot\n",
        "k = 40\n",
        "\n",
        "neutral_train = dataset_rte3_bi.select(indices_label_0[:k])\n",
        "contradict_train = dataset_rte3_bi.select(indices_label_1[:k])\n",
        "\n",
        "neutral_eval = dataset_rte3_bi.select(indices_label_0[k:])\n",
        "contradict_eval = dataset_rte3_bi.select(indices_label_1[k:])\n",
        "\n",
        "train_dataset_rte3_bi = concatenate_datasets([neutral_train, contradict_train]).shuffle(seed=42)\n",
        "eval_dataset_rte3_bi = concatenate_datasets([neutral_eval, contradict_eval]).shuffle(seed=42)\n"
      ]
    },
    {
      "cell_type": "markdown",
      "metadata": {
        "id": "8E02oByAqPfw"
      },
      "source": [
        "##8.2 Entrainement et configuration"
      ]
    },
    {
      "cell_type": "code",
      "execution_count": null,
      "metadata": {
        "colab": {
          "base_uri": "https://localhost:8080/"
        },
        "id": "Wh9Vm2tDQMYZ",
        "outputId": "11d9e099-9205-445a-b4d3-2f5215b17a72"
      },
      "outputs": [
        {
          "name": "stdout",
          "output_type": "stream",
          "text": [
            "trainable params: 1,181,955 || all params: 112,391,430 || trainable%: 1.0516\n"
          ]
        }
      ],
      "source": [
        "#tokenizer\n",
        "model_id =  \"almanach/camembertav2-base-xnli\"\n",
        "tokenizer = AutoTokenizer.from_pretrained(model_id, use_fast=True)\n",
        "def preprocess_function(examples):\n",
        "    encodings = tokenizer(examples['premise'], examples['hypothesis'], padding=\"max_length\", truncation=True)\n",
        "    encodings['label'] = examples['label']\n",
        "    return encodings\n",
        "\n",
        "\n",
        "model = AutoModelForSequenceClassification.from_pretrained(\n",
        "    model_id,\n",
        "    device_map=\"auto\"\n",
        ")\n",
        "\n",
        "#entrainement\n",
        "lora_config = LoraConfig(\n",
        "    r=32,\n",
        "    lora_alpha=256,\n",
        "    target_modules=[\"query_proj\", \"value_proj\"],\n",
        "    lora_dropout=0.05,\n",
        "    task_type=TaskType.SEQ_CLS,\n",
        ")\n",
        "\n",
        "lora_model = get_peft_model(model, lora_config)\n",
        "lora_model.print_trainable_parameters()"
      ]
    },
    {
      "cell_type": "code",
      "execution_count": null,
      "metadata": {
        "colab": {
          "base_uri": "https://localhost:8080/",
          "height": 86,
          "referenced_widgets": [
            "2bb8098c546c491986da3c210a368c38",
            "a7bfb1f374c34644a0017dbef5c00c17",
            "28602d0250be4fd186ab4460ba8daa42",
            "c372ad4b66af4477bb41cc3088bb83da",
            "3df47d350a17422fb3c150afbafcf3cd",
            "2f0a424230a04b81b5b2efdb3e961925",
            "0e0d30d3303c44218fa94d4b8ec3aab9",
            "85c74697b3cb4d2bb9122accf40ed32c",
            "23497197705b49da95445226047a835e",
            "01fabfdeb5fa4393a7a413ce7a765bb1",
            "2feef08206844b9892a794b6ca9baefb"
          ]
        },
        "id": "xnCsV_fYVyKH",
        "outputId": "ff00e09b-c175-4579-e1d3-1adc27ca536b"
      },
      "outputs": [
        {
          "data": {
            "application/vnd.jupyter.widget-view+json": {
              "model_id": "2bb8098c546c491986da3c210a368c38",
              "version_major": 2,
              "version_minor": 0
            },
            "text/plain": [
              "Map:   0%|          | 0/80 [00:00<?, ? examples/s]"
            ]
          },
          "metadata": {},
          "output_type": "display_data"
        },
        {
          "name": "stderr",
          "output_type": "stream",
          "text": [
            "Asking to pad to max_length but no maximum length is provided and the model has no predefined maximum length. Default to no padding.\n",
            "Asking to truncate to max_length but no maximum length is provided and the model has no predefined maximum length. Default to no truncation.\n"
          ]
        }
      ],
      "source": [
        "test_dataset_daccord = test_dataset_daccord.map(preprocess_function, batched=True)\n",
        "train_dataset_daccord = train_dataset_daccord.map(preprocess_function, batched=True)\n",
        "eval_dataset_daccord = eval_dataset_daccord.map(preprocess_function, batched=True)\n",
        "\n",
        "train_dataset_sick_bi=train_dataset_sick_bi.map(preprocess_function, batched=True)\n",
        "eval_dataset_sick_bi = eval_dataset_sick_bi.map(preprocess_function, batched=True)\n",
        "test_dataset_sick_bi=test_dataset_sick_bi.map(preprocess_function, batched=True)\n",
        "\n",
        "train_dataset_rte3_bi=train_dataset_rte3_bi.map(preprocess_function, batched=True)\n",
        "eval_dataset_rte3_bi = eval_dataset_rte3_bi.map(preprocess_function, batched=True)\n",
        "test_dataset_rte3_bi=test_dataset_rte3_bi.map(preprocess_function, batched=True)"
      ]
    },
    {
      "cell_type": "code",
      "execution_count": null,
      "metadata": {
        "colab": {
          "base_uri": "https://localhost:8080/",
          "height": 1000
        },
        "id": "EQNsnDrWQNUj",
        "outputId": "1594e508-7b9a-4149-ac0c-b39e7e6aa78a"
      },
      "outputs": [
        {
          "name": "stderr",
          "output_type": "stream",
          "text": [
            "<ipython-input-273-ccbf54bb22a5>:54: FutureWarning: `tokenizer` is deprecated and will be removed in version 5.0.0 for `Trainer.__init__`. Use `processing_class` instead.\n",
            "  trainer = Trainer(\n",
            "No label_names provided for model class `PeftModelForSequenceClassification`. Since `PeftModel` hides base models input arguments, if label_names is not given, label_names can't be set automatically within `Trainer`. Note that empty label_names list will be used instead.\n"
          ]
        },
        {
          "data": {
            "text/html": [
              "\n",
              "    <div>\n",
              "      \n",
              "      <progress value='100' max='100' style='width:300px; height:20px; vertical-align: middle;'></progress>\n",
              "      [100/100 05:12, Epoch 20/20]\n",
              "    </div>\n",
              "    <table border=\"1\" class=\"dataframe\">\n",
              "  <thead>\n",
              " <tr style=\"text-align: left;\">\n",
              "      <th>Epoch</th>\n",
              "      <th>Training Loss</th>\n",
              "      <th>Validation Loss</th>\n",
              "      <th>Accuracy</th>\n",
              "      <th>F1</th>\n",
              "      <th>Precision</th>\n",
              "      <th>Recall</th>\n",
              "    </tr>\n",
              "  </thead>\n",
              "  <tbody>\n",
              "    <tr>\n",
              "      <td>1</td>\n",
              "      <td>No log</td>\n",
              "      <td>1.637463</td>\n",
              "      <td>0.565278</td>\n",
              "      <td>0.271553</td>\n",
              "      <td>0.335332</td>\n",
              "      <td>0.281280</td>\n",
              "    </tr>\n",
              "    <tr>\n",
              "      <td>2</td>\n",
              "      <td>1.104900</td>\n",
              "      <td>1.618496</td>\n",
              "      <td>0.545833</td>\n",
              "      <td>0.268922</td>\n",
              "      <td>0.336907</td>\n",
              "      <td>0.298455</td>\n",
              "    </tr>\n",
              "    <tr>\n",
              "      <td>3</td>\n",
              "      <td>1.104900</td>\n",
              "      <td>1.613155</td>\n",
              "      <td>0.525000</td>\n",
              "      <td>0.266764</td>\n",
              "      <td>0.339994</td>\n",
              "      <td>0.321170</td>\n",
              "    </tr>\n",
              "    <tr>\n",
              "      <td>4</td>\n",
              "      <td>0.724900</td>\n",
              "      <td>1.559063</td>\n",
              "      <td>0.516667</td>\n",
              "      <td>0.266352</td>\n",
              "      <td>0.341405</td>\n",
              "      <td>0.336294</td>\n",
              "    </tr>\n",
              "    <tr>\n",
              "      <td>5</td>\n",
              "      <td>0.724900</td>\n",
              "      <td>1.479343</td>\n",
              "      <td>0.534722</td>\n",
              "      <td>0.276454</td>\n",
              "      <td>0.345277</td>\n",
              "      <td>0.360884</td>\n",
              "    </tr>\n",
              "    <tr>\n",
              "      <td>6</td>\n",
              "      <td>0.561400</td>\n",
              "      <td>1.418055</td>\n",
              "      <td>0.543056</td>\n",
              "      <td>0.281592</td>\n",
              "      <td>0.347442</td>\n",
              "      <td>0.375949</td>\n",
              "    </tr>\n",
              "    <tr>\n",
              "      <td>7</td>\n",
              "      <td>0.561400</td>\n",
              "      <td>1.401838</td>\n",
              "      <td>0.541667</td>\n",
              "      <td>0.282073</td>\n",
              "      <td>0.348081</td>\n",
              "      <td>0.381488</td>\n",
              "    </tr>\n",
              "    <tr>\n",
              "      <td>8</td>\n",
              "      <td>0.517000</td>\n",
              "      <td>1.414339</td>\n",
              "      <td>0.533333</td>\n",
              "      <td>0.278736</td>\n",
              "      <td>0.347287</td>\n",
              "      <td>0.378499</td>\n",
              "    </tr>\n",
              "    <tr>\n",
              "      <td>9</td>\n",
              "      <td>0.517000</td>\n",
              "      <td>1.409254</td>\n",
              "      <td>0.536111</td>\n",
              "      <td>0.279848</td>\n",
              "      <td>0.347551</td>\n",
              "      <td>0.379495</td>\n",
              "    </tr>\n",
              "    <tr>\n",
              "      <td>10</td>\n",
              "      <td>0.432800</td>\n",
              "      <td>1.418471</td>\n",
              "      <td>0.538889</td>\n",
              "      <td>0.280961</td>\n",
              "      <td>0.347815</td>\n",
              "      <td>0.380492</td>\n",
              "    </tr>\n",
              "    <tr>\n",
              "      <td>11</td>\n",
              "      <td>0.432800</td>\n",
              "      <td>1.469362</td>\n",
              "      <td>0.530556</td>\n",
              "      <td>0.277491</td>\n",
              "      <td>0.346938</td>\n",
              "      <td>0.377502</td>\n",
              "    </tr>\n",
              "    <tr>\n",
              "      <td>12</td>\n",
              "      <td>0.388600</td>\n",
              "      <td>1.545552</td>\n",
              "      <td>0.515278</td>\n",
              "      <td>0.271361</td>\n",
              "      <td>0.345518</td>\n",
              "      <td>0.372021</td>\n",
              "    </tr>\n",
              "    <tr>\n",
              "      <td>13</td>\n",
              "      <td>0.388600</td>\n",
              "      <td>1.552127</td>\n",
              "      <td>0.522222</td>\n",
              "      <td>0.274150</td>\n",
              "      <td>0.346160</td>\n",
              "      <td>0.374513</td>\n",
              "    </tr>\n",
              "    <tr>\n",
              "      <td>14</td>\n",
              "      <td>0.360400</td>\n",
              "      <td>1.581439</td>\n",
              "      <td>0.522222</td>\n",
              "      <td>0.274150</td>\n",
              "      <td>0.346160</td>\n",
              "      <td>0.374513</td>\n",
              "    </tr>\n",
              "    <tr>\n",
              "      <td>15</td>\n",
              "      <td>0.360400</td>\n",
              "      <td>1.616008</td>\n",
              "      <td>0.520833</td>\n",
              "      <td>0.273593</td>\n",
              "      <td>0.346032</td>\n",
              "      <td>0.374014</td>\n",
              "    </tr>\n",
              "    <tr>\n",
              "      <td>16</td>\n",
              "      <td>0.302300</td>\n",
              "      <td>1.634821</td>\n",
              "      <td>0.520833</td>\n",
              "      <td>0.273593</td>\n",
              "      <td>0.346032</td>\n",
              "      <td>0.374014</td>\n",
              "    </tr>\n",
              "    <tr>\n",
              "      <td>17</td>\n",
              "      <td>0.302300</td>\n",
              "      <td>1.654872</td>\n",
              "      <td>0.520833</td>\n",
              "      <td>0.273593</td>\n",
              "      <td>0.346032</td>\n",
              "      <td>0.374014</td>\n",
              "    </tr>\n",
              "    <tr>\n",
              "      <td>18</td>\n",
              "      <td>0.279100</td>\n",
              "      <td>1.667671</td>\n",
              "      <td>0.520833</td>\n",
              "      <td>0.273593</td>\n",
              "      <td>0.346032</td>\n",
              "      <td>0.374014</td>\n",
              "    </tr>\n",
              "    <tr>\n",
              "      <td>19</td>\n",
              "      <td>0.279100</td>\n",
              "      <td>1.673005</td>\n",
              "      <td>0.522222</td>\n",
              "      <td>0.274150</td>\n",
              "      <td>0.346160</td>\n",
              "      <td>0.374513</td>\n",
              "    </tr>\n",
              "    <tr>\n",
              "      <td>20</td>\n",
              "      <td>0.268000</td>\n",
              "      <td>1.674478</td>\n",
              "      <td>0.522222</td>\n",
              "      <td>0.274150</td>\n",
              "      <td>0.346160</td>\n",
              "      <td>0.374513</td>\n",
              "    </tr>\n",
              "  </tbody>\n",
              "</table><p>"
            ],
            "text/plain": [
              "<IPython.core.display.HTML object>"
            ]
          },
          "metadata": {},
          "output_type": "display_data"
        },
        {
          "name": "stderr",
          "output_type": "stream",
          "text": [
            "/usr/local/lib/python3.11/dist-packages/sklearn/metrics/_classification.py:1565: UndefinedMetricWarning: Recall is ill-defined and being set to 0.0 in labels with no true samples. Use `zero_division` parameter to control this behavior.\n",
            "  _warn_prf(average, modifier, f\"{metric.capitalize()} is\", len(result))\n",
            "/usr/local/lib/python3.11/dist-packages/sklearn/metrics/_classification.py:1565: UndefinedMetricWarning: Recall is ill-defined and being set to 0.0 in labels with no true samples. Use `zero_division` parameter to control this behavior.\n",
            "  _warn_prf(average, modifier, f\"{metric.capitalize()} is\", len(result))\n",
            "/usr/local/lib/python3.11/dist-packages/sklearn/metrics/_classification.py:1565: UndefinedMetricWarning: Recall is ill-defined and being set to 0.0 in labels with no true samples. Use `zero_division` parameter to control this behavior.\n",
            "  _warn_prf(average, modifier, f\"{metric.capitalize()} is\", len(result))\n",
            "/usr/local/lib/python3.11/dist-packages/sklearn/metrics/_classification.py:1565: UndefinedMetricWarning: Recall is ill-defined and being set to 0.0 in labels with no true samples. Use `zero_division` parameter to control this behavior.\n",
            "  _warn_prf(average, modifier, f\"{metric.capitalize()} is\", len(result))\n",
            "/usr/local/lib/python3.11/dist-packages/sklearn/metrics/_classification.py:1565: UndefinedMetricWarning: Recall is ill-defined and being set to 0.0 in labels with no true samples. Use `zero_division` parameter to control this behavior.\n",
            "  _warn_prf(average, modifier, f\"{metric.capitalize()} is\", len(result))\n",
            "/usr/local/lib/python3.11/dist-packages/sklearn/metrics/_classification.py:1565: UndefinedMetricWarning: Recall is ill-defined and being set to 0.0 in labels with no true samples. Use `zero_division` parameter to control this behavior.\n",
            "  _warn_prf(average, modifier, f\"{metric.capitalize()} is\", len(result))\n",
            "/usr/local/lib/python3.11/dist-packages/sklearn/metrics/_classification.py:1565: UndefinedMetricWarning: Recall is ill-defined and being set to 0.0 in labels with no true samples. Use `zero_division` parameter to control this behavior.\n",
            "  _warn_prf(average, modifier, f\"{metric.capitalize()} is\", len(result))\n",
            "/usr/local/lib/python3.11/dist-packages/sklearn/metrics/_classification.py:1565: UndefinedMetricWarning: Recall is ill-defined and being set to 0.0 in labels with no true samples. Use `zero_division` parameter to control this behavior.\n",
            "  _warn_prf(average, modifier, f\"{metric.capitalize()} is\", len(result))\n",
            "/usr/local/lib/python3.11/dist-packages/sklearn/metrics/_classification.py:1565: UndefinedMetricWarning: Recall is ill-defined and being set to 0.0 in labels with no true samples. Use `zero_division` parameter to control this behavior.\n",
            "  _warn_prf(average, modifier, f\"{metric.capitalize()} is\", len(result))\n",
            "/usr/local/lib/python3.11/dist-packages/sklearn/metrics/_classification.py:1565: UndefinedMetricWarning: Recall is ill-defined and being set to 0.0 in labels with no true samples. Use `zero_division` parameter to control this behavior.\n",
            "  _warn_prf(average, modifier, f\"{metric.capitalize()} is\", len(result))\n",
            "/usr/local/lib/python3.11/dist-packages/sklearn/metrics/_classification.py:1565: UndefinedMetricWarning: Recall is ill-defined and being set to 0.0 in labels with no true samples. Use `zero_division` parameter to control this behavior.\n",
            "  _warn_prf(average, modifier, f\"{metric.capitalize()} is\", len(result))\n",
            "/usr/local/lib/python3.11/dist-packages/sklearn/metrics/_classification.py:1565: UndefinedMetricWarning: Recall is ill-defined and being set to 0.0 in labels with no true samples. Use `zero_division` parameter to control this behavior.\n",
            "  _warn_prf(average, modifier, f\"{metric.capitalize()} is\", len(result))\n",
            "/usr/local/lib/python3.11/dist-packages/sklearn/metrics/_classification.py:1565: UndefinedMetricWarning: Recall is ill-defined and being set to 0.0 in labels with no true samples. Use `zero_division` parameter to control this behavior.\n",
            "  _warn_prf(average, modifier, f\"{metric.capitalize()} is\", len(result))\n",
            "/usr/local/lib/python3.11/dist-packages/sklearn/metrics/_classification.py:1565: UndefinedMetricWarning: Recall is ill-defined and being set to 0.0 in labels with no true samples. Use `zero_division` parameter to control this behavior.\n",
            "  _warn_prf(average, modifier, f\"{metric.capitalize()} is\", len(result))\n",
            "/usr/local/lib/python3.11/dist-packages/sklearn/metrics/_classification.py:1565: UndefinedMetricWarning: Recall is ill-defined and being set to 0.0 in labels with no true samples. Use `zero_division` parameter to control this behavior.\n",
            "  _warn_prf(average, modifier, f\"{metric.capitalize()} is\", len(result))\n",
            "/usr/local/lib/python3.11/dist-packages/sklearn/metrics/_classification.py:1565: UndefinedMetricWarning: Recall is ill-defined and being set to 0.0 in labels with no true samples. Use `zero_division` parameter to control this behavior.\n",
            "  _warn_prf(average, modifier, f\"{metric.capitalize()} is\", len(result))\n",
            "/usr/local/lib/python3.11/dist-packages/sklearn/metrics/_classification.py:1565: UndefinedMetricWarning: Recall is ill-defined and being set to 0.0 in labels with no true samples. Use `zero_division` parameter to control this behavior.\n",
            "  _warn_prf(average, modifier, f\"{metric.capitalize()} is\", len(result))\n",
            "/usr/local/lib/python3.11/dist-packages/sklearn/metrics/_classification.py:1565: UndefinedMetricWarning: Recall is ill-defined and being set to 0.0 in labels with no true samples. Use `zero_division` parameter to control this behavior.\n",
            "  _warn_prf(average, modifier, f\"{metric.capitalize()} is\", len(result))\n",
            "/usr/local/lib/python3.11/dist-packages/sklearn/metrics/_classification.py:1565: UndefinedMetricWarning: Recall is ill-defined and being set to 0.0 in labels with no true samples. Use `zero_division` parameter to control this behavior.\n",
            "  _warn_prf(average, modifier, f\"{metric.capitalize()} is\", len(result))\n",
            "/usr/local/lib/python3.11/dist-packages/sklearn/metrics/_classification.py:1565: UndefinedMetricWarning: Recall is ill-defined and being set to 0.0 in labels with no true samples. Use `zero_division` parameter to control this behavior.\n",
            "  _warn_prf(average, modifier, f\"{metric.capitalize()} is\", len(result))\n",
            "/usr/local/lib/python3.11/dist-packages/sklearn/metrics/_classification.py:1565: UndefinedMetricWarning: Recall is ill-defined and being set to 0.0 in labels with no true samples. Use `zero_division` parameter to control this behavior.\n",
            "  _warn_prf(average, modifier, f\"{metric.capitalize()} is\", len(result))\n",
            "/usr/local/lib/python3.11/dist-packages/sklearn/metrics/_classification.py:1565: UndefinedMetricWarning: Recall is ill-defined and being set to 0.0 in labels with no true samples. Use `zero_division` parameter to control this behavior.\n",
            "  _warn_prf(average, modifier, f\"{metric.capitalize()} is\", len(result))\n",
            "/usr/local/lib/python3.11/dist-packages/sklearn/metrics/_classification.py:1565: UndefinedMetricWarning: Recall is ill-defined and being set to 0.0 in labels with no true samples. Use `zero_division` parameter to control this behavior.\n",
            "  _warn_prf(average, modifier, f\"{metric.capitalize()} is\", len(result))\n",
            "/usr/local/lib/python3.11/dist-packages/sklearn/metrics/_classification.py:1565: UndefinedMetricWarning: Recall is ill-defined and being set to 0.0 in labels with no true samples. Use `zero_division` parameter to control this behavior.\n",
            "  _warn_prf(average, modifier, f\"{metric.capitalize()} is\", len(result))\n",
            "/usr/local/lib/python3.11/dist-packages/sklearn/metrics/_classification.py:1565: UndefinedMetricWarning: Recall is ill-defined and being set to 0.0 in labels with no true samples. Use `zero_division` parameter to control this behavior.\n",
            "  _warn_prf(average, modifier, f\"{metric.capitalize()} is\", len(result))\n",
            "/usr/local/lib/python3.11/dist-packages/sklearn/metrics/_classification.py:1565: UndefinedMetricWarning: Recall is ill-defined and being set to 0.0 in labels with no true samples. Use `zero_division` parameter to control this behavior.\n",
            "  _warn_prf(average, modifier, f\"{metric.capitalize()} is\", len(result))\n",
            "/usr/local/lib/python3.11/dist-packages/sklearn/metrics/_classification.py:1565: UndefinedMetricWarning: Recall is ill-defined and being set to 0.0 in labels with no true samples. Use `zero_division` parameter to control this behavior.\n",
            "  _warn_prf(average, modifier, f\"{metric.capitalize()} is\", len(result))\n",
            "/usr/local/lib/python3.11/dist-packages/sklearn/metrics/_classification.py:1565: UndefinedMetricWarning: Recall is ill-defined and being set to 0.0 in labels with no true samples. Use `zero_division` parameter to control this behavior.\n",
            "  _warn_prf(average, modifier, f\"{metric.capitalize()} is\", len(result))\n",
            "/usr/local/lib/python3.11/dist-packages/sklearn/metrics/_classification.py:1565: UndefinedMetricWarning: Recall is ill-defined and being set to 0.0 in labels with no true samples. Use `zero_division` parameter to control this behavior.\n",
            "  _warn_prf(average, modifier, f\"{metric.capitalize()} is\", len(result))\n",
            "/usr/local/lib/python3.11/dist-packages/sklearn/metrics/_classification.py:1565: UndefinedMetricWarning: Recall is ill-defined and being set to 0.0 in labels with no true samples. Use `zero_division` parameter to control this behavior.\n",
            "  _warn_prf(average, modifier, f\"{metric.capitalize()} is\", len(result))\n",
            "/usr/local/lib/python3.11/dist-packages/sklearn/metrics/_classification.py:1565: UndefinedMetricWarning: Recall is ill-defined and being set to 0.0 in labels with no true samples. Use `zero_division` parameter to control this behavior.\n",
            "  _warn_prf(average, modifier, f\"{metric.capitalize()} is\", len(result))\n",
            "/usr/local/lib/python3.11/dist-packages/sklearn/metrics/_classification.py:1565: UndefinedMetricWarning: Recall is ill-defined and being set to 0.0 in labels with no true samples. Use `zero_division` parameter to control this behavior.\n",
            "  _warn_prf(average, modifier, f\"{metric.capitalize()} is\", len(result))\n",
            "/usr/local/lib/python3.11/dist-packages/sklearn/metrics/_classification.py:1565: UndefinedMetricWarning: Recall is ill-defined and being set to 0.0 in labels with no true samples. Use `zero_division` parameter to control this behavior.\n",
            "  _warn_prf(average, modifier, f\"{metric.capitalize()} is\", len(result))\n",
            "/usr/local/lib/python3.11/dist-packages/sklearn/metrics/_classification.py:1565: UndefinedMetricWarning: Recall is ill-defined and being set to 0.0 in labels with no true samples. Use `zero_division` parameter to control this behavior.\n",
            "  _warn_prf(average, modifier, f\"{metric.capitalize()} is\", len(result))\n",
            "/usr/local/lib/python3.11/dist-packages/sklearn/metrics/_classification.py:1565: UndefinedMetricWarning: Recall is ill-defined and being set to 0.0 in labels with no true samples. Use `zero_division` parameter to control this behavior.\n",
            "  _warn_prf(average, modifier, f\"{metric.capitalize()} is\", len(result))\n",
            "/usr/local/lib/python3.11/dist-packages/sklearn/metrics/_classification.py:1565: UndefinedMetricWarning: Recall is ill-defined and being set to 0.0 in labels with no true samples. Use `zero_division` parameter to control this behavior.\n",
            "  _warn_prf(average, modifier, f\"{metric.capitalize()} is\", len(result))\n",
            "/usr/local/lib/python3.11/dist-packages/sklearn/metrics/_classification.py:1565: UndefinedMetricWarning: Recall is ill-defined and being set to 0.0 in labels with no true samples. Use `zero_division` parameter to control this behavior.\n",
            "  _warn_prf(average, modifier, f\"{metric.capitalize()} is\", len(result))\n",
            "/usr/local/lib/python3.11/dist-packages/sklearn/metrics/_classification.py:1565: UndefinedMetricWarning: Recall is ill-defined and being set to 0.0 in labels with no true samples. Use `zero_division` parameter to control this behavior.\n",
            "  _warn_prf(average, modifier, f\"{metric.capitalize()} is\", len(result))\n",
            "/usr/local/lib/python3.11/dist-packages/sklearn/metrics/_classification.py:1565: UndefinedMetricWarning: Recall is ill-defined and being set to 0.0 in labels with no true samples. Use `zero_division` parameter to control this behavior.\n",
            "  _warn_prf(average, modifier, f\"{metric.capitalize()} is\", len(result))\n",
            "/usr/local/lib/python3.11/dist-packages/sklearn/metrics/_classification.py:1565: UndefinedMetricWarning: Recall is ill-defined and being set to 0.0 in labels with no true samples. Use `zero_division` parameter to control this behavior.\n",
            "  _warn_prf(average, modifier, f\"{metric.capitalize()} is\", len(result))\n",
            "/usr/local/lib/python3.11/dist-packages/sklearn/metrics/_classification.py:1565: UndefinedMetricWarning: Recall is ill-defined and being set to 0.0 in labels with no true samples. Use `zero_division` parameter to control this behavior.\n",
            "  _warn_prf(average, modifier, f\"{metric.capitalize()} is\", len(result))\n",
            "/usr/local/lib/python3.11/dist-packages/sklearn/metrics/_classification.py:1565: UndefinedMetricWarning: Recall is ill-defined and being set to 0.0 in labels with no true samples. Use `zero_division` parameter to control this behavior.\n",
            "  _warn_prf(average, modifier, f\"{metric.capitalize()} is\", len(result))\n",
            "/usr/local/lib/python3.11/dist-packages/sklearn/metrics/_classification.py:1565: UndefinedMetricWarning: Recall is ill-defined and being set to 0.0 in labels with no true samples. Use `zero_division` parameter to control this behavior.\n",
            "  _warn_prf(average, modifier, f\"{metric.capitalize()} is\", len(result))\n",
            "/usr/local/lib/python3.11/dist-packages/sklearn/metrics/_classification.py:1565: UndefinedMetricWarning: Recall is ill-defined and being set to 0.0 in labels with no true samples. Use `zero_division` parameter to control this behavior.\n",
            "  _warn_prf(average, modifier, f\"{metric.capitalize()} is\", len(result))\n",
            "/usr/local/lib/python3.11/dist-packages/sklearn/metrics/_classification.py:1565: UndefinedMetricWarning: Recall is ill-defined and being set to 0.0 in labels with no true samples. Use `zero_division` parameter to control this behavior.\n",
            "  _warn_prf(average, modifier, f\"{metric.capitalize()} is\", len(result))\n",
            "/usr/local/lib/python3.11/dist-packages/sklearn/metrics/_classification.py:1565: UndefinedMetricWarning: Recall is ill-defined and being set to 0.0 in labels with no true samples. Use `zero_division` parameter to control this behavior.\n",
            "  _warn_prf(average, modifier, f\"{metric.capitalize()} is\", len(result))\n",
            "/usr/local/lib/python3.11/dist-packages/sklearn/metrics/_classification.py:1565: UndefinedMetricWarning: Recall is ill-defined and being set to 0.0 in labels with no true samples. Use `zero_division` parameter to control this behavior.\n",
            "  _warn_prf(average, modifier, f\"{metric.capitalize()} is\", len(result))\n",
            "/usr/local/lib/python3.11/dist-packages/sklearn/metrics/_classification.py:1565: UndefinedMetricWarning: Recall is ill-defined and being set to 0.0 in labels with no true samples. Use `zero_division` parameter to control this behavior.\n",
            "  _warn_prf(average, modifier, f\"{metric.capitalize()} is\", len(result))\n",
            "/usr/local/lib/python3.11/dist-packages/sklearn/metrics/_classification.py:1565: UndefinedMetricWarning: Recall is ill-defined and being set to 0.0 in labels with no true samples. Use `zero_division` parameter to control this behavior.\n",
            "  _warn_prf(average, modifier, f\"{metric.capitalize()} is\", len(result))\n",
            "/usr/local/lib/python3.11/dist-packages/sklearn/metrics/_classification.py:1565: UndefinedMetricWarning: Recall is ill-defined and being set to 0.0 in labels with no true samples. Use `zero_division` parameter to control this behavior.\n",
            "  _warn_prf(average, modifier, f\"{metric.capitalize()} is\", len(result))\n",
            "/usr/local/lib/python3.11/dist-packages/sklearn/metrics/_classification.py:1565: UndefinedMetricWarning: Recall is ill-defined and being set to 0.0 in labels with no true samples. Use `zero_division` parameter to control this behavior.\n",
            "  _warn_prf(average, modifier, f\"{metric.capitalize()} is\", len(result))\n",
            "/usr/local/lib/python3.11/dist-packages/sklearn/metrics/_classification.py:1565: UndefinedMetricWarning: Recall is ill-defined and being set to 0.0 in labels with no true samples. Use `zero_division` parameter to control this behavior.\n",
            "  _warn_prf(average, modifier, f\"{metric.capitalize()} is\", len(result))\n",
            "/usr/local/lib/python3.11/dist-packages/sklearn/metrics/_classification.py:1565: UndefinedMetricWarning: Recall is ill-defined and being set to 0.0 in labels with no true samples. Use `zero_division` parameter to control this behavior.\n",
            "  _warn_prf(average, modifier, f\"{metric.capitalize()} is\", len(result))\n",
            "/usr/local/lib/python3.11/dist-packages/sklearn/metrics/_classification.py:1565: UndefinedMetricWarning: Recall is ill-defined and being set to 0.0 in labels with no true samples. Use `zero_division` parameter to control this behavior.\n",
            "  _warn_prf(average, modifier, f\"{metric.capitalize()} is\", len(result))\n",
            "/usr/local/lib/python3.11/dist-packages/sklearn/metrics/_classification.py:1565: UndefinedMetricWarning: Recall is ill-defined and being set to 0.0 in labels with no true samples. Use `zero_division` parameter to control this behavior.\n",
            "  _warn_prf(average, modifier, f\"{metric.capitalize()} is\", len(result))\n",
            "/usr/local/lib/python3.11/dist-packages/sklearn/metrics/_classification.py:1565: UndefinedMetricWarning: Recall is ill-defined and being set to 0.0 in labels with no true samples. Use `zero_division` parameter to control this behavior.\n",
            "  _warn_prf(average, modifier, f\"{metric.capitalize()} is\", len(result))\n",
            "/usr/local/lib/python3.11/dist-packages/sklearn/metrics/_classification.py:1565: UndefinedMetricWarning: Recall is ill-defined and being set to 0.0 in labels with no true samples. Use `zero_division` parameter to control this behavior.\n",
            "  _warn_prf(average, modifier, f\"{metric.capitalize()} is\", len(result))\n",
            "/usr/local/lib/python3.11/dist-packages/sklearn/metrics/_classification.py:1565: UndefinedMetricWarning: Recall is ill-defined and being set to 0.0 in labels with no true samples. Use `zero_division` parameter to control this behavior.\n",
            "  _warn_prf(average, modifier, f\"{metric.capitalize()} is\", len(result))\n",
            "/usr/local/lib/python3.11/dist-packages/sklearn/metrics/_classification.py:1565: UndefinedMetricWarning: Recall is ill-defined and being set to 0.0 in labels with no true samples. Use `zero_division` parameter to control this behavior.\n",
            "  _warn_prf(average, modifier, f\"{metric.capitalize()} is\", len(result))\n",
            "/usr/local/lib/python3.11/dist-packages/sklearn/metrics/_classification.py:1565: UndefinedMetricWarning: Recall is ill-defined and being set to 0.0 in labels with no true samples. Use `zero_division` parameter to control this behavior.\n",
            "  _warn_prf(average, modifier, f\"{metric.capitalize()} is\", len(result))\n"
          ]
        },
        {
          "data": {
            "text/plain": [
              "TrainOutput(global_step=100, training_loss=0.49394729375839236, metrics={'train_runtime': 312.6845, 'train_samples_per_second': 5.117, 'train_steps_per_second': 0.32, 'total_flos': 90127852865280.0, 'train_loss': 0.49394729375839236, 'epoch': 20.0})"
            ]
          },
          "execution_count": 273,
          "metadata": {},
          "output_type": "execute_result"
        }
      ],
      "source": [
        "\n",
        "class TestEvalCallback(TrainerCallback):\n",
        "    def __init__(self, test_dataset, trainer=None):\n",
        "        self.test_dataset = test_dataset\n",
        "        self.trainer = trainer\n",
        "\n",
        "    def on_epoch_end(self, args, state, control, **kwargs):\n",
        "        if self.trainer is None:\n",
        "            print(\"Trainer non défini dans callback, skipping test evaluation.\")\n",
        "            return\n",
        "\n",
        "        predictions = self.trainer.predict(self.test_dataset)\n",
        "        preds = np.argmax(predictions.predictions, axis=1)\n",
        "        labels = predictions.label_ids\n",
        "\n",
        "        acc = accuracy_score(labels, preds)\n",
        "        precision, recall, f1, _ = precision_recall_fscore_support(labels, preds, average='macro')\n",
        "        if wandb.run:\n",
        "            wandb.log({\n",
        "                \"epoch\": state.epoch,\n",
        "                \"test/accuracy\": acc,\n",
        "                \"test/f1\": f1,\n",
        "                \"test/precision\": precision,\n",
        "                \"test/recall\": recall\n",
        "            })\n",
        "\n",
        "def compute_metrics(p):\n",
        "    preds = p.predictions.argmax(axis=-1)\n",
        "    labels = p.label_ids\n",
        "    precision, recall, f1, _ = precision_recall_fscore_support(labels, preds, average='macro')\n",
        "    acc = accuracy_score(labels, preds)\n",
        "    return {\n",
        "        \"accuracy\": acc,\n",
        "        \"f1\": f1,\n",
        "        \"precision\": precision,\n",
        "        \"recall\": recall\n",
        "    }\n",
        "\n",
        "args = TrainingArguments(\n",
        "    #eval_on_start = True ,\n",
        "    output_dir=\"./results\",\n",
        "    eval_strategy=\"epoch\",\n",
        "    logging_dir=\"./logs\",\n",
        "    logging_steps=10,\n",
        "    save_strategy=\"epoch\",\n",
        "    save_steps=150,\n",
        "    per_device_train_batch_size=16,\n",
        "    per_device_eval_batch_size=16,\n",
        "    num_train_epochs=20,\n",
        "    load_best_model_at_end=True,\n",
        "    #learning_rate=5e-6,\n",
        "    report_to=\"wandb\",\n",
        ")\n",
        "\n",
        "trainer = Trainer(\n",
        "    model=lora_model,\n",
        "    args=args,\n",
        "    train_dataset=train_dataset_rte3_bi  ,\n",
        "    eval_dataset= eval_dataset_rte3_bi,\n",
        "    tokenizer=tokenizer,\n",
        "    compute_metrics=compute_metrics ,\n",
        "\n",
        ")\n",
        "\n",
        "test_callback = TestEvalCallback(test_dataset=test_dataset_rte3_bi, trainer=trainer)\n",
        "trainer.add_callback(test_callback)\n",
        "\n",
        "trainer.train()\n",
        "\n"
      ]
    },
    {
      "cell_type": "markdown",
      "metadata": {
        "id": "DFIjJatPxfAs"
      },
      "source": [
        "## 8.3 Testes"
      ]
    },
    {
      "cell_type": "code",
      "execution_count": null,
      "metadata": {
        "colab": {
          "base_uri": "https://localhost:8080/",
          "height": 1000
        },
        "id": "BxLekJNVS_uH",
        "outputId": "3151afc5-2c6d-44e7-8bea-6c5d01e6df82"
      },
      "outputs": [
        {
          "data": {
            "text/html": [],
            "text/plain": [
              "<IPython.core.display.HTML object>"
            ]
          },
          "metadata": {},
          "output_type": "display_data"
        },
        {
          "name": "stderr",
          "output_type": "stream",
          "text": [
            "/usr/local/lib/python3.11/dist-packages/sklearn/metrics/_classification.py:1565: UndefinedMetricWarning: Recall is ill-defined and being set to 0.0 in labels with no true samples. Use `zero_division` parameter to control this behavior.\n",
            "  _warn_prf(average, modifier, f\"{metric.capitalize()} is\", len(result))\n"
          ]
        },
        {
          "name": "stdout",
          "output_type": "stream",
          "text": [
            "\n",
            "Évaluation sur le jeu de test :\n",
            "Accuracy  : 0.8388\n",
            "F1 Score  : 0.5099\n",
            "Recall    : 0.5832\n",
            "Precision : 0.4884\n"
          ]
        },
        {
          "name": "stderr",
          "output_type": "stream",
          "text": [
            "/usr/local/lib/python3.11/dist-packages/sklearn/metrics/_classification.py:1565: UndefinedMetricWarning: Recall is ill-defined and being set to 0.0 in labels with no true samples. Use `zero_division` parameter to control this behavior.\n",
            "  _warn_prf(average, modifier, f\"{metric.capitalize()} is\", len(result))\n"
          ]
        },
        {
          "data": {
            "text/html": [],
            "text/plain": [
              "<IPython.core.display.HTML object>"
            ]
          },
          "metadata": {},
          "output_type": "display_data"
        },
        {
          "data": {
            "text/html": [
              "<br>    <style><br>        .wandb-row {<br>            display: flex;<br>            flex-direction: row;<br>            flex-wrap: wrap;<br>            justify-content: flex-start;<br>            width: 100%;<br>        }<br>        .wandb-col {<br>            display: flex;<br>            flex-direction: column;<br>            flex-basis: 100%;<br>            flex: 1;<br>            padding: 10px;<br>        }<br>    </style><br><div class=\"wandb-row\"><div class=\"wandb-col\"><h3>Run history:</h3><br/><table class=\"wandb\"><tr><td>epoch</td><td>▁▁▂▂▂▃▃▄▄▄▅▅▅▆▆▇▇▇██</td></tr><tr><td>eval/accuracy</td><td>▁▂▃▄▆▇▆▆▆▇██████████</td></tr><tr><td>eval/f1</td><td>▁▁▂▂▅▆▆▆▇▇██████████</td></tr><tr><td>eval/loss</td><td>█▆▄▂▂▁▁▂▁▁▁▁▁▁▁▁▁▁▁▁</td></tr><tr><td>eval/precision</td><td>▁▁▁▁▅▆▆▆▆▇██████████</td></tr><tr><td>eval/recall</td><td>▁▁▂▂▅▆▆▇▇███████████</td></tr><tr><td>eval/runtime</td><td>█▅▁▁▃▃▄▂▃▃▃▃▂▂▃▃▃▁▃▃</td></tr><tr><td>eval/samples_per_second</td><td>▁▄██▆▆▅▇▆▆▆▆▇▇▆▆▆█▆▆</td></tr><tr><td>eval/steps_per_second</td><td>▁▄██▆▆▅▇▆▆▆▆▇▇▆▆▆█▆▆</td></tr><tr><td>test/accuracy</td><td>▁▁▂▂▃▃▄▄▆▆▇▇▆▆▆▆▆▆▇▇████████████████████</td></tr><tr><td>test/f1</td><td>▁▁▁▁▂▂▃▃▅▅▆▆▆▆▆▆▇▇▇▇████████████████████</td></tr><tr><td>test/loss</td><td>█▆▄▂▂▁▁▂▁▁▁▁▁▁▁▁▁▁▁▁▁</td></tr><tr><td>test/precision</td><td>▁▁▁▁▁▁▁▁▅▅▆▆▆▆▆▆▆▆▇▇████████████████████</td></tr><tr><td>test/recall</td><td>▁▁▁▁▂▂▃▃▅▅▆▆▆▆▇▇▇▇██████████████████████</td></tr><tr><td>test/runtime</td><td>▇█▂▁▂▄▄▃▂▃▃▂▂▂▃▃▃▂▃▃▂</td></tr><tr><td>test/samples_per_second</td><td>▂▁▇█▇▅▅▆▇▆▆▆▇▇▆▆▆▇▆▆▇</td></tr><tr><td>test/steps_per_second</td><td>▂▁▇█▇▅▅▆▇▆▆▆▇▇▆▆▆▇▆▆▇</td></tr><tr><td>train/epoch</td><td>▁▁▁▂▂▂▂▃▃▃▄▄▄▄▄▅▅▅▅▆▆▆▇▇▇▇▇████</td></tr><tr><td>train/global_step</td><td>▁▁▂▂▂▂▂▂▃▃▃▄▄▄▄▅▅▅▅▅▅▅▅▅▅▆▆▆▆▆▇▇▇▇▇█████</td></tr><tr><td>train/grad_norm</td><td>█▅▂▂▂▂▂▁▁▁</td></tr><tr><td>train/learning_rate</td><td>█▇▆▆▅▄▃▃▂▁</td></tr><tr><td>train/loss</td><td>█▄▃▂▂▁▁▁▁▁</td></tr></table><br/></div><div class=\"wandb-col\"><h3>Run summary:</h3><br/><table class=\"wandb\"><tr><td>epoch</td><td>20</td></tr><tr><td>eval/accuracy</td><td>0.85</td></tr><tr><td>eval/f1</td><td>0.52454</td></tr><tr><td>eval/loss</td><td>0.39831</td></tr><tr><td>eval/precision</td><td>0.50221</td></tr><tr><td>eval/recall</td><td>0.59441</td></tr><tr><td>eval/runtime</td><td>1.4803</td></tr><tr><td>eval/samples_per_second</td><td>270.216</td></tr><tr><td>eval/steps_per_second</td><td>16.889</td></tr><tr><td>test/accuracy</td><td>0.83877</td></tr><tr><td>test/f1</td><td>0.50985</td></tr><tr><td>test/loss</td><td>0.42453</td></tr><tr><td>test/precision</td><td>0.48838</td></tr><tr><td>test/recall</td><td>0.5832</td></tr><tr><td>test/runtime</td><td>16.4553</td></tr><tr><td>test/samples_per_second</td><td>298.141</td></tr><tr><td>test/steps_per_second</td><td>18.657</td></tr><tr><td>total_flos</td><td>40120732134720.0</td></tr><tr><td>train/epoch</td><td>20</td></tr><tr><td>train/global_step</td><td>100</td></tr><tr><td>train/grad_norm</td><td>1.72302</td></tr><tr><td>train/learning_rate</td><td>0.0</td></tr><tr><td>train/loss</td><td>0.1538</td></tr><tr><td>train_loss</td><td>0.73038</td></tr><tr><td>train_runtime</td><td>382.2404</td></tr><tr><td>train_samples_per_second</td><td>4.186</td></tr><tr><td>train_steps_per_second</td><td>0.262</td></tr></table><br/></div></div>"
            ],
            "text/plain": [
              "<IPython.core.display.HTML object>"
            ]
          },
          "metadata": {},
          "output_type": "display_data"
        },
        {
          "data": {
            "text/html": [
              " View run <strong style=\"color:#cdcd00\">Sick/Sick</strong> at: <a href='https://wandb.ai/amira-d-merad-universit-de-montpellier/LoRaBI/runs/4tbo0tk0' target=\"_blank\">https://wandb.ai/amira-d-merad-universit-de-montpellier/LoRaBI/runs/4tbo0tk0</a><br> View project at: <a href='https://wandb.ai/amira-d-merad-universit-de-montpellier/LoRaBI' target=\"_blank\">https://wandb.ai/amira-d-merad-universit-de-montpellier/LoRaBI</a><br>Synced 5 W&B file(s), 1 media file(s), 0 artifact file(s) and 0 other file(s)"
            ],
            "text/plain": [
              "<IPython.core.display.HTML object>"
            ]
          },
          "metadata": {},
          "output_type": "display_data"
        },
        {
          "data": {
            "text/html": [
              "Find logs at: <code>./wandb/run-20250525_131159-4tbo0tk0/logs</code>"
            ],
            "text/plain": [
              "<IPython.core.display.HTML object>"
            ]
          },
          "metadata": {},
          "output_type": "display_data"
        }
      ],
      "source": [
        "#test finale pour Wandb\n",
        "\n",
        "predictions = trainer.predict(test_dataset_sick_bi)\n",
        "preds = predictions.predictions.argmax(axis=1)\n",
        "labels = predictions.label_ids\n",
        "\n",
        "acc = accuracy_score(labels, preds)\n",
        "precision, recall, f1, _ = precision_recall_fscore_support(labels, preds, average='macro')\n",
        "\n",
        "print(f\"\\nÉvaluation sur le jeu de test :\")\n",
        "print(f\"Accuracy  : {acc:.4f}\")\n",
        "print(f\"F1 Score  : {f1:.4f}\")\n",
        "print(f\"Recall    : {recall:.4f}\")\n",
        "print(f\"Precision : {precision:.4f}\")\n",
        "\n",
        "wandb.log({\n",
        "    \"test/accuracy\": acc,\n",
        "    \"test/f1\": f1,\n",
        "    \"test/precision\": precision,\n",
        "    \"test/recall\": recall\n",
        "})\n",
        "\n",
        "# Matrice de confusion\n",
        "cm = confusion_matrix(labels, preds)\n",
        "plt.figure(figsize=(8, 6))\n",
        "sns.heatmap(cm, annot=True, fmt=\"d\", cmap=\"Blues\")\n",
        "plt.title(\"Matrice de confusion sur le jeu de test\")\n",
        "plt.xlabel(\"Prédictions\")\n",
        "plt.ylabel(\"Véritables\")\n",
        "wandb.log({\"confusion_matrix_test\": wandb.Image(plt)})\n",
        "plt.close()\n",
        "\n",
        "# Fermer wandb\n",
        "wandb.finish()\n"
      ]
    },
    {
      "cell_type": "code",
      "execution_count": null,
      "metadata": {
        "colab": {
          "base_uri": "https://localhost:8080/",
          "height": 1000
        },
        "id": "druoEeMqb3Zw",
        "outputId": "2660f38d-1592-42a9-9476-d3a9447cbf2d"
      },
      "outputs": [
        {
          "data": {
            "text/html": [],
            "text/plain": [
              "<IPython.core.display.HTML object>"
            ]
          },
          "metadata": {},
          "output_type": "display_data"
        },
        {
          "name": "stderr",
          "output_type": "stream",
          "text": [
            "/usr/local/lib/python3.11/dist-packages/sklearn/metrics/_classification.py:1565: UndefinedMetricWarning: Recall is ill-defined and being set to 0.0 in labels with no true samples. Use `zero_division` parameter to control this behavior.\n",
            "  _warn_prf(average, modifier, f\"{metric.capitalize()} is\", len(result))\n"
          ]
        },
        {
          "name": "stdout",
          "output_type": "stream",
          "text": [
            "\n",
            "Évaluation sur le jeu de test :\n",
            "Accuracy  : 0.7000\n",
            "F1 Score  : 0.4118\n",
            "Recall    : 0.3500\n",
            "Precision : 0.5000\n"
          ]
        },
        {
          "name": "stderr",
          "output_type": "stream",
          "text": [
            "/usr/local/lib/python3.11/dist-packages/sklearn/metrics/_classification.py:1565: UndefinedMetricWarning: Recall is ill-defined and being set to 0.0 in labels with no true samples. Use `zero_division` parameter to control this behavior.\n",
            "  _warn_prf(average, modifier, f\"{metric.capitalize()} is\", len(result))\n"
          ]
        },
        {
          "data": {
            "text/html": [],
            "text/plain": [
              "<IPython.core.display.HTML object>"
            ]
          },
          "metadata": {},
          "output_type": "display_data"
        },
        {
          "data": {
            "text/html": [
              "<br>    <style><br>        .wandb-row {<br>            display: flex;<br>            flex-direction: row;<br>            flex-wrap: wrap;<br>            justify-content: flex-start;<br>            width: 100%;<br>        }<br>        .wandb-col {<br>            display: flex;<br>            flex-direction: column;<br>            flex-basis: 100%;<br>            flex: 1;<br>            padding: 10px;<br>        }<br>    </style><br><div class=\"wandb-row\"><div class=\"wandb-col\"><h3>Run history:</h3><br/><table class=\"wandb\"><tr><td>epoch</td><td>▁▁▂▂▂▃▃▄▄▄▅▅▅▆▆▇▇▇██</td></tr><tr><td>eval/accuracy</td><td>▁▂▃▄▅▅▆▇▇███████████</td></tr><tr><td>eval/f1</td><td>▁▃▃▄▅▅▆▆▇▇▇▇████████</td></tr><tr><td>eval/loss</td><td>█▆▄▃▃▂▂▁▁▁▁▁▁▁▁▁▁▁▁▁</td></tr><tr><td>eval/precision</td><td>▄▅▁▃▅▅▃▄▅▆▆▇▇▇██▇███</td></tr><tr><td>eval/recall</td><td>▁▂▃▅▇▇▆▆▇▇▇▇████████</td></tr><tr><td>eval/runtime</td><td>▂▅█▆▄▂▁▁▁▃▄▅▄▃▃▂▂▃▂▃</td></tr><tr><td>eval/samples_per_second</td><td>▇▃▁▃▅▇██▇▆▅▄▅▆▆▇▇▆▇▆</td></tr><tr><td>eval/steps_per_second</td><td>▇▃▁▃▅▇██▇▆▅▄▅▆▆▇▇▆▇▆</td></tr><tr><td>test/accuracy</td><td>▁▁▃▃▅▅▇▇████▇▇▆▆▆▆▆▆▆▆▆▆▆▇▇▇▇▆▆▆▆▆▆▆▆▆▆▆</td></tr><tr><td>test/f1</td><td>▁▁▂▂▃▃▃▃▃▃▃▃▃▃▃▃████████████████████████</td></tr><tr><td>test/loss</td><td>█▅▃▁▁▁▁▂▂▂▂▂▂▂▂▂▂▂▂▂▂</td></tr><tr><td>test/precision</td><td>▁▁▁▁▁▁▁▁▁▁▁▁▁▁▁▁████████████████████████</td></tr><tr><td>test/recall</td><td>▁▁▂▂▃▃▄▄▄▄▄▄▄▄▃▃██▇▇████████████████████</td></tr><tr><td>test/runtime</td><td>▂▅██▆▄▃▂▂▃▄▆▅▄▄▃▃▃▃▃▁</td></tr><tr><td>test/samples_per_second</td><td>▇▄▁▁▃▅▆▇▇▅▄▃▄▅▅▆▆▆▆▆█</td></tr><tr><td>test/steps_per_second</td><td>▇▄▁▁▃▅▆▇▇▅▄▃▄▅▅▆▆▆▆▆█</td></tr><tr><td>train/epoch</td><td>▁▁▁▂▂▂▂▃▃▃▄▄▄▄▄▅▅▅▅▆▆▆▇▇▇▇▇████</td></tr><tr><td>train/global_step</td><td>▁▁▁▂▂▂▂▂▃▃▃▃▄▄▄▅▅▅▅▅▅▅▅▆▆▆▆▆▆▇▇▇▇▇▇▇████</td></tr><tr><td>train/grad_norm</td><td>█▃▂▁▂▃▂▂▁▁</td></tr><tr><td>train/learning_rate</td><td>█▇▆▆▅▄▃▃▂▁</td></tr><tr><td>train/loss</td><td>█▄▃▂▂▂▁▁▁▁</td></tr></table><br/></div><div class=\"wandb-col\"><h3>Run summary:</h3><br/><table class=\"wandb\"><tr><td>epoch</td><td>20</td></tr><tr><td>eval/accuracy</td><td>0.6325</td></tr><tr><td>eval/f1</td><td>0.39481</td></tr><tr><td>eval/loss</td><td>0.74045</td></tr><tr><td>eval/precision</td><td>0.40845</td></tr><tr><td>eval/recall</td><td>0.40587</td></tr><tr><td>eval/runtime</td><td>4.0743</td></tr><tr><td>eval/samples_per_second</td><td>98.176</td></tr><tr><td>eval/steps_per_second</td><td>6.136</td></tr><tr><td>test/accuracy</td><td>0.7</td></tr><tr><td>test/f1</td><td>0.41176</td></tr><tr><td>test/loss</td><td>0.63486</td></tr><tr><td>test/precision</td><td>0.5</td></tr><tr><td>test/recall</td><td>0.35</td></tr><tr><td>test/runtime</td><td>3.5814</td></tr><tr><td>test/samples_per_second</td><td>111.687</td></tr><tr><td>test/steps_per_second</td><td>6.98</td></tr><tr><td>total_flos</td><td>156540043373760.0</td></tr><tr><td>train/epoch</td><td>20</td></tr><tr><td>train/global_step</td><td>100</td></tr><tr><td>train/grad_norm</td><td>3.42419</td></tr><tr><td>train/learning_rate</td><td>0.0</td></tr><tr><td>train/loss</td><td>0.389</td></tr><tr><td>train_loss</td><td>0.66894</td></tr><tr><td>train_runtime</td><td>212.9717</td></tr><tr><td>train_samples_per_second</td><td>7.513</td></tr><tr><td>train_steps_per_second</td><td>0.47</td></tr></table><br/></div></div>"
            ],
            "text/plain": [
              "<IPython.core.display.HTML object>"
            ]
          },
          "metadata": {},
          "output_type": "display_data"
        },
        {
          "data": {
            "text/html": [
              " View run <strong style=\"color:#cdcd00\">Daccord/Daccord</strong> at: <a href='https://wandb.ai/amira-d-merad-universit-de-montpellier/LoRaBI/runs/zk12bmwm' target=\"_blank\">https://wandb.ai/amira-d-merad-universit-de-montpellier/LoRaBI/runs/zk12bmwm</a><br> View project at: <a href='https://wandb.ai/amira-d-merad-universit-de-montpellier/LoRaBI' target=\"_blank\">https://wandb.ai/amira-d-merad-universit-de-montpellier/LoRaBI</a><br>Synced 5 W&B file(s), 1 media file(s), 0 artifact file(s) and 0 other file(s)"
            ],
            "text/plain": [
              "<IPython.core.display.HTML object>"
            ]
          },
          "metadata": {},
          "output_type": "display_data"
        },
        {
          "data": {
            "text/html": [
              "Find logs at: <code>./wandb/run-20250525_133204-zk12bmwm/logs</code>"
            ],
            "text/plain": [
              "<IPython.core.display.HTML object>"
            ]
          },
          "metadata": {},
          "output_type": "display_data"
        }
      ],
      "source": [
        "#test finale pour Wandb\n",
        "\n",
        "predictions = trainer.predict(test_dataset_daccord)\n",
        "preds = predictions.predictions.argmax(axis=1)\n",
        "labels = predictions.label_ids\n",
        "\n",
        "acc = accuracy_score(labels, preds)\n",
        "precision, recall, f1, _ = precision_recall_fscore_support(labels, preds, average='macro')\n",
        "\n",
        "print(f\"\\nÉvaluation sur le jeu de test :\")\n",
        "print(f\"Accuracy  : {acc:.4f}\")\n",
        "print(f\"F1 Score  : {f1:.4f}\")\n",
        "print(f\"Recall    : {recall:.4f}\")\n",
        "print(f\"Precision : {precision:.4f}\")\n",
        "\n",
        "wandb.log({\n",
        "    \"test/accuracy\": acc,\n",
        "    \"test/f1\": f1,\n",
        "    \"test/precision\": precision,\n",
        "    \"test/recall\": recall\n",
        "})\n",
        "\n",
        "# Matrice de confusion\n",
        "cm = confusion_matrix(labels, preds)\n",
        "plt.figure(figsize=(8, 6))\n",
        "sns.heatmap(cm, annot=True,  fmt=\"d\", cmap=\"Blues\")\n",
        "plt.title(\"Matrice de confusion sur le jeu de test\")\n",
        "plt.xlabel(\"Prédictions\")\n",
        "plt.ylabel(\"Véritables\")\n",
        "wandb.log({\"confusion_matrix_test\": wandb.Image(plt)})\n",
        "plt.close()\n",
        "\n",
        "# # Fermer wandb\n",
        "wandb.finish()\n"
      ]
    },
    {
      "cell_type": "code",
      "execution_count": null,
      "metadata": {
        "colab": {
          "base_uri": "https://localhost:8080/",
          "height": 1000
        },
        "id": "ZXI5ndhmDztL",
        "outputId": "19176007-ff80-42f9-9254-03cd7c498673"
      },
      "outputs": [
        {
          "data": {
            "text/html": [],
            "text/plain": [
              "<IPython.core.display.HTML object>"
            ]
          },
          "metadata": {},
          "output_type": "display_data"
        },
        {
          "name": "stderr",
          "output_type": "stream",
          "text": [
            "/usr/local/lib/python3.11/dist-packages/sklearn/metrics/_classification.py:1565: UndefinedMetricWarning: Recall is ill-defined and being set to 0.0 in labels with no true samples. Use `zero_division` parameter to control this behavior.\n",
            "  _warn_prf(average, modifier, f\"{metric.capitalize()} is\", len(result))\n"
          ]
        },
        {
          "name": "stdout",
          "output_type": "stream",
          "text": [
            "\n",
            "Évaluation sur le jeu de test :\n",
            "Accuracy  : 0.5975\n",
            "F1 Score  : 0.3055\n",
            "Recall    : 0.3629\n",
            "Precision : 0.3471\n"
          ]
        },
        {
          "name": "stderr",
          "output_type": "stream",
          "text": [
            "/usr/local/lib/python3.11/dist-packages/sklearn/metrics/_classification.py:1565: UndefinedMetricWarning: Recall is ill-defined and being set to 0.0 in labels with no true samples. Use `zero_division` parameter to control this behavior.\n",
            "  _warn_prf(average, modifier, f\"{metric.capitalize()} is\", len(result))\n"
          ]
        },
        {
          "data": {
            "text/html": [],
            "text/plain": [
              "<IPython.core.display.HTML object>"
            ]
          },
          "metadata": {},
          "output_type": "display_data"
        },
        {
          "data": {
            "text/html": [
              "<br>    <style><br>        .wandb-row {<br>            display: flex;<br>            flex-direction: row;<br>            flex-wrap: wrap;<br>            justify-content: flex-start;<br>            width: 100%;<br>        }<br>        .wandb-col {<br>            display: flex;<br>            flex-direction: column;<br>            flex-basis: 100%;<br>            flex: 1;<br>            padding: 10px;<br>        }<br>    </style><br><div class=\"wandb-row\"><div class=\"wandb-col\"><h3>Run history:</h3><br/><table class=\"wandb\"><tr><td>epoch</td><td>▁▁▂▂▂▃▃▄▄▄▅▅▅▆▆▇▇▇██</td></tr><tr><td>eval/accuracy</td><td>█▅▂▁▄▅▅▄▄▄▃▁▂▂▂▂▂▂▂▂</td></tr><tr><td>eval/f1</td><td>▃▂▁▁▅██▇▇█▆▃▄▄▄▄▄▄▄▄</td></tr><tr><td>eval/loss</td><td>▇▇▆▅▃▁▁▁▁▁▃▅▅▆▆▇▇███</td></tr><tr><td>eval/precision</td><td>▁▂▄▄▆█████▇▇▇▇▇▇▇▇▇▇</td></tr><tr><td>eval/recall</td><td>▁▂▄▅▇██████▇██▇▇▇▇██</td></tr><tr><td>eval/runtime</td><td>▇█▄▁▁▂▄▄▃▃▂▂▂▂▃▃▃▄▃▃</td></tr><tr><td>eval/samples_per_second</td><td>▂▁▅██▇▅▅▆▆▇▇▇▇▆▅▆▅▆▆</td></tr><tr><td>eval/steps_per_second</td><td>▂▁▅██▇▅▅▆▆▇▇▇▇▆▅▆▅▆▆</td></tr><tr><td>test/accuracy</td><td>▇▇▄▄▁▁▁▁▃▃▅▅▆▆▅▅▆▆██▅▂▂▃▃▃▃▃▃▃▃▃▃▃▃▃▃▃▃▆</td></tr><tr><td>test/f1</td><td>▁▁▁▁▂▂▃▃▅▅▆▆▇▇▇▇▇▇██▆▆▆▆▆▆▆▆▆▇▇▇▇▆▆▆▆▆▆▇</td></tr><tr><td>test/loss</td><td>█▇▆▅▃▁▁▁▁▁▂▄▄▅▅▆▆▆▆▆▁</td></tr><tr><td>test/precision</td><td>▁▁▂▂▄▄▅▅▆▆▆▆▇▇▇▇▇▇██▇▇▇▇▇▇▇████████████▇</td></tr><tr><td>test/recall</td><td>▁▁▂▂▄▄▅▅▆▆▆▆▇▇▇▇▇▇██▇▇▇▇▇▇▇████████████▇</td></tr><tr><td>test/runtime</td><td>▅█▅▃▃▃▄▄▅▃▃▃▃▄▃▄▄▄▄▃▁</td></tr><tr><td>test/samples_per_second</td><td>▄▁▄▆▆▆▅▅▄▅▆▆▆▅▆▅▅▅▅▅█</td></tr><tr><td>test/steps_per_second</td><td>▄▁▄▆▆▆▅▅▄▅▆▆▆▅▆▅▅▅▅▅█</td></tr><tr><td>train/epoch</td><td>▁▁▁▂▂▂▂▃▃▃▄▄▄▄▄▅▅▅▅▆▆▆▇▇▇▇▇████</td></tr><tr><td>train/global_step</td><td>▁▁▁▁▁▂▂▂▃▃▄▄▄▄▄▄▄▄▄▅▅▅▆▆▆▆▆▆▇▇▇▇▇▇▇▇████</td></tr><tr><td>train/grad_norm</td><td>▆▄▂▂▄█▂▂▁▅</td></tr><tr><td>train/learning_rate</td><td>█▇▆▆▅▄▃▃▂▁</td></tr><tr><td>train/loss</td><td>█▅▃▃▂▂▂▁▁▁</td></tr></table><br/></div><div class=\"wandb-col\"><h3>Run summary:</h3><br/><table class=\"wandb\"><tr><td>epoch</td><td>20</td></tr><tr><td>eval/accuracy</td><td>0.52222</td></tr><tr><td>eval/f1</td><td>0.27415</td></tr><tr><td>eval/loss</td><td>1.67448</td></tr><tr><td>eval/precision</td><td>0.34616</td></tr><tr><td>eval/recall</td><td>0.37451</td></tr><tr><td>eval/runtime</td><td>7.3004</td></tr><tr><td>eval/samples_per_second</td><td>98.625</td></tr><tr><td>eval/steps_per_second</td><td>6.164</td></tr><tr><td>test/accuracy</td><td>0.5975</td></tr><tr><td>test/f1</td><td>0.30548</td></tr><tr><td>test/loss</td><td>1.16387</td></tr><tr><td>test/precision</td><td>0.34714</td></tr><tr><td>test/recall</td><td>0.36294</td></tr><tr><td>test/runtime</td><td>6.3804</td></tr><tr><td>test/samples_per_second</td><td>125.384</td></tr><tr><td>test/steps_per_second</td><td>7.837</td></tr><tr><td>total_flos</td><td>90127852865280.0</td></tr><tr><td>train/epoch</td><td>20</td></tr><tr><td>train/global_step</td><td>100</td></tr><tr><td>train/grad_norm</td><td>7.18231</td></tr><tr><td>train/learning_rate</td><td>0.0</td></tr><tr><td>train/loss</td><td>0.268</td></tr><tr><td>train_loss</td><td>0.49395</td></tr><tr><td>train_runtime</td><td>312.6845</td></tr><tr><td>train_samples_per_second</td><td>5.117</td></tr><tr><td>train_steps_per_second</td><td>0.32</td></tr></table><br/></div></div>"
            ],
            "text/plain": [
              "<IPython.core.display.HTML object>"
            ]
          },
          "metadata": {},
          "output_type": "display_data"
        },
        {
          "data": {
            "text/html": [
              " View run <strong style=\"color:#cdcd00\">Rte3/Rte3</strong> at: <a href='https://wandb.ai/amira-d-merad-universit-de-montpellier/LoRaBI/runs/jsiajebz' target=\"_blank\">https://wandb.ai/amira-d-merad-universit-de-montpellier/LoRaBI/runs/jsiajebz</a><br> View project at: <a href='https://wandb.ai/amira-d-merad-universit-de-montpellier/LoRaBI' target=\"_blank\">https://wandb.ai/amira-d-merad-universit-de-montpellier/LoRaBI</a><br>Synced 5 W&B file(s), 1 media file(s), 0 artifact file(s) and 0 other file(s)"
            ],
            "text/plain": [
              "<IPython.core.display.HTML object>"
            ]
          },
          "metadata": {},
          "output_type": "display_data"
        },
        {
          "data": {
            "text/html": [
              "Find logs at: <code>./wandb/run-20250525_134005-jsiajebz/logs</code>"
            ],
            "text/plain": [
              "<IPython.core.display.HTML object>"
            ]
          },
          "metadata": {},
          "output_type": "display_data"
        }
      ],
      "source": [
        "\n",
        "predictions = trainer.predict(test_dataset_rte3_bi)\n",
        "preds = predictions.predictions.argmax(axis=1)\n",
        "labels = predictions.label_ids\n",
        "\n",
        "acc = accuracy_score(labels, preds)\n",
        "precision, recall, f1, _ = precision_recall_fscore_support(labels, preds, average='macro')\n",
        "\n",
        "print(f\"\\nÉvaluation sur le jeu de test :\")\n",
        "print(f\"Accuracy  : {acc:.4f}\")\n",
        "print(f\"F1 Score  : {f1:.4f}\")\n",
        "print(f\"Recall    : {recall:.4f}\")\n",
        "print(f\"Precision : {precision:.4f}\")\n",
        "\n",
        "wandb.log({\n",
        "    \"test/accuracy\": acc,\n",
        "    \"test/f1\": f1,\n",
        "    \"test/precision\": precision,\n",
        "    \"test/recall\": recall\n",
        "})\n",
        "\n",
        "# Matrice de confusion\n",
        "cm = confusion_matrix(labels, preds)\n",
        "plt.figure(figsize=(8, 6))\n",
        "sns.heatmap(cm, annot=True, fmt=\"d\", cmap=\"Blues\")\n",
        "plt.title(\"Matrice de confusion sur le jeu de test\")\n",
        "plt.xlabel(\"Prédictions\")\n",
        "plt.ylabel(\"Véritables\")\n",
        "wandb.log({\"confusion_matrix_test\": wandb.Image(plt)})\n",
        "plt.close()\n",
        "\n",
        "# Fermer wandb\n",
        "wandb.finish()"
      ]
    },
    {
      "cell_type": "markdown",
      "metadata": {
        "id": "kXC6wumnd38Z"
      },
      "source": [
        "#9. Pré-évaluation des jeux de données sur le modèle préentraîné CamemBERTaV2-base-XNLI"
      ]
    },
    {
      "cell_type": "markdown",
      "metadata": {
        "id": "2NsCMueqegZW"
      },
      "source": [
        "##9.1 FRACAS"
      ]
    },
    {
      "cell_type": "code",
      "execution_count": null,
      "metadata": {
        "colab": {
          "base_uri": "https://localhost:8080/"
        },
        "id": "3dySiOrSn42i",
        "outputId": "34af604e-25e7-4cae-ee07-f5d089caf011"
      },
      "outputs": [
        {
          "name": "stdout",
          "output_type": "stream",
          "text": [
            "Accuracy: {'accuracy': 0.6621621621621622}\n",
            "F1 Score: {'f1': 0.6325385694249649}\n"
          ]
        }
      ],
      "source": [
        "tokenizer = AutoTokenizer.from_pretrained(\"almanach/camembertav2-base-xnli\")\n",
        "nli_model = AutoModelForSequenceClassification.from_pretrained(\"almanach/camembertav2-base-xnli\")\n",
        "\n",
        "output_path = './output.txt'\n",
        "w = open(output_path, 'w')\n",
        "probs_all = []\n",
        "corpus =  fracas_dataset.to_pandas()\n",
        "for index, row in corpus.iterrows():\n",
        "    premise = row['premise']\n",
        "    hypothesis = row['hypothesis']\n",
        "    inputs = tokenizer.encode(premise, hypothesis, return_tensors='pt')\n",
        "    with torch.no_grad():\n",
        "        logits = nli_model(inputs)[0]\n",
        "    probs = logits.softmax(dim=1)\n",
        "    prob_entailment = probs[:, 0].item()\n",
        "    prob_neutral = probs[:, 1].item()\n",
        "    prob_contradiction = probs[:, 2].item()\n",
        "    prediction = torch.argmax(probs, dim=1).item()\n",
        "    if row['label'] == 0:\n",
        "        gold = 0\n",
        "    elif row['label'] == 1:\n",
        "        gold = 1\n",
        "    else:\n",
        "        gold = 2\n",
        "    probs_all.append((index, gold, prediction))\n",
        "\n",
        "res = pd.DataFrame(probs_all, columns=['id', 'gold_label', 'prediction'])\n",
        "w.writelines(str(line) + '\\n' for line in probs_all)\n",
        "w.close()\n",
        "\n",
        "labels_test = res['gold_label']\n",
        "preds_test = res['prediction']\n",
        "\n",
        "f1_metric = load(\"f1\")\n",
        "accuracy_metric = load(\"accuracy\")\n",
        "\n",
        "results_accuracy = accuracy_metric.compute(predictions=preds_test, references=labels_test)\n",
        "results_f1 = f1_metric.compute(predictions=preds_test, references=labels_test, average='macro')\n",
        "\n",
        "print(\"Accuracy:\", results_accuracy)\n",
        "print(\"F1 Score:\", results_f1)\n"
      ]
    },
    {
      "cell_type": "markdown",
      "metadata": {
        "id": "4VQcVCMgepar"
      },
      "source": [
        "## 9.2 GQNLI"
      ]
    },
    {
      "cell_type": "code",
      "execution_count": null,
      "metadata": {
        "colab": {
          "base_uri": "https://localhost:8080/",
          "referenced_widgets": [
            "c1d3accf5ddb4182ae89cfe61fe9986f",
            "4cd0081918274baa89a124ecb961a9ac",
            "1a3d46826950404e8208b56fb939f2ea",
            "d2466a1b584a418687898bc6b334262e",
            "19750dbe471b43a2bb987bf5a47a1d02",
            "96771d526aa74460a5dc3b0ccfab8da1",
            "997fa3a198fe4a428680617a3219cc80",
            "ec1f72685ef0419fbab604a6992c2b89",
            "8e639cfb652e4ff48d7ebc9e5ef0e2d6",
            "4e4758272f024fdcaa0803941d92774b",
            "2ab5406821484aedb44d7860caf65608",
            "e07b244348ce4924a5a6d9a1891abe5f",
            "22732ccb14424c6db80b1d6b82d70c06",
            "d96420221e684a6e85a64d231a2d01cc",
            "a41e56ce8e09437cbc7b6d82d486bf0e",
            "fe68ae87fcfb4a37a778c904ec2e37b5",
            "20218f5726464947bb230c1104cb4ff6",
            "26cab6b374d84c87bb350e070d8356a7",
            "6ace4305923f4ce596a7e76edba76ef0",
            "3217ed783a034373bb897d080729b12e",
            "81221416a8df43ba9e4fe2a9b6492c9a",
            "3de34197400946e1a6b23a5ce5ebd413"
          ]
        },
        "id": "LzrbAgReoiqT",
        "outputId": "7362856e-a0c5-4555-ca7d-2449941b3f7c"
      },
      "outputs": [
        {
          "data": {
            "application/vnd.jupyter.widget-view+json": {
              "model_id": "c1d3accf5ddb4182ae89cfe61fe9986f",
              "version_major": 2,
              "version_minor": 0
            },
            "text/plain": [
              "Downloading builder script:   0%|          | 0.00/6.79k [00:00<?, ?B/s]"
            ]
          },
          "metadata": {},
          "output_type": "display_data"
        },
        {
          "data": {
            "application/vnd.jupyter.widget-view+json": {
              "model_id": "e07b244348ce4924a5a6d9a1891abe5f",
              "version_major": 2,
              "version_minor": 0
            },
            "text/plain": [
              "Downloading builder script:   0%|          | 0.00/4.20k [00:00<?, ?B/s]"
            ]
          },
          "metadata": {},
          "output_type": "display_data"
        },
        {
          "name": "stdout",
          "output_type": "stream",
          "text": [
            "Accuracy: {'accuracy': 0.2733333333333333}\n",
            "F1 Score: {'f1': 0.2483800128883352}\n"
          ]
        }
      ],
      "source": [
        "tokenizer = AutoTokenizer.from_pretrained(\"almanach/camembertav2-base-xnli\")\n",
        "nli_model = AutoModelForSequenceClassification.from_pretrained(\"almanach/camembertav2-base-xnli\")\n",
        "\n",
        "output_path = './output.txt'\n",
        "w = open(output_path, 'w')\n",
        "probs_all = []\n",
        "corpus =  dataset_gqnli.to_pandas()\n",
        "#print(corpus.head())\n",
        "for index, row in corpus.iterrows():\n",
        "    premise = row['premise']\n",
        "    hypothesis = row['hypothesis']\n",
        "    inputs = tokenizer.encode(premise, hypothesis, return_tensors='pt')\n",
        "    with torch.no_grad():\n",
        "        logits = nli_model(inputs)[0]\n",
        "    probs = logits.softmax(dim=1)\n",
        "    prob_entailment = probs[:, 0].item()\n",
        "    prob_neutral = probs[:, 1].item()\n",
        "    prob_contradiction = probs[:, 2].item()\n",
        "    prediction = torch.argmax(probs, dim=1).item()\n",
        "    if row['label'] == 0:\n",
        "        gold = 0\n",
        "    elif row['label'] == 1:\n",
        "        gold = 1\n",
        "    else:\n",
        "        gold = 2\n",
        "    probs_all.append((index, gold, prediction))\n",
        "\n",
        "res = pd.DataFrame(probs_all, columns=['id', 'gold_label', 'prediction'])\n",
        "w.writelines(str(line) + '\\n' for line in probs_all)\n",
        "w.close()\n",
        "\n",
        "labels_test = res['gold_label']\n",
        "preds_test = res['prediction']\n",
        "\n",
        "f1_metric = load(\"f1\")\n",
        "accuracy_metric = load(\"accuracy\")\n",
        "\n",
        "results_accuracy = accuracy_metric.compute(predictions=preds_test, references=labels_test)\n",
        "results_f1 = f1_metric.compute(predictions=preds_test, references=labels_test, average='macro')\n",
        "\n",
        "print(\"Accuracy:\", results_accuracy)\n",
        "print(\"F1 Score:\", results_f1)"
      ]
    },
    {
      "cell_type": "markdown",
      "metadata": {
        "id": "8RhsDPytet_r"
      },
      "source": [
        "## 9.3 SICK"
      ]
    },
    {
      "cell_type": "code",
      "execution_count": null,
      "metadata": {
        "colab": {
          "base_uri": "https://localhost:8080/"
        },
        "id": "qV5K2Dj3ootB",
        "outputId": "29cd022e-9e11-45d2-bb73-372316cc4325"
      },
      "outputs": [
        {
          "name": "stdout",
          "output_type": "stream",
          "text": [
            "Accuracy: {'accuracy': 0.5617611088463106}\n",
            "F1 Score: {'f1': 0.5664739726417707}\n"
          ]
        }
      ],
      "source": [
        "tokenizer = AutoTokenizer.from_pretrained(\"almanach/camembertav2-base-xnli\")\n",
        "nli_model = AutoModelForSequenceClassification.from_pretrained(\"almanach/camembertav2-base-xnli\")\n",
        "\n",
        "output_path = './output.txt'\n",
        "w = open(output_path, 'w')\n",
        "probs_all = []\n",
        "corpus = test_dataset_sick.to_pandas()\n",
        "#print(corpus.head())\n",
        "for index, row in corpus.iterrows():\n",
        "    premise = row['premise']\n",
        "    hypothesis = row['hypothesis']\n",
        "    inputs = tokenizer.encode(premise, hypothesis, return_tensors='pt')\n",
        "    with torch.no_grad():\n",
        "        logits = nli_model(inputs)[0]\n",
        "    probs = logits.softmax(dim=1)\n",
        "    prob_entailment = probs[:, 0].item()\n",
        "    prob_neutral = probs[:, 1].item()\n",
        "    prob_contradiction = probs[:, 2].item()\n",
        "    prediction = torch.argmax(probs, dim=1).item()\n",
        "    if row['label'] == 0:\n",
        "        gold = 0\n",
        "    elif row['label'] == 1:\n",
        "        gold = 1\n",
        "    else:\n",
        "        gold = 2\n",
        "    probs_all.append((index, gold, prediction))\n",
        "\n",
        "res = pd.DataFrame(probs_all, columns=['id', 'gold_label', 'prediction'])\n",
        "w.writelines(str(line) + '\\n' for line in probs_all)\n",
        "w.close()\n",
        "\n",
        "labels_test = res['gold_label']\n",
        "preds_test = res['prediction']\n",
        "\n",
        "f1_metric = load(\"f1\")\n",
        "accuracy_metric = load(\"accuracy\")\n",
        "\n",
        "results_accuracy = accuracy_metric.compute(predictions=preds_test, references=labels_test)\n",
        "results_f1 = f1_metric.compute(predictions=preds_test, references=labels_test, average='macro')\n",
        "\n",
        "print(\"Accuracy:\", results_accuracy)\n",
        "print(\"F1 Score:\", results_f1)"
      ]
    },
    {
      "cell_type": "markdown",
      "metadata": {
        "id": "pyspGgxO_J5X"
      },
      "source": [
        "###Sick BI"
      ]
    },
    {
      "cell_type": "code",
      "execution_count": null,
      "metadata": {
        "colab": {
          "base_uri": "https://localhost:8080/"
        },
        "id": "la-IlQ4N8U2k",
        "outputId": "878316b4-cd70-4968-9342-519b26cafde7"
      },
      "outputs": [
        {
          "name": "stdout",
          "output_type": "stream",
          "text": [
            "Accuracy: {'accuracy': 0.3603750509580106}\n",
            "F1 Score: {'f1': 0.20010476636091776}\n"
          ]
        }
      ],
      "source": [
        "tokenizer = AutoTokenizer.from_pretrained(\"almanach/camembertav2-base-xnli\")\n",
        "nli_model = AutoModelForSequenceClassification.from_pretrained(\"almanach/camembertav2-base-xnli\")\n",
        "\n",
        "output_path = './output.txt'\n",
        "w = open(output_path, 'w')\n",
        "probs_all = []\n",
        "corpus = test_dataset_sick_bi.to_pandas()\n",
        "#print(corpus.head())\n",
        "for index, row in corpus.iterrows():\n",
        "    premise = row['premise']\n",
        "    hypothesis = row['hypothesis']\n",
        "    inputs = tokenizer.encode(premise, hypothesis, return_tensors='pt')\n",
        "    with torch.no_grad():\n",
        "        logits = nli_model(inputs)[0]\n",
        "    probs = logits.softmax(dim=1)\n",
        "    prob_neutral = probs[:, 0].item()\n",
        "    prob_contradiction = probs[:, 1].item()\n",
        "    prediction = torch.argmax(probs, dim=1).item()\n",
        "    if row['label'] == 0:\n",
        "        gold = 0\n",
        "    else:\n",
        "        gold = 1\n",
        "\n",
        "    probs_all.append((index, gold, prediction))\n",
        "\n",
        "res = pd.DataFrame(probs_all, columns=['id', 'gold_label', 'prediction'])\n",
        "w.writelines(str(line) + '\\n' for line in probs_all)\n",
        "w.close()\n",
        "\n",
        "labels_test = res['gold_label']\n",
        "preds_test = res['prediction']\n",
        "\n",
        "f1_metric = load(\"f1\")\n",
        "accuracy_metric = load(\"accuracy\")\n",
        "\n",
        "results_accuracy = accuracy_metric.compute(predictions=preds_test, references=labels_test)\n",
        "results_f1 = f1_metric.compute(predictions=preds_test, references=labels_test, average='macro')\n",
        "\n",
        "print(\"Accuracy:\", results_accuracy)\n",
        "print(\"F1 Score:\", results_f1)"
      ]
    },
    {
      "cell_type": "markdown",
      "metadata": {
        "id": "tL_Cp8OZemDm"
      },
      "source": [
        "## 9.4 RT3"
      ]
    },
    {
      "cell_type": "code",
      "execution_count": null,
      "metadata": {
        "colab": {
          "base_uri": "https://localhost:8080/"
        },
        "id": "QwflvvWbkTtA",
        "outputId": "43e370ea-d01e-47b6-e5de-d5d8cc65c2b0"
      },
      "outputs": [
        {
          "name": "stdout",
          "output_type": "stream",
          "text": [
            "Accuracy: {'accuracy': 0.66625}\n",
            "F1 Score: {'f1': 0.5653099663122269}\n"
          ]
        }
      ],
      "source": [
        "tokenizer = AutoTokenizer.from_pretrained(\"almanach/camembertav2-base-xnli\")\n",
        "nli_model = AutoModelForSequenceClassification.from_pretrained(\"almanach/camembertav2-base-xnli\")\n",
        "\n",
        "output_path = './output.txt'\n",
        "w = open(output_path, 'w')\n",
        "probs_all = []\n",
        "corpus =  test_dataset_rte3.to_pandas()\n",
        "#print(corpus.head())\n",
        "for index, row in corpus.iterrows():\n",
        "    premise = row['premise']\n",
        "    hypothesis = row['hypothesis']\n",
        "    inputs = tokenizer.encode(premise, hypothesis, return_tensors='pt')\n",
        "    with torch.no_grad():\n",
        "        logits = nli_model(inputs)[0]\n",
        "    probs = logits.softmax(dim=1)\n",
        "    prob_entailment = probs[:, 0].item()\n",
        "    prob_neutral = probs[:, 1].item()\n",
        "    prob_contradiction = probs[:, 2].item()\n",
        "    prediction = torch.argmax(probs, dim=1).item()\n",
        "    if row['label'] == 0:\n",
        "        gold = 0\n",
        "    elif row['label'] == 1:\n",
        "        gold = 1\n",
        "    else:\n",
        "        gold = 2\n",
        "    probs_all.append((index, gold, prediction))\n",
        "\n",
        "res = pd.DataFrame(probs_all, columns=['id', 'gold_label', 'prediction'])\n",
        "w.writelines(str(line) + '\\n' for line in probs_all)\n",
        "w.close()\n",
        "\n",
        "labels_test = res['gold_label']\n",
        "preds_test = res['prediction']\n",
        "\n",
        "f1_metric = load(\"f1\")\n",
        "accuracy_metric = load(\"accuracy\")\n",
        "\n",
        "results_accuracy = accuracy_metric.compute(predictions=preds_test, references=labels_test)\n",
        "results_f1 = f1_metric.compute(predictions=preds_test, references=labels_test, average='macro')\n",
        "\n",
        "print(\"Accuracy:\", results_accuracy)\n",
        "print(\"F1 Score:\", results_f1)\n"
      ]
    },
    {
      "cell_type": "markdown",
      "metadata": {
        "id": "pRaz6XNNAYop"
      },
      "source": [
        "###Rte 3 BI"
      ]
    },
    {
      "cell_type": "code",
      "execution_count": null,
      "metadata": {
        "colab": {
          "base_uri": "https://localhost:8080/"
        },
        "id": "ye5IHTMV3TXH",
        "outputId": "6fbc4e49-1ef5-4dd7-8169-c207841ff2cc"
      },
      "outputs": [
        {
          "name": "stdout",
          "output_type": "stream",
          "text": [
            "Accuracy: {'accuracy': 0.5925}\n",
            "F1 Score: {'f1': 0.2762564796033356}\n"
          ]
        }
      ],
      "source": [
        "tokenizer = AutoTokenizer.from_pretrained(\"almanach/camembertav2-base-xnli\")\n",
        "nli_model = AutoModelForSequenceClassification.from_pretrained(\"almanach/camembertav2-base-xnli\")\n",
        "\n",
        "output_path = './output.txt'\n",
        "w = open(output_path, 'w')\n",
        "probs_all = []\n",
        "corpus = test_dataset_rte3_bi.to_pandas()\n",
        "#print(corpus.head())\n",
        "for index, row in corpus.iterrows():\n",
        "    premise = row['premise']\n",
        "    hypothesis = row['hypothesis']\n",
        "    inputs = tokenizer.encode(premise, hypothesis, return_tensors='pt')\n",
        "    with torch.no_grad():\n",
        "        logits = nli_model(inputs)[0]\n",
        "    probs = logits.softmax(dim=1)\n",
        "    prob_neutral = probs[:, 0].item()\n",
        "    prob_contradiction = probs[:, 1].item()\n",
        "    prediction = torch.argmax(probs, dim=1).item()\n",
        "    if row['label'] == 0:\n",
        "        gold = 0\n",
        "    else:\n",
        "        gold = 1\n",
        "\n",
        "    probs_all.append((index, gold, prediction))\n",
        "\n",
        "res = pd.DataFrame(probs_all, columns=['id', 'gold_label', 'prediction'])\n",
        "w.writelines(str(line) + '\\n' for line in probs_all)\n",
        "w.close()\n",
        "\n",
        "labels_test = res['gold_label']\n",
        "preds_test = res['prediction']\n",
        "\n",
        "f1_metric = load(\"f1\")\n",
        "accuracy_metric = load(\"accuracy\")\n",
        "\n",
        "results_accuracy = accuracy_metric.compute(predictions=preds_test, references=labels_test)\n",
        "results_f1 = f1_metric.compute(predictions=preds_test, references=labels_test, average='macro')\n",
        "\n",
        "print(\"Accuracy:\", results_accuracy)\n",
        "print(\"F1 Score:\", results_f1)"
      ]
    },
    {
      "cell_type": "markdown",
      "metadata": {
        "id": "qKcKkmCg8OQZ"
      },
      "source": [
        "##9.5 DACCORD"
      ]
    },
    {
      "cell_type": "code",
      "execution_count": null,
      "metadata": {
        "colab": {
          "base_uri": "https://localhost:8080/"
        },
        "id": "Vsrep7F67yjr",
        "outputId": "69459bd1-5862-4396-b210-38d157a7b643"
      },
      "outputs": [
        {
          "name": "stdout",
          "output_type": "stream",
          "text": [
            "Accuracy: {'accuracy': 0.46}\n",
            "F1 Score: {'f1': 0.2100456621004566}\n"
          ]
        }
      ],
      "source": [
        "tokenizer = AutoTokenizer.from_pretrained(\"almanach/camembertav2-base-xnli\")\n",
        "nli_model = AutoModelForSequenceClassification.from_pretrained(\"almanach/camembertav2-base-xnli\")\n",
        "\n",
        "output_path = './output.txt'\n",
        "w = open(output_path, 'w')\n",
        "probs_all = []\n",
        "corpus = test_dataset_daccord.to_pandas()\n",
        "#print(corpus.head())\n",
        "for index, row in corpus.iterrows():\n",
        "    premise = row['premise']\n",
        "    hypothesis = row['hypothesis']\n",
        "    inputs = tokenizer.encode(premise, hypothesis, return_tensors='pt')\n",
        "    with torch.no_grad():\n",
        "        logits = nli_model(inputs)[0]\n",
        "    probs = logits.softmax(dim=1)\n",
        "    prob_neutral = probs[:, 0].item()\n",
        "    prob_contradiction = probs[:, 1].item()\n",
        "    prediction = torch.argmax(probs, dim=1).item()\n",
        "    if row['label'] == 0:\n",
        "        gold = 0\n",
        "    else:\n",
        "        gold = 1\n",
        "\n",
        "    probs_all.append((index, gold, prediction))\n",
        "\n",
        "res = pd.DataFrame(probs_all, columns=['id', 'gold_label', 'prediction'])\n",
        "w.writelines(str(line) + '\\n' for line in probs_all)\n",
        "w.close()\n",
        "\n",
        "labels_test = res['gold_label']\n",
        "preds_test = res['prediction']\n",
        "\n",
        "f1_metric = load(\"f1\")\n",
        "accuracy_metric = load(\"accuracy\")\n",
        "\n",
        "results_accuracy = accuracy_metric.compute(predictions=preds_test, references=labels_test)\n",
        "results_f1 = f1_metric.compute(predictions=preds_test, references=labels_test, average='macro')\n",
        "\n",
        "print(\"Accuracy:\", results_accuracy)\n",
        "print(\"F1 Score:\", results_f1)"
      ]
    }
  ],
  "metadata": {
    "accelerator": "GPU",
    "colab": {
      "collapsed_sections": [
        "FxEKWDuwS9Hg",
        "RQivYV3eTnXO",
        "bFUT-oL2UPZ0",
        "8JDHXZyOYjTZ",
        "UHx7Th9ecBn7",
        "akT-ISnEcHAP",
        "3UiynW4UcLLu",
        "iZxL1I0xcdk3",
        "vdRrFvJ4ckxB",
        "FTJWok22cwPN",
        "HX2EPP6Tc1oe",
        "Ey5KfLKqex54"
      ],
      "gpuType": "T4",
      "machine_shape": "hm",
      "provenance": []
    },
    "kernelspec": {
      "display_name": "Python 3",
      "name": "python3"
    },
    "language_info": {
      "name": "python"
    },
    "widgets": {
      "application/vnd.jupyter.widget-state+json": {
        "00f124c973c24fb2a280862779e5c51a": {
          "model_module": "@jupyter-widgets/controls",
          "model_module_version": "1.5.0",
          "model_name": "DescriptionStyleModel",
          "state": {
            "_model_module": "@jupyter-widgets/controls",
            "_model_module_version": "1.5.0",
            "_model_name": "DescriptionStyleModel",
            "_view_count": null,
            "_view_module": "@jupyter-widgets/base",
            "_view_module_version": "1.2.0",
            "_view_name": "StyleView",
            "description_width": ""
          }
        },
        "01fabfdeb5fa4393a7a413ce7a765bb1": {
          "model_module": "@jupyter-widgets/base",
          "model_module_version": "1.2.0",
          "model_name": "LayoutModel",
          "state": {
            "_model_module": "@jupyter-widgets/base",
            "_model_module_version": "1.2.0",
            "_model_name": "LayoutModel",
            "_view_count": null,
            "_view_module": "@jupyter-widgets/base",
            "_view_module_version": "1.2.0",
            "_view_name": "LayoutView",
            "align_content": null,
            "align_items": null,
            "align_self": null,
            "border": null,
            "bottom": null,
            "display": null,
            "flex": null,
            "flex_flow": null,
            "grid_area": null,
            "grid_auto_columns": null,
            "grid_auto_flow": null,
            "grid_auto_rows": null,
            "grid_column": null,
            "grid_gap": null,
            "grid_row": null,
            "grid_template_areas": null,
            "grid_template_columns": null,
            "grid_template_rows": null,
            "height": null,
            "justify_content": null,
            "justify_items": null,
            "left": null,
            "margin": null,
            "max_height": null,
            "max_width": null,
            "min_height": null,
            "min_width": null,
            "object_fit": null,
            "object_position": null,
            "order": null,
            "overflow": null,
            "overflow_x": null,
            "overflow_y": null,
            "padding": null,
            "right": null,
            "top": null,
            "visibility": null,
            "width": null
          }
        },
        "083acfb0e81048b1801be88c38cfe91b": {
          "model_module": "@jupyter-widgets/base",
          "model_module_version": "1.2.0",
          "model_name": "LayoutModel",
          "state": {
            "_model_module": "@jupyter-widgets/base",
            "_model_module_version": "1.2.0",
            "_model_name": "LayoutModel",
            "_view_count": null,
            "_view_module": "@jupyter-widgets/base",
            "_view_module_version": "1.2.0",
            "_view_name": "LayoutView",
            "align_content": null,
            "align_items": null,
            "align_self": null,
            "border": null,
            "bottom": null,
            "display": null,
            "flex": null,
            "flex_flow": null,
            "grid_area": null,
            "grid_auto_columns": null,
            "grid_auto_flow": null,
            "grid_auto_rows": null,
            "grid_column": null,
            "grid_gap": null,
            "grid_row": null,
            "grid_template_areas": null,
            "grid_template_columns": null,
            "grid_template_rows": null,
            "height": null,
            "justify_content": null,
            "justify_items": null,
            "left": null,
            "margin": null,
            "max_height": null,
            "max_width": null,
            "min_height": null,
            "min_width": null,
            "object_fit": null,
            "object_position": null,
            "order": null,
            "overflow": null,
            "overflow_x": null,
            "overflow_y": null,
            "padding": null,
            "right": null,
            "top": null,
            "visibility": null,
            "width": null
          }
        },
        "0e0d30d3303c44218fa94d4b8ec3aab9": {
          "model_module": "@jupyter-widgets/controls",
          "model_module_version": "1.5.0",
          "model_name": "DescriptionStyleModel",
          "state": {
            "_model_module": "@jupyter-widgets/controls",
            "_model_module_version": "1.5.0",
            "_model_name": "DescriptionStyleModel",
            "_view_count": null,
            "_view_module": "@jupyter-widgets/base",
            "_view_module_version": "1.2.0",
            "_view_name": "StyleView",
            "description_width": ""
          }
        },
        "1072414e1eab4bbab440ef2a38b9c6d6": {
          "model_module": "@jupyter-widgets/controls",
          "model_module_version": "1.5.0",
          "model_name": "DescriptionStyleModel",
          "state": {
            "_model_module": "@jupyter-widgets/controls",
            "_model_module_version": "1.5.0",
            "_model_name": "DescriptionStyleModel",
            "_view_count": null,
            "_view_module": "@jupyter-widgets/base",
            "_view_module_version": "1.2.0",
            "_view_name": "StyleView",
            "description_width": ""
          }
        },
        "1228dddd97614917a0ef4914c1c53c5c": {
          "model_module": "@jupyter-widgets/base",
          "model_module_version": "1.2.0",
          "model_name": "LayoutModel",
          "state": {
            "_model_module": "@jupyter-widgets/base",
            "_model_module_version": "1.2.0",
            "_model_name": "LayoutModel",
            "_view_count": null,
            "_view_module": "@jupyter-widgets/base",
            "_view_module_version": "1.2.0",
            "_view_name": "LayoutView",
            "align_content": null,
            "align_items": null,
            "align_self": null,
            "border": null,
            "bottom": null,
            "display": null,
            "flex": null,
            "flex_flow": null,
            "grid_area": null,
            "grid_auto_columns": null,
            "grid_auto_flow": null,
            "grid_auto_rows": null,
            "grid_column": null,
            "grid_gap": null,
            "grid_row": null,
            "grid_template_areas": null,
            "grid_template_columns": null,
            "grid_template_rows": null,
            "height": null,
            "justify_content": null,
            "justify_items": null,
            "left": null,
            "margin": null,
            "max_height": null,
            "max_width": null,
            "min_height": null,
            "min_width": null,
            "object_fit": null,
            "object_position": null,
            "order": null,
            "overflow": null,
            "overflow_x": null,
            "overflow_y": null,
            "padding": null,
            "right": null,
            "top": null,
            "visibility": null,
            "width": null
          }
        },
        "19750dbe471b43a2bb987bf5a47a1d02": {
          "model_module": "@jupyter-widgets/base",
          "model_module_version": "1.2.0",
          "model_name": "LayoutModel",
          "state": {
            "_model_module": "@jupyter-widgets/base",
            "_model_module_version": "1.2.0",
            "_model_name": "LayoutModel",
            "_view_count": null,
            "_view_module": "@jupyter-widgets/base",
            "_view_module_version": "1.2.0",
            "_view_name": "LayoutView",
            "align_content": null,
            "align_items": null,
            "align_self": null,
            "border": null,
            "bottom": null,
            "display": null,
            "flex": null,
            "flex_flow": null,
            "grid_area": null,
            "grid_auto_columns": null,
            "grid_auto_flow": null,
            "grid_auto_rows": null,
            "grid_column": null,
            "grid_gap": null,
            "grid_row": null,
            "grid_template_areas": null,
            "grid_template_columns": null,
            "grid_template_rows": null,
            "height": null,
            "justify_content": null,
            "justify_items": null,
            "left": null,
            "margin": null,
            "max_height": null,
            "max_width": null,
            "min_height": null,
            "min_width": null,
            "object_fit": null,
            "object_position": null,
            "order": null,
            "overflow": null,
            "overflow_x": null,
            "overflow_y": null,
            "padding": null,
            "right": null,
            "top": null,
            "visibility": null,
            "width": null
          }
        },
        "19e150da0e63494e9fd4573f98db593e": {
          "model_module": "@jupyter-widgets/base",
          "model_module_version": "1.2.0",
          "model_name": "LayoutModel",
          "state": {
            "_model_module": "@jupyter-widgets/base",
            "_model_module_version": "1.2.0",
            "_model_name": "LayoutModel",
            "_view_count": null,
            "_view_module": "@jupyter-widgets/base",
            "_view_module_version": "1.2.0",
            "_view_name": "LayoutView",
            "align_content": null,
            "align_items": null,
            "align_self": null,
            "border": null,
            "bottom": null,
            "display": null,
            "flex": null,
            "flex_flow": null,
            "grid_area": null,
            "grid_auto_columns": null,
            "grid_auto_flow": null,
            "grid_auto_rows": null,
            "grid_column": null,
            "grid_gap": null,
            "grid_row": null,
            "grid_template_areas": null,
            "grid_template_columns": null,
            "grid_template_rows": null,
            "height": null,
            "justify_content": null,
            "justify_items": null,
            "left": null,
            "margin": null,
            "max_height": null,
            "max_width": null,
            "min_height": null,
            "min_width": null,
            "object_fit": null,
            "object_position": null,
            "order": null,
            "overflow": null,
            "overflow_x": null,
            "overflow_y": null,
            "padding": null,
            "right": null,
            "top": null,
            "visibility": null,
            "width": null
          }
        },
        "1a1ed5feb62a4b8eabc32ce3bc9f4e8b": {
          "model_module": "@jupyter-widgets/base",
          "model_module_version": "1.2.0",
          "model_name": "LayoutModel",
          "state": {
            "_model_module": "@jupyter-widgets/base",
            "_model_module_version": "1.2.0",
            "_model_name": "LayoutModel",
            "_view_count": null,
            "_view_module": "@jupyter-widgets/base",
            "_view_module_version": "1.2.0",
            "_view_name": "LayoutView",
            "align_content": null,
            "align_items": null,
            "align_self": null,
            "border": null,
            "bottom": null,
            "display": null,
            "flex": null,
            "flex_flow": null,
            "grid_area": null,
            "grid_auto_columns": null,
            "grid_auto_flow": null,
            "grid_auto_rows": null,
            "grid_column": null,
            "grid_gap": null,
            "grid_row": null,
            "grid_template_areas": null,
            "grid_template_columns": null,
            "grid_template_rows": null,
            "height": null,
            "justify_content": null,
            "justify_items": null,
            "left": null,
            "margin": null,
            "max_height": null,
            "max_width": null,
            "min_height": null,
            "min_width": null,
            "object_fit": null,
            "object_position": null,
            "order": null,
            "overflow": null,
            "overflow_x": null,
            "overflow_y": null,
            "padding": null,
            "right": null,
            "top": null,
            "visibility": null,
            "width": null
          }
        },
        "1a3d46826950404e8208b56fb939f2ea": {
          "model_module": "@jupyter-widgets/controls",
          "model_module_version": "1.5.0",
          "model_name": "FloatProgressModel",
          "state": {
            "_dom_classes": [],
            "_model_module": "@jupyter-widgets/controls",
            "_model_module_version": "1.5.0",
            "_model_name": "FloatProgressModel",
            "_view_count": null,
            "_view_module": "@jupyter-widgets/controls",
            "_view_module_version": "1.5.0",
            "_view_name": "ProgressView",
            "bar_style": "success",
            "description": "",
            "description_tooltip": null,
            "layout": "IPY_MODEL_ec1f72685ef0419fbab604a6992c2b89",
            "max": 6785,
            "min": 0,
            "orientation": "horizontal",
            "style": "IPY_MODEL_8e639cfb652e4ff48d7ebc9e5ef0e2d6",
            "value": 6785
          }
        },
        "1f88616ed8034278b55d89bd9206dce1": {
          "model_module": "@jupyter-widgets/controls",
          "model_module_version": "1.5.0",
          "model_name": "FloatProgressModel",
          "state": {
            "_dom_classes": [],
            "_model_module": "@jupyter-widgets/controls",
            "_model_module_version": "1.5.0",
            "_model_name": "FloatProgressModel",
            "_view_count": null,
            "_view_module": "@jupyter-widgets/controls",
            "_view_module_version": "1.5.0",
            "_view_name": "ProgressView",
            "bar_style": "success",
            "description": "",
            "description_tooltip": null,
            "layout": "IPY_MODEL_2b0b1234a8874242b27761d8938bfab9",
            "max": 60,
            "min": 0,
            "orientation": "horizontal",
            "style": "IPY_MODEL_5f65561c1e7042a88e8332e84067acb2",
            "value": 60
          }
        },
        "20218f5726464947bb230c1104cb4ff6": {
          "model_module": "@jupyter-widgets/base",
          "model_module_version": "1.2.0",
          "model_name": "LayoutModel",
          "state": {
            "_model_module": "@jupyter-widgets/base",
            "_model_module_version": "1.2.0",
            "_model_name": "LayoutModel",
            "_view_count": null,
            "_view_module": "@jupyter-widgets/base",
            "_view_module_version": "1.2.0",
            "_view_name": "LayoutView",
            "align_content": null,
            "align_items": null,
            "align_self": null,
            "border": null,
            "bottom": null,
            "display": null,
            "flex": null,
            "flex_flow": null,
            "grid_area": null,
            "grid_auto_columns": null,
            "grid_auto_flow": null,
            "grid_auto_rows": null,
            "grid_column": null,
            "grid_gap": null,
            "grid_row": null,
            "grid_template_areas": null,
            "grid_template_columns": null,
            "grid_template_rows": null,
            "height": null,
            "justify_content": null,
            "justify_items": null,
            "left": null,
            "margin": null,
            "max_height": null,
            "max_width": null,
            "min_height": null,
            "min_width": null,
            "object_fit": null,
            "object_position": null,
            "order": null,
            "overflow": null,
            "overflow_x": null,
            "overflow_y": null,
            "padding": null,
            "right": null,
            "top": null,
            "visibility": null,
            "width": null
          }
        },
        "2092168e4168483895c1ae070b00489b": {
          "model_module": "@jupyter-widgets/controls",
          "model_module_version": "1.5.0",
          "model_name": "HBoxModel",
          "state": {
            "_dom_classes": [],
            "_model_module": "@jupyter-widgets/controls",
            "_model_module_version": "1.5.0",
            "_model_name": "HBoxModel",
            "_view_count": null,
            "_view_module": "@jupyter-widgets/controls",
            "_view_module_version": "1.5.0",
            "_view_name": "HBoxView",
            "box_style": "",
            "children": [
              "IPY_MODEL_5643fbf70a494c1684a9ff20e77a3a56",
              "IPY_MODEL_1f88616ed8034278b55d89bd9206dce1",
              "IPY_MODEL_4b132f8ce2bf4a5e9e4e61a8614496a9"
            ],
            "layout": "IPY_MODEL_1228dddd97614917a0ef4914c1c53c5c"
          }
        },
        "22732ccb14424c6db80b1d6b82d70c06": {
          "model_module": "@jupyter-widgets/controls",
          "model_module_version": "1.5.0",
          "model_name": "HTMLModel",
          "state": {
            "_dom_classes": [],
            "_model_module": "@jupyter-widgets/controls",
            "_model_module_version": "1.5.0",
            "_model_name": "HTMLModel",
            "_view_count": null,
            "_view_module": "@jupyter-widgets/controls",
            "_view_module_version": "1.5.0",
            "_view_name": "HTMLView",
            "description": "",
            "description_tooltip": null,
            "layout": "IPY_MODEL_20218f5726464947bb230c1104cb4ff6",
            "placeholder": "​",
            "style": "IPY_MODEL_26cab6b374d84c87bb350e070d8356a7",
            "value": "Downloading builder script: 100%"
          }
        },
        "23497197705b49da95445226047a835e": {
          "model_module": "@jupyter-widgets/controls",
          "model_module_version": "1.5.0",
          "model_name": "ProgressStyleModel",
          "state": {
            "_model_module": "@jupyter-widgets/controls",
            "_model_module_version": "1.5.0",
            "_model_name": "ProgressStyleModel",
            "_view_count": null,
            "_view_module": "@jupyter-widgets/base",
            "_view_module_version": "1.2.0",
            "_view_name": "StyleView",
            "bar_color": null,
            "description_width": ""
          }
        },
        "25d87f0113bf42129fe8d624526dd176": {
          "model_module": "@jupyter-widgets/base",
          "model_module_version": "1.2.0",
          "model_name": "LayoutModel",
          "state": {
            "_model_module": "@jupyter-widgets/base",
            "_model_module_version": "1.2.0",
            "_model_name": "LayoutModel",
            "_view_count": null,
            "_view_module": "@jupyter-widgets/base",
            "_view_module_version": "1.2.0",
            "_view_name": "LayoutView",
            "align_content": null,
            "align_items": null,
            "align_self": null,
            "border": null,
            "bottom": null,
            "display": null,
            "flex": null,
            "flex_flow": null,
            "grid_area": null,
            "grid_auto_columns": null,
            "grid_auto_flow": null,
            "grid_auto_rows": null,
            "grid_column": null,
            "grid_gap": null,
            "grid_row": null,
            "grid_template_areas": null,
            "grid_template_columns": null,
            "grid_template_rows": null,
            "height": null,
            "justify_content": null,
            "justify_items": null,
            "left": null,
            "margin": null,
            "max_height": null,
            "max_width": null,
            "min_height": null,
            "min_width": null,
            "object_fit": null,
            "object_position": null,
            "order": null,
            "overflow": null,
            "overflow_x": null,
            "overflow_y": null,
            "padding": null,
            "right": null,
            "top": null,
            "visibility": null,
            "width": null
          }
        },
        "26cab6b374d84c87bb350e070d8356a7": {
          "model_module": "@jupyter-widgets/controls",
          "model_module_version": "1.5.0",
          "model_name": "DescriptionStyleModel",
          "state": {
            "_model_module": "@jupyter-widgets/controls",
            "_model_module_version": "1.5.0",
            "_model_name": "DescriptionStyleModel",
            "_view_count": null,
            "_view_module": "@jupyter-widgets/base",
            "_view_module_version": "1.2.0",
            "_view_name": "StyleView",
            "description_width": ""
          }
        },
        "28602d0250be4fd186ab4460ba8daa42": {
          "model_module": "@jupyter-widgets/controls",
          "model_module_version": "1.5.0",
          "model_name": "FloatProgressModel",
          "state": {
            "_dom_classes": [],
            "_model_module": "@jupyter-widgets/controls",
            "_model_module_version": "1.5.0",
            "_model_name": "FloatProgressModel",
            "_view_count": null,
            "_view_module": "@jupyter-widgets/controls",
            "_view_module_version": "1.5.0",
            "_view_name": "ProgressView",
            "bar_style": "success",
            "description": "",
            "description_tooltip": null,
            "layout": "IPY_MODEL_85c74697b3cb4d2bb9122accf40ed32c",
            "max": 80,
            "min": 0,
            "orientation": "horizontal",
            "style": "IPY_MODEL_23497197705b49da95445226047a835e",
            "value": 80
          }
        },
        "2932694c99454ff79a66f549889ddf4f": {
          "model_module": "@jupyter-widgets/base",
          "model_module_version": "1.2.0",
          "model_name": "LayoutModel",
          "state": {
            "_model_module": "@jupyter-widgets/base",
            "_model_module_version": "1.2.0",
            "_model_name": "LayoutModel",
            "_view_count": null,
            "_view_module": "@jupyter-widgets/base",
            "_view_module_version": "1.2.0",
            "_view_name": "LayoutView",
            "align_content": null,
            "align_items": null,
            "align_self": null,
            "border": null,
            "bottom": null,
            "display": null,
            "flex": null,
            "flex_flow": null,
            "grid_area": null,
            "grid_auto_columns": null,
            "grid_auto_flow": null,
            "grid_auto_rows": null,
            "grid_column": null,
            "grid_gap": null,
            "grid_row": null,
            "grid_template_areas": null,
            "grid_template_columns": null,
            "grid_template_rows": null,
            "height": null,
            "justify_content": null,
            "justify_items": null,
            "left": null,
            "margin": null,
            "max_height": null,
            "max_width": null,
            "min_height": null,
            "min_width": null,
            "object_fit": null,
            "object_position": null,
            "order": null,
            "overflow": null,
            "overflow_x": null,
            "overflow_y": null,
            "padding": null,
            "right": null,
            "top": null,
            "visibility": null,
            "width": null
          }
        },
        "296a91fac1e64079b36021db0b18dfb6": {
          "model_module": "@jupyter-widgets/controls",
          "model_module_version": "1.5.0",
          "model_name": "HTMLModel",
          "state": {
            "_dom_classes": [],
            "_model_module": "@jupyter-widgets/controls",
            "_model_module_version": "1.5.0",
            "_model_name": "HTMLModel",
            "_view_count": null,
            "_view_module": "@jupyter-widgets/controls",
            "_view_module_version": "1.5.0",
            "_view_name": "HTMLView",
            "description": "",
            "description_tooltip": null,
            "layout": "IPY_MODEL_6230734535ba45d896d200275167de3c",
            "placeholder": "​",
            "style": "IPY_MODEL_7de104d149c645c5a2fc38d556704528",
            "value": " 105/105 [00:00&lt;00:00, 4892.59 examples/s]"
          }
        },
        "2ab5406821484aedb44d7860caf65608": {
          "model_module": "@jupyter-widgets/controls",
          "model_module_version": "1.5.0",
          "model_name": "DescriptionStyleModel",
          "state": {
            "_model_module": "@jupyter-widgets/controls",
            "_model_module_version": "1.5.0",
            "_model_name": "DescriptionStyleModel",
            "_view_count": null,
            "_view_module": "@jupyter-widgets/base",
            "_view_module_version": "1.2.0",
            "_view_name": "StyleView",
            "description_width": ""
          }
        },
        "2b0b1234a8874242b27761d8938bfab9": {
          "model_module": "@jupyter-widgets/base",
          "model_module_version": "1.2.0",
          "model_name": "LayoutModel",
          "state": {
            "_model_module": "@jupyter-widgets/base",
            "_model_module_version": "1.2.0",
            "_model_name": "LayoutModel",
            "_view_count": null,
            "_view_module": "@jupyter-widgets/base",
            "_view_module_version": "1.2.0",
            "_view_name": "LayoutView",
            "align_content": null,
            "align_items": null,
            "align_self": null,
            "border": null,
            "bottom": null,
            "display": null,
            "flex": null,
            "flex_flow": null,
            "grid_area": null,
            "grid_auto_columns": null,
            "grid_auto_flow": null,
            "grid_auto_rows": null,
            "grid_column": null,
            "grid_gap": null,
            "grid_row": null,
            "grid_template_areas": null,
            "grid_template_columns": null,
            "grid_template_rows": null,
            "height": null,
            "justify_content": null,
            "justify_items": null,
            "left": null,
            "margin": null,
            "max_height": null,
            "max_width": null,
            "min_height": null,
            "min_width": null,
            "object_fit": null,
            "object_position": null,
            "order": null,
            "overflow": null,
            "overflow_x": null,
            "overflow_y": null,
            "padding": null,
            "right": null,
            "top": null,
            "visibility": null,
            "width": null
          }
        },
        "2bb8098c546c491986da3c210a368c38": {
          "model_module": "@jupyter-widgets/controls",
          "model_module_version": "1.5.0",
          "model_name": "HBoxModel",
          "state": {
            "_dom_classes": [],
            "_model_module": "@jupyter-widgets/controls",
            "_model_module_version": "1.5.0",
            "_model_name": "HBoxModel",
            "_view_count": null,
            "_view_module": "@jupyter-widgets/controls",
            "_view_module_version": "1.5.0",
            "_view_name": "HBoxView",
            "box_style": "",
            "children": [
              "IPY_MODEL_a7bfb1f374c34644a0017dbef5c00c17",
              "IPY_MODEL_28602d0250be4fd186ab4460ba8daa42",
              "IPY_MODEL_c372ad4b66af4477bb41cc3088bb83da"
            ],
            "layout": "IPY_MODEL_3df47d350a17422fb3c150afbafcf3cd"
          }
        },
        "2f0a424230a04b81b5b2efdb3e961925": {
          "model_module": "@jupyter-widgets/base",
          "model_module_version": "1.2.0",
          "model_name": "LayoutModel",
          "state": {
            "_model_module": "@jupyter-widgets/base",
            "_model_module_version": "1.2.0",
            "_model_name": "LayoutModel",
            "_view_count": null,
            "_view_module": "@jupyter-widgets/base",
            "_view_module_version": "1.2.0",
            "_view_name": "LayoutView",
            "align_content": null,
            "align_items": null,
            "align_self": null,
            "border": null,
            "bottom": null,
            "display": null,
            "flex": null,
            "flex_flow": null,
            "grid_area": null,
            "grid_auto_columns": null,
            "grid_auto_flow": null,
            "grid_auto_rows": null,
            "grid_column": null,
            "grid_gap": null,
            "grid_row": null,
            "grid_template_areas": null,
            "grid_template_columns": null,
            "grid_template_rows": null,
            "height": null,
            "justify_content": null,
            "justify_items": null,
            "left": null,
            "margin": null,
            "max_height": null,
            "max_width": null,
            "min_height": null,
            "min_width": null,
            "object_fit": null,
            "object_position": null,
            "order": null,
            "overflow": null,
            "overflow_x": null,
            "overflow_y": null,
            "padding": null,
            "right": null,
            "top": null,
            "visibility": null,
            "width": null
          }
        },
        "2fa99187998549e38071aad186b1149c": {
          "model_module": "@jupyter-widgets/controls",
          "model_module_version": "1.5.0",
          "model_name": "DescriptionStyleModel",
          "state": {
            "_model_module": "@jupyter-widgets/controls",
            "_model_module_version": "1.5.0",
            "_model_name": "DescriptionStyleModel",
            "_view_count": null,
            "_view_module": "@jupyter-widgets/base",
            "_view_module_version": "1.2.0",
            "_view_name": "StyleView",
            "description_width": ""
          }
        },
        "2feef08206844b9892a794b6ca9baefb": {
          "model_module": "@jupyter-widgets/controls",
          "model_module_version": "1.5.0",
          "model_name": "DescriptionStyleModel",
          "state": {
            "_model_module": "@jupyter-widgets/controls",
            "_model_module_version": "1.5.0",
            "_model_name": "DescriptionStyleModel",
            "_view_count": null,
            "_view_module": "@jupyter-widgets/base",
            "_view_module_version": "1.2.0",
            "_view_name": "StyleView",
            "description_width": ""
          }
        },
        "3217ed783a034373bb897d080729b12e": {
          "model_module": "@jupyter-widgets/controls",
          "model_module_version": "1.5.0",
          "model_name": "ProgressStyleModel",
          "state": {
            "_model_module": "@jupyter-widgets/controls",
            "_model_module_version": "1.5.0",
            "_model_name": "ProgressStyleModel",
            "_view_count": null,
            "_view_module": "@jupyter-widgets/base",
            "_view_module_version": "1.2.0",
            "_view_name": "StyleView",
            "bar_color": null,
            "description_width": ""
          }
        },
        "3231e520296c45bfaef6434a96dce192": {
          "model_module": "@jupyter-widgets/controls",
          "model_module_version": "1.5.0",
          "model_name": "DescriptionStyleModel",
          "state": {
            "_model_module": "@jupyter-widgets/controls",
            "_model_module_version": "1.5.0",
            "_model_name": "DescriptionStyleModel",
            "_view_count": null,
            "_view_module": "@jupyter-widgets/base",
            "_view_module_version": "1.2.0",
            "_view_name": "StyleView",
            "description_width": ""
          }
        },
        "33cf25e10aa0490d81f0122104cb2b9f": {
          "model_module": "@jupyter-widgets/controls",
          "model_module_version": "1.5.0",
          "model_name": "HTMLModel",
          "state": {
            "_dom_classes": [],
            "_model_module": "@jupyter-widgets/controls",
            "_model_module_version": "1.5.0",
            "_model_name": "HTMLModel",
            "_view_count": null,
            "_view_module": "@jupyter-widgets/controls",
            "_view_module_version": "1.5.0",
            "_view_name": "HTMLView",
            "description": "",
            "description_tooltip": null,
            "layout": "IPY_MODEL_69c5100c5e6d4920b95f2fdb20e8116d",
            "placeholder": "​",
            "style": "IPY_MODEL_00f124c973c24fb2a280862779e5c51a",
            "value": " 130/130 [00:00&lt;00:00, 5706.89 examples/s]"
          }
        },
        "3de34197400946e1a6b23a5ce5ebd413": {
          "model_module": "@jupyter-widgets/controls",
          "model_module_version": "1.5.0",
          "model_name": "DescriptionStyleModel",
          "state": {
            "_model_module": "@jupyter-widgets/controls",
            "_model_module_version": "1.5.0",
            "_model_name": "DescriptionStyleModel",
            "_view_count": null,
            "_view_module": "@jupyter-widgets/base",
            "_view_module_version": "1.2.0",
            "_view_name": "StyleView",
            "description_width": ""
          }
        },
        "3df47d350a17422fb3c150afbafcf3cd": {
          "model_module": "@jupyter-widgets/base",
          "model_module_version": "1.2.0",
          "model_name": "LayoutModel",
          "state": {
            "_model_module": "@jupyter-widgets/base",
            "_model_module_version": "1.2.0",
            "_model_name": "LayoutModel",
            "_view_count": null,
            "_view_module": "@jupyter-widgets/base",
            "_view_module_version": "1.2.0",
            "_view_name": "LayoutView",
            "align_content": null,
            "align_items": null,
            "align_self": null,
            "border": null,
            "bottom": null,
            "display": null,
            "flex": null,
            "flex_flow": null,
            "grid_area": null,
            "grid_auto_columns": null,
            "grid_auto_flow": null,
            "grid_auto_rows": null,
            "grid_column": null,
            "grid_gap": null,
            "grid_row": null,
            "grid_template_areas": null,
            "grid_template_columns": null,
            "grid_template_rows": null,
            "height": null,
            "justify_content": null,
            "justify_items": null,
            "left": null,
            "margin": null,
            "max_height": null,
            "max_width": null,
            "min_height": null,
            "min_width": null,
            "object_fit": null,
            "object_position": null,
            "order": null,
            "overflow": null,
            "overflow_x": null,
            "overflow_y": null,
            "padding": null,
            "right": null,
            "top": null,
            "visibility": null,
            "width": null
          }
        },
        "47527bb81bbb4e558d52e7d91a698616": {
          "model_module": "@jupyter-widgets/controls",
          "model_module_version": "1.5.0",
          "model_name": "HTMLModel",
          "state": {
            "_dom_classes": [],
            "_model_module": "@jupyter-widgets/controls",
            "_model_module_version": "1.5.0",
            "_model_name": "HTMLModel",
            "_view_count": null,
            "_view_module": "@jupyter-widgets/controls",
            "_view_module_version": "1.5.0",
            "_view_name": "HTMLView",
            "description": "",
            "description_tooltip": null,
            "layout": "IPY_MODEL_083acfb0e81048b1801be88c38cfe91b",
            "placeholder": "​",
            "style": "IPY_MODEL_7ea52e1c20394f2eadfc0d717a36de93",
            "value": "Map: 100%"
          }
        },
        "48a08aeeeedb4a2a9eb86630b52cb0db": {
          "model_module": "@jupyter-widgets/controls",
          "model_module_version": "1.5.0",
          "model_name": "HBoxModel",
          "state": {
            "_dom_classes": [],
            "_model_module": "@jupyter-widgets/controls",
            "_model_module_version": "1.5.0",
            "_model_name": "HBoxModel",
            "_view_count": null,
            "_view_module": "@jupyter-widgets/controls",
            "_view_module_version": "1.5.0",
            "_view_name": "HBoxView",
            "box_style": "",
            "children": [
              "IPY_MODEL_cd900476d98441318bda0f46c008ff82",
              "IPY_MODEL_90e731f797914eb1bdc27c832c842cd3",
              "IPY_MODEL_70a950d71c014bc08b8a3548c718d3b6"
            ],
            "layout": "IPY_MODEL_5211aaf46ec94a3a9b34e24292c13bf7"
          }
        },
        "4b132f8ce2bf4a5e9e4e61a8614496a9": {
          "model_module": "@jupyter-widgets/controls",
          "model_module_version": "1.5.0",
          "model_name": "HTMLModel",
          "state": {
            "_dom_classes": [],
            "_model_module": "@jupyter-widgets/controls",
            "_model_module_version": "1.5.0",
            "_model_name": "HTMLModel",
            "_view_count": null,
            "_view_module": "@jupyter-widgets/controls",
            "_view_module_version": "1.5.0",
            "_view_name": "HTMLView",
            "description": "",
            "description_tooltip": null,
            "layout": "IPY_MODEL_25d87f0113bf42129fe8d624526dd176",
            "placeholder": "​",
            "style": "IPY_MODEL_2fa99187998549e38071aad186b1149c",
            "value": " 60/60 [00:00&lt;00:00, 2709.29 examples/s]"
          }
        },
        "4cd0081918274baa89a124ecb961a9ac": {
          "model_module": "@jupyter-widgets/controls",
          "model_module_version": "1.5.0",
          "model_name": "HTMLModel",
          "state": {
            "_dom_classes": [],
            "_model_module": "@jupyter-widgets/controls",
            "_model_module_version": "1.5.0",
            "_model_name": "HTMLModel",
            "_view_count": null,
            "_view_module": "@jupyter-widgets/controls",
            "_view_module_version": "1.5.0",
            "_view_name": "HTMLView",
            "description": "",
            "description_tooltip": null,
            "layout": "IPY_MODEL_96771d526aa74460a5dc3b0ccfab8da1",
            "placeholder": "​",
            "style": "IPY_MODEL_997fa3a198fe4a428680617a3219cc80",
            "value": "Downloading builder script: 100%"
          }
        },
        "4e4758272f024fdcaa0803941d92774b": {
          "model_module": "@jupyter-widgets/base",
          "model_module_version": "1.2.0",
          "model_name": "LayoutModel",
          "state": {
            "_model_module": "@jupyter-widgets/base",
            "_model_module_version": "1.2.0",
            "_model_name": "LayoutModel",
            "_view_count": null,
            "_view_module": "@jupyter-widgets/base",
            "_view_module_version": "1.2.0",
            "_view_name": "LayoutView",
            "align_content": null,
            "align_items": null,
            "align_self": null,
            "border": null,
            "bottom": null,
            "display": null,
            "flex": null,
            "flex_flow": null,
            "grid_area": null,
            "grid_auto_columns": null,
            "grid_auto_flow": null,
            "grid_auto_rows": null,
            "grid_column": null,
            "grid_gap": null,
            "grid_row": null,
            "grid_template_areas": null,
            "grid_template_columns": null,
            "grid_template_rows": null,
            "height": null,
            "justify_content": null,
            "justify_items": null,
            "left": null,
            "margin": null,
            "max_height": null,
            "max_width": null,
            "min_height": null,
            "min_width": null,
            "object_fit": null,
            "object_position": null,
            "order": null,
            "overflow": null,
            "overflow_x": null,
            "overflow_y": null,
            "padding": null,
            "right": null,
            "top": null,
            "visibility": null,
            "width": null
          }
        },
        "5211aaf46ec94a3a9b34e24292c13bf7": {
          "model_module": "@jupyter-widgets/base",
          "model_module_version": "1.2.0",
          "model_name": "LayoutModel",
          "state": {
            "_model_module": "@jupyter-widgets/base",
            "_model_module_version": "1.2.0",
            "_model_name": "LayoutModel",
            "_view_count": null,
            "_view_module": "@jupyter-widgets/base",
            "_view_module_version": "1.2.0",
            "_view_name": "LayoutView",
            "align_content": null,
            "align_items": null,
            "align_self": null,
            "border": null,
            "bottom": null,
            "display": null,
            "flex": null,
            "flex_flow": null,
            "grid_area": null,
            "grid_auto_columns": null,
            "grid_auto_flow": null,
            "grid_auto_rows": null,
            "grid_column": null,
            "grid_gap": null,
            "grid_row": null,
            "grid_template_areas": null,
            "grid_template_columns": null,
            "grid_template_rows": null,
            "height": null,
            "justify_content": null,
            "justify_items": null,
            "left": null,
            "margin": null,
            "max_height": null,
            "max_width": null,
            "min_height": null,
            "min_width": null,
            "object_fit": null,
            "object_position": null,
            "order": null,
            "overflow": null,
            "overflow_x": null,
            "overflow_y": null,
            "padding": null,
            "right": null,
            "top": null,
            "visibility": null,
            "width": null
          }
        },
        "5643fbf70a494c1684a9ff20e77a3a56": {
          "model_module": "@jupyter-widgets/controls",
          "model_module_version": "1.5.0",
          "model_name": "HTMLModel",
          "state": {
            "_dom_classes": [],
            "_model_module": "@jupyter-widgets/controls",
            "_model_module_version": "1.5.0",
            "_model_name": "HTMLModel",
            "_view_count": null,
            "_view_module": "@jupyter-widgets/controls",
            "_view_module_version": "1.5.0",
            "_view_name": "HTMLView",
            "description": "",
            "description_tooltip": null,
            "layout": "IPY_MODEL_c3ad6b89347e42c6ba3f1177c0f986e4",
            "placeholder": "​",
            "style": "IPY_MODEL_3231e520296c45bfaef6434a96dce192",
            "value": "Map: 100%"
          }
        },
        "5f65561c1e7042a88e8332e84067acb2": {
          "model_module": "@jupyter-widgets/controls",
          "model_module_version": "1.5.0",
          "model_name": "ProgressStyleModel",
          "state": {
            "_model_module": "@jupyter-widgets/controls",
            "_model_module_version": "1.5.0",
            "_model_name": "ProgressStyleModel",
            "_view_count": null,
            "_view_module": "@jupyter-widgets/base",
            "_view_module_version": "1.2.0",
            "_view_name": "StyleView",
            "bar_color": null,
            "description_width": ""
          }
        },
        "6230734535ba45d896d200275167de3c": {
          "model_module": "@jupyter-widgets/base",
          "model_module_version": "1.2.0",
          "model_name": "LayoutModel",
          "state": {
            "_model_module": "@jupyter-widgets/base",
            "_model_module_version": "1.2.0",
            "_model_name": "LayoutModel",
            "_view_count": null,
            "_view_module": "@jupyter-widgets/base",
            "_view_module_version": "1.2.0",
            "_view_name": "LayoutView",
            "align_content": null,
            "align_items": null,
            "align_self": null,
            "border": null,
            "bottom": null,
            "display": null,
            "flex": null,
            "flex_flow": null,
            "grid_area": null,
            "grid_auto_columns": null,
            "grid_auto_flow": null,
            "grid_auto_rows": null,
            "grid_column": null,
            "grid_gap": null,
            "grid_row": null,
            "grid_template_areas": null,
            "grid_template_columns": null,
            "grid_template_rows": null,
            "height": null,
            "justify_content": null,
            "justify_items": null,
            "left": null,
            "margin": null,
            "max_height": null,
            "max_width": null,
            "min_height": null,
            "min_width": null,
            "object_fit": null,
            "object_position": null,
            "order": null,
            "overflow": null,
            "overflow_x": null,
            "overflow_y": null,
            "padding": null,
            "right": null,
            "top": null,
            "visibility": null,
            "width": null
          }
        },
        "627ab5d3a4af480bbcdf6b7613e597d8": {
          "model_module": "@jupyter-widgets/controls",
          "model_module_version": "1.5.0",
          "model_name": "ProgressStyleModel",
          "state": {
            "_model_module": "@jupyter-widgets/controls",
            "_model_module_version": "1.5.0",
            "_model_name": "ProgressStyleModel",
            "_view_count": null,
            "_view_module": "@jupyter-widgets/base",
            "_view_module_version": "1.2.0",
            "_view_name": "StyleView",
            "bar_color": null,
            "description_width": ""
          }
        },
        "69c5100c5e6d4920b95f2fdb20e8116d": {
          "model_module": "@jupyter-widgets/base",
          "model_module_version": "1.2.0",
          "model_name": "LayoutModel",
          "state": {
            "_model_module": "@jupyter-widgets/base",
            "_model_module_version": "1.2.0",
            "_model_name": "LayoutModel",
            "_view_count": null,
            "_view_module": "@jupyter-widgets/base",
            "_view_module_version": "1.2.0",
            "_view_name": "LayoutView",
            "align_content": null,
            "align_items": null,
            "align_self": null,
            "border": null,
            "bottom": null,
            "display": null,
            "flex": null,
            "flex_flow": null,
            "grid_area": null,
            "grid_auto_columns": null,
            "grid_auto_flow": null,
            "grid_auto_rows": null,
            "grid_column": null,
            "grid_gap": null,
            "grid_row": null,
            "grid_template_areas": null,
            "grid_template_columns": null,
            "grid_template_rows": null,
            "height": null,
            "justify_content": null,
            "justify_items": null,
            "left": null,
            "margin": null,
            "max_height": null,
            "max_width": null,
            "min_height": null,
            "min_width": null,
            "object_fit": null,
            "object_position": null,
            "order": null,
            "overflow": null,
            "overflow_x": null,
            "overflow_y": null,
            "padding": null,
            "right": null,
            "top": null,
            "visibility": null,
            "width": null
          }
        },
        "6ace4305923f4ce596a7e76edba76ef0": {
          "model_module": "@jupyter-widgets/base",
          "model_module_version": "1.2.0",
          "model_name": "LayoutModel",
          "state": {
            "_model_module": "@jupyter-widgets/base",
            "_model_module_version": "1.2.0",
            "_model_name": "LayoutModel",
            "_view_count": null,
            "_view_module": "@jupyter-widgets/base",
            "_view_module_version": "1.2.0",
            "_view_name": "LayoutView",
            "align_content": null,
            "align_items": null,
            "align_self": null,
            "border": null,
            "bottom": null,
            "display": null,
            "flex": null,
            "flex_flow": null,
            "grid_area": null,
            "grid_auto_columns": null,
            "grid_auto_flow": null,
            "grid_auto_rows": null,
            "grid_column": null,
            "grid_gap": null,
            "grid_row": null,
            "grid_template_areas": null,
            "grid_template_columns": null,
            "grid_template_rows": null,
            "height": null,
            "justify_content": null,
            "justify_items": null,
            "left": null,
            "margin": null,
            "max_height": null,
            "max_width": null,
            "min_height": null,
            "min_width": null,
            "object_fit": null,
            "object_position": null,
            "order": null,
            "overflow": null,
            "overflow_x": null,
            "overflow_y": null,
            "padding": null,
            "right": null,
            "top": null,
            "visibility": null,
            "width": null
          }
        },
        "70a950d71c014bc08b8a3548c718d3b6": {
          "model_module": "@jupyter-widgets/controls",
          "model_module_version": "1.5.0",
          "model_name": "HTMLModel",
          "state": {
            "_dom_classes": [],
            "_model_module": "@jupyter-widgets/controls",
            "_model_module_version": "1.5.0",
            "_model_name": "HTMLModel",
            "_view_count": null,
            "_view_module": "@jupyter-widgets/controls",
            "_view_module_version": "1.5.0",
            "_view_name": "HTMLView",
            "description": "",
            "description_tooltip": null,
            "layout": "IPY_MODEL_a0e6e463b3874a50a664b03463991dc4",
            "placeholder": "​",
            "style": "IPY_MODEL_9ed8a3ce3b8f4111b1d2a92a7b63a1c8",
            "value": " 800/800 [00:00&lt;00:00, 8646.73 examples/s]"
          }
        },
        "7de104d149c645c5a2fc38d556704528": {
          "model_module": "@jupyter-widgets/controls",
          "model_module_version": "1.5.0",
          "model_name": "DescriptionStyleModel",
          "state": {
            "_model_module": "@jupyter-widgets/controls",
            "_model_module_version": "1.5.0",
            "_model_name": "DescriptionStyleModel",
            "_view_count": null,
            "_view_module": "@jupyter-widgets/base",
            "_view_module_version": "1.2.0",
            "_view_name": "StyleView",
            "description_width": ""
          }
        },
        "7ea52e1c20394f2eadfc0d717a36de93": {
          "model_module": "@jupyter-widgets/controls",
          "model_module_version": "1.5.0",
          "model_name": "DescriptionStyleModel",
          "state": {
            "_model_module": "@jupyter-widgets/controls",
            "_model_module_version": "1.5.0",
            "_model_name": "DescriptionStyleModel",
            "_view_count": null,
            "_view_module": "@jupyter-widgets/base",
            "_view_module_version": "1.2.0",
            "_view_name": "StyleView",
            "description_width": ""
          }
        },
        "81221416a8df43ba9e4fe2a9b6492c9a": {
          "model_module": "@jupyter-widgets/base",
          "model_module_version": "1.2.0",
          "model_name": "LayoutModel",
          "state": {
            "_model_module": "@jupyter-widgets/base",
            "_model_module_version": "1.2.0",
            "_model_name": "LayoutModel",
            "_view_count": null,
            "_view_module": "@jupyter-widgets/base",
            "_view_module_version": "1.2.0",
            "_view_name": "LayoutView",
            "align_content": null,
            "align_items": null,
            "align_self": null,
            "border": null,
            "bottom": null,
            "display": null,
            "flex": null,
            "flex_flow": null,
            "grid_area": null,
            "grid_auto_columns": null,
            "grid_auto_flow": null,
            "grid_auto_rows": null,
            "grid_column": null,
            "grid_gap": null,
            "grid_row": null,
            "grid_template_areas": null,
            "grid_template_columns": null,
            "grid_template_rows": null,
            "height": null,
            "justify_content": null,
            "justify_items": null,
            "left": null,
            "margin": null,
            "max_height": null,
            "max_width": null,
            "min_height": null,
            "min_width": null,
            "object_fit": null,
            "object_position": null,
            "order": null,
            "overflow": null,
            "overflow_x": null,
            "overflow_y": null,
            "padding": null,
            "right": null,
            "top": null,
            "visibility": null,
            "width": null
          }
        },
        "85c74697b3cb4d2bb9122accf40ed32c": {
          "model_module": "@jupyter-widgets/base",
          "model_module_version": "1.2.0",
          "model_name": "LayoutModel",
          "state": {
            "_model_module": "@jupyter-widgets/base",
            "_model_module_version": "1.2.0",
            "_model_name": "LayoutModel",
            "_view_count": null,
            "_view_module": "@jupyter-widgets/base",
            "_view_module_version": "1.2.0",
            "_view_name": "LayoutView",
            "align_content": null,
            "align_items": null,
            "align_self": null,
            "border": null,
            "bottom": null,
            "display": null,
            "flex": null,
            "flex_flow": null,
            "grid_area": null,
            "grid_auto_columns": null,
            "grid_auto_flow": null,
            "grid_auto_rows": null,
            "grid_column": null,
            "grid_gap": null,
            "grid_row": null,
            "grid_template_areas": null,
            "grid_template_columns": null,
            "grid_template_rows": null,
            "height": null,
            "justify_content": null,
            "justify_items": null,
            "left": null,
            "margin": null,
            "max_height": null,
            "max_width": null,
            "min_height": null,
            "min_width": null,
            "object_fit": null,
            "object_position": null,
            "order": null,
            "overflow": null,
            "overflow_x": null,
            "overflow_y": null,
            "padding": null,
            "right": null,
            "top": null,
            "visibility": null,
            "width": null
          }
        },
        "88f194097d8a451f8915e74ae84df299": {
          "model_module": "@jupyter-widgets/controls",
          "model_module_version": "1.5.0",
          "model_name": "HBoxModel",
          "state": {
            "_dom_classes": [],
            "_model_module": "@jupyter-widgets/controls",
            "_model_module_version": "1.5.0",
            "_model_name": "HBoxModel",
            "_view_count": null,
            "_view_module": "@jupyter-widgets/controls",
            "_view_module_version": "1.5.0",
            "_view_name": "HBoxView",
            "box_style": "",
            "children": [
              "IPY_MODEL_8e07e15c95c2406d89fccebbd2a1c914",
              "IPY_MODEL_9ec2681f8cf3426caa82f268874b7a16",
              "IPY_MODEL_33cf25e10aa0490d81f0122104cb2b9f"
            ],
            "layout": "IPY_MODEL_a115c2976d004ce09f538260c353aaf4"
          }
        },
        "8e07e15c95c2406d89fccebbd2a1c914": {
          "model_module": "@jupyter-widgets/controls",
          "model_module_version": "1.5.0",
          "model_name": "HTMLModel",
          "state": {
            "_dom_classes": [],
            "_model_module": "@jupyter-widgets/controls",
            "_model_module_version": "1.5.0",
            "_model_name": "HTMLModel",
            "_view_count": null,
            "_view_module": "@jupyter-widgets/controls",
            "_view_module_version": "1.5.0",
            "_view_name": "HTMLView",
            "description": "",
            "description_tooltip": null,
            "layout": "IPY_MODEL_1a1ed5feb62a4b8eabc32ce3bc9f4e8b",
            "placeholder": "​",
            "style": "IPY_MODEL_f6f8d55e82ca434cb555c69815819920",
            "value": "Map: 100%"
          }
        },
        "8e639cfb652e4ff48d7ebc9e5ef0e2d6": {
          "model_module": "@jupyter-widgets/controls",
          "model_module_version": "1.5.0",
          "model_name": "ProgressStyleModel",
          "state": {
            "_model_module": "@jupyter-widgets/controls",
            "_model_module_version": "1.5.0",
            "_model_name": "ProgressStyleModel",
            "_view_count": null,
            "_view_module": "@jupyter-widgets/base",
            "_view_module_version": "1.2.0",
            "_view_name": "StyleView",
            "bar_color": null,
            "description_width": ""
          }
        },
        "90e731f797914eb1bdc27c832c842cd3": {
          "model_module": "@jupyter-widgets/controls",
          "model_module_version": "1.5.0",
          "model_name": "FloatProgressModel",
          "state": {
            "_dom_classes": [],
            "_model_module": "@jupyter-widgets/controls",
            "_model_module_version": "1.5.0",
            "_model_name": "FloatProgressModel",
            "_view_count": null,
            "_view_module": "@jupyter-widgets/controls",
            "_view_module_version": "1.5.0",
            "_view_name": "ProgressView",
            "bar_style": "success",
            "description": "",
            "description_tooltip": null,
            "layout": "IPY_MODEL_19e150da0e63494e9fd4573f98db593e",
            "max": 800,
            "min": 0,
            "orientation": "horizontal",
            "style": "IPY_MODEL_bb65e361a7084bdf8f974e0333e7c7f6",
            "value": 800
          }
        },
        "941335192e8844829fc6b6c7a7596ab0": {
          "model_module": "@jupyter-widgets/controls",
          "model_module_version": "1.5.0",
          "model_name": "HBoxModel",
          "state": {
            "_dom_classes": [],
            "_model_module": "@jupyter-widgets/controls",
            "_model_module_version": "1.5.0",
            "_model_name": "HBoxModel",
            "_view_count": null,
            "_view_module": "@jupyter-widgets/controls",
            "_view_module_version": "1.5.0",
            "_view_name": "HBoxView",
            "box_style": "",
            "children": [
              "IPY_MODEL_47527bb81bbb4e558d52e7d91a698616",
              "IPY_MODEL_ee7fef20b2da43e591b5c502fb72b631",
              "IPY_MODEL_296a91fac1e64079b36021db0b18dfb6"
            ],
            "layout": "IPY_MODEL_e7d4f840bd4a4680a1f17f4043adc3fe"
          }
        },
        "96771d526aa74460a5dc3b0ccfab8da1": {
          "model_module": "@jupyter-widgets/base",
          "model_module_version": "1.2.0",
          "model_name": "LayoutModel",
          "state": {
            "_model_module": "@jupyter-widgets/base",
            "_model_module_version": "1.2.0",
            "_model_name": "LayoutModel",
            "_view_count": null,
            "_view_module": "@jupyter-widgets/base",
            "_view_module_version": "1.2.0",
            "_view_name": "LayoutView",
            "align_content": null,
            "align_items": null,
            "align_self": null,
            "border": null,
            "bottom": null,
            "display": null,
            "flex": null,
            "flex_flow": null,
            "grid_area": null,
            "grid_auto_columns": null,
            "grid_auto_flow": null,
            "grid_auto_rows": null,
            "grid_column": null,
            "grid_gap": null,
            "grid_row": null,
            "grid_template_areas": null,
            "grid_template_columns": null,
            "grid_template_rows": null,
            "height": null,
            "justify_content": null,
            "justify_items": null,
            "left": null,
            "margin": null,
            "max_height": null,
            "max_width": null,
            "min_height": null,
            "min_width": null,
            "object_fit": null,
            "object_position": null,
            "order": null,
            "overflow": null,
            "overflow_x": null,
            "overflow_y": null,
            "padding": null,
            "right": null,
            "top": null,
            "visibility": null,
            "width": null
          }
        },
        "997fa3a198fe4a428680617a3219cc80": {
          "model_module": "@jupyter-widgets/controls",
          "model_module_version": "1.5.0",
          "model_name": "DescriptionStyleModel",
          "state": {
            "_model_module": "@jupyter-widgets/controls",
            "_model_module_version": "1.5.0",
            "_model_name": "DescriptionStyleModel",
            "_view_count": null,
            "_view_module": "@jupyter-widgets/base",
            "_view_module_version": "1.2.0",
            "_view_name": "StyleView",
            "description_width": ""
          }
        },
        "9ec2681f8cf3426caa82f268874b7a16": {
          "model_module": "@jupyter-widgets/controls",
          "model_module_version": "1.5.0",
          "model_name": "FloatProgressModel",
          "state": {
            "_dom_classes": [],
            "_model_module": "@jupyter-widgets/controls",
            "_model_module_version": "1.5.0",
            "_model_name": "FloatProgressModel",
            "_view_count": null,
            "_view_module": "@jupyter-widgets/controls",
            "_view_module_version": "1.5.0",
            "_view_name": "ProgressView",
            "bar_style": "success",
            "description": "",
            "description_tooltip": null,
            "layout": "IPY_MODEL_b6f7ccc2fd8c4d52b6f05951a4cf0e31",
            "max": 130,
            "min": 0,
            "orientation": "horizontal",
            "style": "IPY_MODEL_627ab5d3a4af480bbcdf6b7613e597d8",
            "value": 130
          }
        },
        "9ed8a3ce3b8f4111b1d2a92a7b63a1c8": {
          "model_module": "@jupyter-widgets/controls",
          "model_module_version": "1.5.0",
          "model_name": "DescriptionStyleModel",
          "state": {
            "_model_module": "@jupyter-widgets/controls",
            "_model_module_version": "1.5.0",
            "_model_name": "DescriptionStyleModel",
            "_view_count": null,
            "_view_module": "@jupyter-widgets/base",
            "_view_module_version": "1.2.0",
            "_view_name": "StyleView",
            "description_width": ""
          }
        },
        "a0e6e463b3874a50a664b03463991dc4": {
          "model_module": "@jupyter-widgets/base",
          "model_module_version": "1.2.0",
          "model_name": "LayoutModel",
          "state": {
            "_model_module": "@jupyter-widgets/base",
            "_model_module_version": "1.2.0",
            "_model_name": "LayoutModel",
            "_view_count": null,
            "_view_module": "@jupyter-widgets/base",
            "_view_module_version": "1.2.0",
            "_view_name": "LayoutView",
            "align_content": null,
            "align_items": null,
            "align_self": null,
            "border": null,
            "bottom": null,
            "display": null,
            "flex": null,
            "flex_flow": null,
            "grid_area": null,
            "grid_auto_columns": null,
            "grid_auto_flow": null,
            "grid_auto_rows": null,
            "grid_column": null,
            "grid_gap": null,
            "grid_row": null,
            "grid_template_areas": null,
            "grid_template_columns": null,
            "grid_template_rows": null,
            "height": null,
            "justify_content": null,
            "justify_items": null,
            "left": null,
            "margin": null,
            "max_height": null,
            "max_width": null,
            "min_height": null,
            "min_width": null,
            "object_fit": null,
            "object_position": null,
            "order": null,
            "overflow": null,
            "overflow_x": null,
            "overflow_y": null,
            "padding": null,
            "right": null,
            "top": null,
            "visibility": null,
            "width": null
          }
        },
        "a115c2976d004ce09f538260c353aaf4": {
          "model_module": "@jupyter-widgets/base",
          "model_module_version": "1.2.0",
          "model_name": "LayoutModel",
          "state": {
            "_model_module": "@jupyter-widgets/base",
            "_model_module_version": "1.2.0",
            "_model_name": "LayoutModel",
            "_view_count": null,
            "_view_module": "@jupyter-widgets/base",
            "_view_module_version": "1.2.0",
            "_view_name": "LayoutView",
            "align_content": null,
            "align_items": null,
            "align_self": null,
            "border": null,
            "bottom": null,
            "display": null,
            "flex": null,
            "flex_flow": null,
            "grid_area": null,
            "grid_auto_columns": null,
            "grid_auto_flow": null,
            "grid_auto_rows": null,
            "grid_column": null,
            "grid_gap": null,
            "grid_row": null,
            "grid_template_areas": null,
            "grid_template_columns": null,
            "grid_template_rows": null,
            "height": null,
            "justify_content": null,
            "justify_items": null,
            "left": null,
            "margin": null,
            "max_height": null,
            "max_width": null,
            "min_height": null,
            "min_width": null,
            "object_fit": null,
            "object_position": null,
            "order": null,
            "overflow": null,
            "overflow_x": null,
            "overflow_y": null,
            "padding": null,
            "right": null,
            "top": null,
            "visibility": null,
            "width": null
          }
        },
        "a41e56ce8e09437cbc7b6d82d486bf0e": {
          "model_module": "@jupyter-widgets/controls",
          "model_module_version": "1.5.0",
          "model_name": "HTMLModel",
          "state": {
            "_dom_classes": [],
            "_model_module": "@jupyter-widgets/controls",
            "_model_module_version": "1.5.0",
            "_model_name": "HTMLModel",
            "_view_count": null,
            "_view_module": "@jupyter-widgets/controls",
            "_view_module_version": "1.5.0",
            "_view_name": "HTMLView",
            "description": "",
            "description_tooltip": null,
            "layout": "IPY_MODEL_81221416a8df43ba9e4fe2a9b6492c9a",
            "placeholder": "​",
            "style": "IPY_MODEL_3de34197400946e1a6b23a5ce5ebd413",
            "value": " 4.20k/4.20k [00:00&lt;00:00, 548kB/s]"
          }
        },
        "a7bfb1f374c34644a0017dbef5c00c17": {
          "model_module": "@jupyter-widgets/controls",
          "model_module_version": "1.5.0",
          "model_name": "HTMLModel",
          "state": {
            "_dom_classes": [],
            "_model_module": "@jupyter-widgets/controls",
            "_model_module_version": "1.5.0",
            "_model_name": "HTMLModel",
            "_view_count": null,
            "_view_module": "@jupyter-widgets/controls",
            "_view_module_version": "1.5.0",
            "_view_name": "HTMLView",
            "description": "",
            "description_tooltip": null,
            "layout": "IPY_MODEL_2f0a424230a04b81b5b2efdb3e961925",
            "placeholder": "​",
            "style": "IPY_MODEL_0e0d30d3303c44218fa94d4b8ec3aab9",
            "value": "Map: 100%"
          }
        },
        "ab852e22b3534a49a1aa0cb250ad92c9": {
          "model_module": "@jupyter-widgets/controls",
          "model_module_version": "1.5.0",
          "model_name": "ProgressStyleModel",
          "state": {
            "_model_module": "@jupyter-widgets/controls",
            "_model_module_version": "1.5.0",
            "_model_name": "ProgressStyleModel",
            "_view_count": null,
            "_view_module": "@jupyter-widgets/base",
            "_view_module_version": "1.2.0",
            "_view_name": "StyleView",
            "bar_color": null,
            "description_width": ""
          }
        },
        "b6f7ccc2fd8c4d52b6f05951a4cf0e31": {
          "model_module": "@jupyter-widgets/base",
          "model_module_version": "1.2.0",
          "model_name": "LayoutModel",
          "state": {
            "_model_module": "@jupyter-widgets/base",
            "_model_module_version": "1.2.0",
            "_model_name": "LayoutModel",
            "_view_count": null,
            "_view_module": "@jupyter-widgets/base",
            "_view_module_version": "1.2.0",
            "_view_name": "LayoutView",
            "align_content": null,
            "align_items": null,
            "align_self": null,
            "border": null,
            "bottom": null,
            "display": null,
            "flex": null,
            "flex_flow": null,
            "grid_area": null,
            "grid_auto_columns": null,
            "grid_auto_flow": null,
            "grid_auto_rows": null,
            "grid_column": null,
            "grid_gap": null,
            "grid_row": null,
            "grid_template_areas": null,
            "grid_template_columns": null,
            "grid_template_rows": null,
            "height": null,
            "justify_content": null,
            "justify_items": null,
            "left": null,
            "margin": null,
            "max_height": null,
            "max_width": null,
            "min_height": null,
            "min_width": null,
            "object_fit": null,
            "object_position": null,
            "order": null,
            "overflow": null,
            "overflow_x": null,
            "overflow_y": null,
            "padding": null,
            "right": null,
            "top": null,
            "visibility": null,
            "width": null
          }
        },
        "bb65e361a7084bdf8f974e0333e7c7f6": {
          "model_module": "@jupyter-widgets/controls",
          "model_module_version": "1.5.0",
          "model_name": "ProgressStyleModel",
          "state": {
            "_model_module": "@jupyter-widgets/controls",
            "_model_module_version": "1.5.0",
            "_model_name": "ProgressStyleModel",
            "_view_count": null,
            "_view_module": "@jupyter-widgets/base",
            "_view_module_version": "1.2.0",
            "_view_name": "StyleView",
            "bar_color": null,
            "description_width": ""
          }
        },
        "c1d3accf5ddb4182ae89cfe61fe9986f": {
          "model_module": "@jupyter-widgets/controls",
          "model_module_version": "1.5.0",
          "model_name": "HBoxModel",
          "state": {
            "_dom_classes": [],
            "_model_module": "@jupyter-widgets/controls",
            "_model_module_version": "1.5.0",
            "_model_name": "HBoxModel",
            "_view_count": null,
            "_view_module": "@jupyter-widgets/controls",
            "_view_module_version": "1.5.0",
            "_view_name": "HBoxView",
            "box_style": "",
            "children": [
              "IPY_MODEL_4cd0081918274baa89a124ecb961a9ac",
              "IPY_MODEL_1a3d46826950404e8208b56fb939f2ea",
              "IPY_MODEL_d2466a1b584a418687898bc6b334262e"
            ],
            "layout": "IPY_MODEL_19750dbe471b43a2bb987bf5a47a1d02"
          }
        },
        "c372ad4b66af4477bb41cc3088bb83da": {
          "model_module": "@jupyter-widgets/controls",
          "model_module_version": "1.5.0",
          "model_name": "HTMLModel",
          "state": {
            "_dom_classes": [],
            "_model_module": "@jupyter-widgets/controls",
            "_model_module_version": "1.5.0",
            "_model_name": "HTMLModel",
            "_view_count": null,
            "_view_module": "@jupyter-widgets/controls",
            "_view_module_version": "1.5.0",
            "_view_name": "HTMLView",
            "description": "",
            "description_tooltip": null,
            "layout": "IPY_MODEL_01fabfdeb5fa4393a7a413ce7a765bb1",
            "placeholder": "​",
            "style": "IPY_MODEL_2feef08206844b9892a794b6ca9baefb",
            "value": " 80/80 [00:00&lt;00:00, 2611.75 examples/s]"
          }
        },
        "c3ad6b89347e42c6ba3f1177c0f986e4": {
          "model_module": "@jupyter-widgets/base",
          "model_module_version": "1.2.0",
          "model_name": "LayoutModel",
          "state": {
            "_model_module": "@jupyter-widgets/base",
            "_model_module_version": "1.2.0",
            "_model_name": "LayoutModel",
            "_view_count": null,
            "_view_module": "@jupyter-widgets/base",
            "_view_module_version": "1.2.0",
            "_view_name": "LayoutView",
            "align_content": null,
            "align_items": null,
            "align_self": null,
            "border": null,
            "bottom": null,
            "display": null,
            "flex": null,
            "flex_flow": null,
            "grid_area": null,
            "grid_auto_columns": null,
            "grid_auto_flow": null,
            "grid_auto_rows": null,
            "grid_column": null,
            "grid_gap": null,
            "grid_row": null,
            "grid_template_areas": null,
            "grid_template_columns": null,
            "grid_template_rows": null,
            "height": null,
            "justify_content": null,
            "justify_items": null,
            "left": null,
            "margin": null,
            "max_height": null,
            "max_width": null,
            "min_height": null,
            "min_width": null,
            "object_fit": null,
            "object_position": null,
            "order": null,
            "overflow": null,
            "overflow_x": null,
            "overflow_y": null,
            "padding": null,
            "right": null,
            "top": null,
            "visibility": null,
            "width": null
          }
        },
        "cd900476d98441318bda0f46c008ff82": {
          "model_module": "@jupyter-widgets/controls",
          "model_module_version": "1.5.0",
          "model_name": "HTMLModel",
          "state": {
            "_dom_classes": [],
            "_model_module": "@jupyter-widgets/controls",
            "_model_module_version": "1.5.0",
            "_model_name": "HTMLModel",
            "_view_count": null,
            "_view_module": "@jupyter-widgets/controls",
            "_view_module_version": "1.5.0",
            "_view_name": "HTMLView",
            "description": "",
            "description_tooltip": null,
            "layout": "IPY_MODEL_2932694c99454ff79a66f549889ddf4f",
            "placeholder": "​",
            "style": "IPY_MODEL_1072414e1eab4bbab440ef2a38b9c6d6",
            "value": "Map: 100%"
          }
        },
        "d2466a1b584a418687898bc6b334262e": {
          "model_module": "@jupyter-widgets/controls",
          "model_module_version": "1.5.0",
          "model_name": "HTMLModel",
          "state": {
            "_dom_classes": [],
            "_model_module": "@jupyter-widgets/controls",
            "_model_module_version": "1.5.0",
            "_model_name": "HTMLModel",
            "_view_count": null,
            "_view_module": "@jupyter-widgets/controls",
            "_view_module_version": "1.5.0",
            "_view_name": "HTMLView",
            "description": "",
            "description_tooltip": null,
            "layout": "IPY_MODEL_4e4758272f024fdcaa0803941d92774b",
            "placeholder": "​",
            "style": "IPY_MODEL_2ab5406821484aedb44d7860caf65608",
            "value": " 6.79k/6.79k [00:00&lt;00:00, 690kB/s]"
          }
        },
        "d96420221e684a6e85a64d231a2d01cc": {
          "model_module": "@jupyter-widgets/controls",
          "model_module_version": "1.5.0",
          "model_name": "FloatProgressModel",
          "state": {
            "_dom_classes": [],
            "_model_module": "@jupyter-widgets/controls",
            "_model_module_version": "1.5.0",
            "_model_name": "FloatProgressModel",
            "_view_count": null,
            "_view_module": "@jupyter-widgets/controls",
            "_view_module_version": "1.5.0",
            "_view_name": "ProgressView",
            "bar_style": "success",
            "description": "",
            "description_tooltip": null,
            "layout": "IPY_MODEL_6ace4305923f4ce596a7e76edba76ef0",
            "max": 4203,
            "min": 0,
            "orientation": "horizontal",
            "style": "IPY_MODEL_3217ed783a034373bb897d080729b12e",
            "value": 4203
          }
        },
        "e07b244348ce4924a5a6d9a1891abe5f": {
          "model_module": "@jupyter-widgets/controls",
          "model_module_version": "1.5.0",
          "model_name": "HBoxModel",
          "state": {
            "_dom_classes": [],
            "_model_module": "@jupyter-widgets/controls",
            "_model_module_version": "1.5.0",
            "_model_name": "HBoxModel",
            "_view_count": null,
            "_view_module": "@jupyter-widgets/controls",
            "_view_module_version": "1.5.0",
            "_view_name": "HBoxView",
            "box_style": "",
            "children": [
              "IPY_MODEL_22732ccb14424c6db80b1d6b82d70c06",
              "IPY_MODEL_d96420221e684a6e85a64d231a2d01cc",
              "IPY_MODEL_a41e56ce8e09437cbc7b6d82d486bf0e"
            ],
            "layout": "IPY_MODEL_fe68ae87fcfb4a37a778c904ec2e37b5"
          }
        },
        "e7d4f840bd4a4680a1f17f4043adc3fe": {
          "model_module": "@jupyter-widgets/base",
          "model_module_version": "1.2.0",
          "model_name": "LayoutModel",
          "state": {
            "_model_module": "@jupyter-widgets/base",
            "_model_module_version": "1.2.0",
            "_model_name": "LayoutModel",
            "_view_count": null,
            "_view_module": "@jupyter-widgets/base",
            "_view_module_version": "1.2.0",
            "_view_name": "LayoutView",
            "align_content": null,
            "align_items": null,
            "align_self": null,
            "border": null,
            "bottom": null,
            "display": null,
            "flex": null,
            "flex_flow": null,
            "grid_area": null,
            "grid_auto_columns": null,
            "grid_auto_flow": null,
            "grid_auto_rows": null,
            "grid_column": null,
            "grid_gap": null,
            "grid_row": null,
            "grid_template_areas": null,
            "grid_template_columns": null,
            "grid_template_rows": null,
            "height": null,
            "justify_content": null,
            "justify_items": null,
            "left": null,
            "margin": null,
            "max_height": null,
            "max_width": null,
            "min_height": null,
            "min_width": null,
            "object_fit": null,
            "object_position": null,
            "order": null,
            "overflow": null,
            "overflow_x": null,
            "overflow_y": null,
            "padding": null,
            "right": null,
            "top": null,
            "visibility": null,
            "width": null
          }
        },
        "ec1f72685ef0419fbab604a6992c2b89": {
          "model_module": "@jupyter-widgets/base",
          "model_module_version": "1.2.0",
          "model_name": "LayoutModel",
          "state": {
            "_model_module": "@jupyter-widgets/base",
            "_model_module_version": "1.2.0",
            "_model_name": "LayoutModel",
            "_view_count": null,
            "_view_module": "@jupyter-widgets/base",
            "_view_module_version": "1.2.0",
            "_view_name": "LayoutView",
            "align_content": null,
            "align_items": null,
            "align_self": null,
            "border": null,
            "bottom": null,
            "display": null,
            "flex": null,
            "flex_flow": null,
            "grid_area": null,
            "grid_auto_columns": null,
            "grid_auto_flow": null,
            "grid_auto_rows": null,
            "grid_column": null,
            "grid_gap": null,
            "grid_row": null,
            "grid_template_areas": null,
            "grid_template_columns": null,
            "grid_template_rows": null,
            "height": null,
            "justify_content": null,
            "justify_items": null,
            "left": null,
            "margin": null,
            "max_height": null,
            "max_width": null,
            "min_height": null,
            "min_width": null,
            "object_fit": null,
            "object_position": null,
            "order": null,
            "overflow": null,
            "overflow_x": null,
            "overflow_y": null,
            "padding": null,
            "right": null,
            "top": null,
            "visibility": null,
            "width": null
          }
        },
        "ee7fef20b2da43e591b5c502fb72b631": {
          "model_module": "@jupyter-widgets/controls",
          "model_module_version": "1.5.0",
          "model_name": "FloatProgressModel",
          "state": {
            "_dom_classes": [],
            "_model_module": "@jupyter-widgets/controls",
            "_model_module_version": "1.5.0",
            "_model_name": "FloatProgressModel",
            "_view_count": null,
            "_view_module": "@jupyter-widgets/controls",
            "_view_module_version": "1.5.0",
            "_view_name": "ProgressView",
            "bar_style": "success",
            "description": "",
            "description_tooltip": null,
            "layout": "IPY_MODEL_fcab5a1b1d5943cf89f7385155dcfead",
            "max": 105,
            "min": 0,
            "orientation": "horizontal",
            "style": "IPY_MODEL_ab852e22b3534a49a1aa0cb250ad92c9",
            "value": 105
          }
        },
        "f6f8d55e82ca434cb555c69815819920": {
          "model_module": "@jupyter-widgets/controls",
          "model_module_version": "1.5.0",
          "model_name": "DescriptionStyleModel",
          "state": {
            "_model_module": "@jupyter-widgets/controls",
            "_model_module_version": "1.5.0",
            "_model_name": "DescriptionStyleModel",
            "_view_count": null,
            "_view_module": "@jupyter-widgets/base",
            "_view_module_version": "1.2.0",
            "_view_name": "StyleView",
            "description_width": ""
          }
        },
        "fcab5a1b1d5943cf89f7385155dcfead": {
          "model_module": "@jupyter-widgets/base",
          "model_module_version": "1.2.0",
          "model_name": "LayoutModel",
          "state": {
            "_model_module": "@jupyter-widgets/base",
            "_model_module_version": "1.2.0",
            "_model_name": "LayoutModel",
            "_view_count": null,
            "_view_module": "@jupyter-widgets/base",
            "_view_module_version": "1.2.0",
            "_view_name": "LayoutView",
            "align_content": null,
            "align_items": null,
            "align_self": null,
            "border": null,
            "bottom": null,
            "display": null,
            "flex": null,
            "flex_flow": null,
            "grid_area": null,
            "grid_auto_columns": null,
            "grid_auto_flow": null,
            "grid_auto_rows": null,
            "grid_column": null,
            "grid_gap": null,
            "grid_row": null,
            "grid_template_areas": null,
            "grid_template_columns": null,
            "grid_template_rows": null,
            "height": null,
            "justify_content": null,
            "justify_items": null,
            "left": null,
            "margin": null,
            "max_height": null,
            "max_width": null,
            "min_height": null,
            "min_width": null,
            "object_fit": null,
            "object_position": null,
            "order": null,
            "overflow": null,
            "overflow_x": null,
            "overflow_y": null,
            "padding": null,
            "right": null,
            "top": null,
            "visibility": null,
            "width": null
          }
        },
        "fe68ae87fcfb4a37a778c904ec2e37b5": {
          "model_module": "@jupyter-widgets/base",
          "model_module_version": "1.2.0",
          "model_name": "LayoutModel",
          "state": {
            "_model_module": "@jupyter-widgets/base",
            "_model_module_version": "1.2.0",
            "_model_name": "LayoutModel",
            "_view_count": null,
            "_view_module": "@jupyter-widgets/base",
            "_view_module_version": "1.2.0",
            "_view_name": "LayoutView",
            "align_content": null,
            "align_items": null,
            "align_self": null,
            "border": null,
            "bottom": null,
            "display": null,
            "flex": null,
            "flex_flow": null,
            "grid_area": null,
            "grid_auto_columns": null,
            "grid_auto_flow": null,
            "grid_auto_rows": null,
            "grid_column": null,
            "grid_gap": null,
            "grid_row": null,
            "grid_template_areas": null,
            "grid_template_columns": null,
            "grid_template_rows": null,
            "height": null,
            "justify_content": null,
            "justify_items": null,
            "left": null,
            "margin": null,
            "max_height": null,
            "max_width": null,
            "min_height": null,
            "min_width": null,
            "object_fit": null,
            "object_position": null,
            "order": null,
            "overflow": null,
            "overflow_x": null,
            "overflow_y": null,
            "padding": null,
            "right": null,
            "top": null,
            "visibility": null,
            "width": null
          }
        }
      }
    }
  },
  "nbformat": 4,
  "nbformat_minor": 0
}
